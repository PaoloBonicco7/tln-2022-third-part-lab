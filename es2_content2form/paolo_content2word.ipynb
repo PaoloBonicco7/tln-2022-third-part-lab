{
 "cells": [
  {
   "cell_type": "markdown",
   "metadata": {},
   "source": [
    "# Esercizio 2\n"
   ]
  },
  {
   "cell_type": "markdown",
   "metadata": {},
   "source": [
    "### Appunti"
   ]
  },
  {
   "cell_type": "markdown",
   "metadata": {},
   "source": [
    "- Prendo le def\n",
    "- calcolo i termini più frequenti\n",
    "- faccio disambiguation\n",
    "- ottengo synset piu frequenti - che saranno i possibili genus\n",
    "- confronto \n",
    "\n",
    "*DEF di genus:*  Iperonimo più comune dell'oggetto che si pensa che l'interlocutore possa conoscere al meglio; Non sono elementi iper generici o iper specifici, sono ad un livello mediio che più o meno tutti conosciamo (es. mela, pera --> Frutto)\n",
    "\n",
    "Il punto è non cofrontare tutte le definizioni (100K+) ma confrontarle solo con i genus"
   ]
  },
  {
   "cell_type": "markdown",
   "metadata": {},
   "source": [
    "### Approccio utilizzato "
   ]
  },
  {
   "cell_type": "code",
   "execution_count": null,
   "metadata": {},
   "outputs": [],
   "source": [
    "from string import punctuation\n",
    "from nltk.tokenize import word_tokenize\n",
    "from nltk.corpus import wordnet as wn\n",
    "from nltk.corpus import stopwords\n",
    "from collections import Counter\n",
    "from nltk.wsd import lesk"
   ]
  },
  {
   "cell_type": "markdown",
   "metadata": {},
   "source": [
    "## Utilities"
   ]
  },
  {
   "cell_type": "code",
   "execution_count": null,
   "metadata": {},
   "outputs": [],
   "source": [
    "def word_sense_disambiguation(list_words, word):\n",
    "    '''\n",
    "    Using wordnet's lesk function for disambiguation,\n",
    "    return the first synset\n",
    "    '''\n",
    "    right_synset = lesk(list_words, word)\n",
    "    return right_synset\n",
    "\n",
    "def remove_stop_words(row):\n",
    "    stop_words = set(stopwords.words('english'))\n",
    "    punctuation = [',', '.', ';', '!', '?', \"'\", \"''\", '\"', \"’\", \"’’\", \"`\",\"``\"]\n",
    "    filtered_sentence = [w for w in row if not w.lower() in stop_words and w not in punctuation]\n",
    "    return filtered_sentence\n",
    "\n",
    "def calculate_frequency(row):\n",
    "    '''\n",
    "    Calculate the frequency of each word in the sentence\n",
    "    '''\n",
    "    freq_dict = {}\n",
    "    row = remove_stop_words(word_tokenize(row))\n",
    "    for word in row[1:]:\n",
    "        if word.lower() not in freq_dict:\n",
    "            freq_dict[word.lower()] = 1\n",
    "        else:\n",
    "            freq_dict[word.lower()] += 1\n",
    "    return freq_dict\n",
    "\n",
    "def freq_synset(list):\n",
    "    '''\n",
    "    Calculate the frequency of each synset in a list of synsets\n",
    "    '''\n",
    "    freq_dict = {}\n",
    "    for word in list:\n",
    "        if word not in freq_dict:\n",
    "            freq_dict[word] = 1\n",
    "        else:\n",
    "            freq_dict[word] += 1\n",
    "    return freq_dict\n",
    "\n",
    "def get_genus(most_freq):\n",
    "    '''\n",
    "    Find all the hypernyms of a list of word\n",
    "    '''\n",
    "    synsets, genus_list = [], []\n",
    "    \n",
    "    # Save the first synset for the most frequent term in definitions\n",
    "    for word in most_freq:\n",
    "        # Check if there are ampty values and save the first synset\n",
    "        if(len(wn.synsets(word[0])) > 0):\n",
    "            #print(f\"--> Word: {word} \\n--> Synset: {wn.synsets(word[0])[0]}\\n\")\n",
    "            synsets.append(wn.synsets(word[0])[0])\n",
    "\n",
    "    # for each synset let find all hyponyms and hypernyms and then compare them\n",
    "    for syn in synsets:\n",
    "        genus_list.append(syn.hypernyms())\n",
    "        # genus_list.append(syn.hyponyms())\n",
    "                \n",
    "    # list of list to list\n",
    "    genus = [x for xs in genus_list for x in xs]\n",
    "    \n",
    "    return genus"
   ]
  },
  {
   "cell_type": "markdown",
   "metadata": {},
   "source": [
    "## Execution"
   ]
  },
  {
   "cell_type": "markdown",
   "metadata": {},
   "source": [
    "### Print the most common word in the definitions with their synset"
   ]
  },
  {
   "cell_type": "code",
   "execution_count": null,
   "metadata": {},
   "outputs": [],
   "source": [
    "with open ('../def.csv', 'r') as f:\n",
    "    for row in f:\n",
    "        dict = calculate_frequency(row)\n",
    "        count = Counter(dict)\n",
    "        most_freq = count.most_common(5)\n",
    "        #print(f'\\n--> Starting word: *{row.split(\",\")[0]}*\\n')\n",
    "                        \n",
    "        genus = get_genus(most_freq)\n",
    "        print(f'\\n{genus}\\n')\n",
    "        \n",
    "        # Counter most frequent hypernyms and print it\n",
    "        count_genus = Counter(freq_synset(genus))\n",
    "        \n",
    "        # print(count_genus)\n",
    "        # print(f'{row.split(\",\")[0]}: {count_genus.most_common(5)}')\n",
    "\n",
    "        "
   ]
  },
  {
   "cell_type": "markdown",
   "metadata": {},
   "source": [
    "### Synset Closure"
   ]
  },
  {
   "cell_type": "code",
   "execution_count": 59,
   "metadata": {},
   "outputs": [
    {
     "ename": "TypeError",
     "evalue": "'list' object is not callable",
     "output_type": "error",
     "traceback": [
      "\u001b[0;31m---------------------------------------------------------------------------\u001b[0m",
      "\u001b[0;31mTypeError\u001b[0m                                 Traceback (most recent call last)",
      "\u001b[1;32m/Users/paolobonicco/virtual-envs/tln-2022-third-part-lab/es2_content2form/paolo_content2word.ipynb Cell 12'\u001b[0m in \u001b[0;36m<cell line: 4>\u001b[0;34m()\u001b[0m\n\u001b[1;32m     <a href='vscode-notebook-cell:/Users/paolobonicco/virtual-envs/tln-2022-third-part-lab/es2_content2form/paolo_content2word.ipynb#ch0000013?line=12'>13</a>\u001b[0m         \u001b[39m# print(syn.closure(hyper))\u001b[39;00m\n\u001b[1;32m     <a href='vscode-notebook-cell:/Users/paolobonicco/virtual-envs/tln-2022-third-part-lab/es2_content2form/paolo_content2word.ipynb#ch0000013?line=13'>14</a>\u001b[0m         dog \u001b[39m=\u001b[39m wn\u001b[39m.\u001b[39msynset(\u001b[39m'\u001b[39m\u001b[39mdog.n.01\u001b[39m\u001b[39m'\u001b[39m)\n\u001b[0;32m---> <a href='vscode-notebook-cell:/Users/paolobonicco/virtual-envs/tln-2022-third-part-lab/es2_content2form/paolo_content2word.ipynb#ch0000013?line=14'>15</a>\u001b[0m         \u001b[39mlist\u001b[39;49m(dog\u001b[39m.\u001b[39;49mclosure(hyper))\n\u001b[1;32m     <a href='vscode-notebook-cell:/Users/paolobonicco/virtual-envs/tln-2022-third-part-lab/es2_content2form/paolo_content2word.ipynb#ch0000013?line=16'>17</a>\u001b[0m \u001b[39mprint\u001b[39m(\u001b[39m'\u001b[39m\u001b[39m\\n\u001b[39;00m\u001b[39m\\n\u001b[39;00m\u001b[39m\\n\u001b[39;00m\u001b[39m'\u001b[39m)\n",
      "\u001b[0;31mTypeError\u001b[0m: 'list' object is not callable"
     ]
    }
   ],
   "source": [
    "hypo = lambda s: s.hyponyms()\n",
    "hyper = lambda s: s.hypernyms()\n",
    "\n",
    "with open ('../def.csv', 'r') as f:\n",
    "    for row in f:\n",
    "        dict = calculate_frequency(row)\n",
    "        count = Counter(dict)\n",
    "        most_freq = count.most_common(5)\n",
    "        \n",
    "        for word in most_freq:\n",
    "            if(len(wn.synsets(word[0])) > 0):\n",
    "                syn = wn.synsets(word[0])[0]\n",
    "                # print(syn.closure(hyper))\n",
    "                dog = wn.synset('dog.n.01')\n",
    "                list(dog.closure(hyper))\n",
    "                    \n",
    "        print('\\n\\n\\n')\n",
    "        \n",
    "\n",
    "\n",
    "# list(dog.closure(hypo, depth=1)) == dog.hyponyms()\n",
    "# True\n",
    "# list(dog.closure(hyper, depth=1)) == dog.hypernyms()\n",
    "# True\n",
    "# list(dog.closure(hypo))\n",
    "# list(dog.closure(hyper))\n",
    "\n"
   ]
  },
  {
   "cell_type": "markdown",
   "metadata": {},
   "source": [
    "### Fallimentare prova utilizzo lowest common hypernym"
   ]
  },
  {
   "cell_type": "code",
   "execution_count": null,
   "metadata": {},
   "outputs": [],
   "source": [
    "#* Lowest common hypernym approach\n",
    "#! Don't work: Return too generic genus\n",
    "lch = []\n",
    "# check lowest common hypernym\n",
    "for i in range(len(genus)-1):\n",
    "        for j in range(len(genus)):\n",
    "                lch.append(genus[i].lowest_common_hypernyms(genus[j]))     \n",
    "                # print(lch)"
   ]
  }
 ],
 "metadata": {
  "interpreter": {
   "hash": "3fc711e4ee2b6550a1e55fb58a23702f691a325dedbbea2e10fa55c056de4b98"
  },
  "kernelspec": {
   "display_name": "Python 3.10.4 ('venvdicaro': venv)",
   "language": "python",
   "name": "python3"
  },
  "language_info": {
   "codemirror_mode": {
    "name": "ipython",
    "version": 3
   },
   "file_extension": ".py",
   "mimetype": "text/x-python",
   "name": "python",
   "nbconvert_exporter": "python",
   "pygments_lexer": "ipython3",
   "version": "3.10.4"
  },
  "orig_nbformat": 4
 },
 "nbformat": 4,
 "nbformat_minor": 2
}
