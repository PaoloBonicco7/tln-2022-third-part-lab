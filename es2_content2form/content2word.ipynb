{
 "cells": [
  {
   "cell_type": "markdown",
   "metadata": {},
   "source": [
    "### Approccio"
   ]
  },
  {
   "cell_type": "markdown",
   "metadata": {},
   "source": [
    "- Prendo il termine più frequente nelle definizioni, sarà il genus\n",
    "- Stopwords removing e lemming delle definizioni\n",
    "- Prelevo tutto il sottoalbero di hyponimi del genus\n",
    "- Prendo le definizioni (glossa) dei synset di cui ho trovato i hyponimi\n",
    "- Faccio confronto tra definizioni di wordnet e lista di definizioni\n",
    "- Restituisco il synset che ha definizioni più simile a quella della lista"
   ]
  },
  {
   "cell_type": "markdown",
   "metadata": {},
   "source": [
    "### Imports"
   ]
  },
  {
   "cell_type": "code",
   "execution_count": 1,
   "metadata": {},
   "outputs": [],
   "source": [
    "from nltk.corpus import stopwords\n",
    "from collections import Counter\n",
    "from gensim.test.utils import simple_preprocess\n",
    "from nltk.corpus import stopwords\n",
    "from nltk.tokenize import word_tokenize\n",
    "from nltk.corpus import wordnet as wn\n",
    "import random"
   ]
  },
  {
   "cell_type": "markdown",
   "metadata": {},
   "source": [
    "### Methods"
   ]
  },
  {
   "cell_type": "code",
   "execution_count": 2,
   "metadata": {},
   "outputs": [],
   "source": [
    "def get_text_from_file(path):\n",
    "    '''\n",
    "    Read a file and, after revoving all stopwords, return a list of words.\n",
    "    '''\n",
    "    file = []\n",
    "    stop_words = set(stopwords.words('english'))\n",
    "    with open (path, 'r') as f:\n",
    "        for row in f:\n",
    "            filtered_s = [w for w in word_tokenize(row) if not w.lower() in stop_words]\n",
    "            file.append(simple_preprocess(str(filtered_s), deacc=True))\n",
    "    f.close()\n",
    "    return file\n",
    "\n",
    "def get_most_freq_words(text, nword):\n",
    "    '''\n",
    "    Given a list of sententeces, return the nword most frequent words\n",
    "    in each row of the document.\n",
    "    '''\n",
    "    genus = []\n",
    "    for row in text:\n",
    "        c = Counter()\n",
    "        c.update(row)\n",
    "        genus.append(c.most_common(nword))\n",
    "    return genus\n",
    "\n",
    "def get_hypos(word):\n",
    "    '''\n",
    "    Return all the hyponyms of a word.\n",
    "    '''\n",
    "    syn = get_synset(word)\n",
    "    hypo_list = list(set([w for s in syn.closure(lambda s:s.hyponyms()) for w in s.lemma_names()]))\n",
    "    return hypo_list\n",
    "\n",
    "def get_hypers(word):\n",
    "    '''\n",
    "    Return all the hypernyms of a word.\n",
    "    '''\n",
    "    syn = get_synset(word)\n",
    "    return syn.hypernyms()\n",
    "\n",
    "def get_synset(word):\n",
    "    '''\n",
    "    Retrurn the first synset of a word.\n",
    "    '''\n",
    "    if(len(wn.synsets(word)) > 0):\n",
    "        return wn.synsets(word)[0]\n",
    "    return None\n"
   ]
  },
  {
   "cell_type": "markdown",
   "metadata": {},
   "source": [
    "### Pre-processing data and find the genus"
   ]
  },
  {
   "cell_type": "code",
   "execution_count": 3,
   "metadata": {},
   "outputs": [
    {
     "name": "stdout",
     "output_type": "stream",
     "text": [
      "[[('feeling', 11), ('human', 8), ('feel', 8)], [('human', 26), ('person', 5), ('homo', 5)], [('someone', 14), ('feeling', 7), ('anger', 7)], [('used', 22), ('object', 15), ('material', 13)]]\n"
     ]
    }
   ],
   "source": [
    "file = get_text_from_file('../res/def.csv')\n",
    "\n",
    "genus = get_most_freq_words(file, 3)\n",
    "\n",
    "print (genus)"
   ]
  },
  {
   "cell_type": "markdown",
   "metadata": {},
   "source": [
    "Prendo le parole più rillevanti nelle definizioni a mano e le uso come genus:\n",
    "- Emotions = feeling\n",
    "- Person = human\n",
    "- Revenge = anger\n",
    "- Brick = construction"
   ]
  },
  {
   "cell_type": "code",
   "execution_count": 4,
   "metadata": {},
   "outputs": [],
   "source": [
    "genus_list = [\"feeling\", \"person\", \"anger\", \"material\"]"
   ]
  },
  {
   "cell_type": "markdown",
   "metadata": {},
   "source": [
    "Proviamo con 3 genus per aumentare accuratezza:"
   ]
  },
  {
   "cell_type": "code",
   "execution_count": 5,
   "metadata": {},
   "outputs": [
    {
     "data": {
      "text/plain": [
       "[['feeling', 'human', 'feel'],\n",
       " ['human', 'person', 'homo'],\n",
       " ['someone', 'feeling', 'anger'],\n",
       " ['used', 'object', 'material']]"
      ]
     },
     "execution_count": 5,
     "metadata": {},
     "output_type": "execute_result"
    }
   ],
   "source": [
    "genus_list = []\n",
    "for el in genus:\n",
    "    genus_list_inner = []\n",
    "    for el2 in el:\n",
    "        genus_list_inner.append(el2[0])\n",
    "    genus_list.append(genus_list_inner)\n",
    "        \n",
    "genus_list"
   ]
  },
  {
   "cell_type": "markdown",
   "metadata": {},
   "source": [
    "### Main"
   ]
  },
  {
   "cell_type": "code",
   "execution_count": 8,
   "metadata": {},
   "outputs": [
    {
     "name": "stdout",
     "output_type": "stream",
     "text": [
      "\t\t\t ['feeling', 'human', 'feel']\n",
      "Word: *painfulness*, score: *4*, the key words are *['feeling', 'feel', 'emotion', 'mental']* and the definition is *emotional distress; a fundamental feeling that people try to avoid*\n",
      "Word: *wonder*, score: *4*, the key words are *['feeling', 'feel', 'something', 'range']* and the definition is *the feeling aroused by something strange and surprising*\n",
      "Word: *wonderment*, score: *4*, the key words are *['feeling', 'feel', 'something', 'range']* and the definition is *the feeling aroused by something strange and surprising*\n",
      "Word: *appetence*, score: *3*, the key words are *['feeling', 'feel', 'something']* and the definition is *a feeling of craving something; ; - Granville Hicks*\n",
      "Word: *unpleasantness*, score: *3*, the key words are *['feeling', 'feel', 'state']* and the definition is *the feeling caused by disagreeable stimuli; one pole of a continuum of states of feeling*\n",
      "\t\t\t ['human', 'person', 'homo']\n",
      "Word: *Algonquin*, score: *3*, the key words are *['living', 'member', 'group']* and the definition is *a member of any of the North American Indian groups speaking an Algonquian language and originally living in the subarctic regions of eastern Canada; many Algonquian tribes migrated south into the woodlands from the Mississippi River to the Atlantic coast*\n",
      "Word: *Canarese*, score: *3*, the key words are *['living', 'member', 'group']* and the definition is *a member of a Kannada-speaking group of people living chiefly in Kanara in southern India*\n",
      "Word: *Blackfoot*, score: *3*, the key words are *['living', 'member', 'group']* and the definition is *a member of a warlike group of Algonquians living in the northwestern plains*\n",
      "Word: *Athapascan*, score: *3*, the key words are *['living', 'member', 'group']* and the definition is *a member of any of the North American Indian groups speaking an Athapaskan language and living in the subarctic regions of western Canada and central Alaska*\n",
      "Word: *Yeniseian*, score: *3*, the key words are *['living', 'member', 'group']* and the definition is *a member of one of the groups living in the Yenisei river valley in western Siberia*\n",
      "\t\t\t ['someone', 'feeling', 'anger']\n",
      "Word: *lightning_rod*, score: *6*, the key words are *['someone', 'action', 'act', 'reaction', 'negative', 'another']* and the definition is *someone who is a frequent target of negative reactions and serves to distract attention from another*\n",
      "Word: *sounding_board*, score: *5*, the key words are *['action', 'act', 'something', 'reaction', 'person']* and the definition is *a person whose reactions to something serve as an indication of its acceptability*\n",
      "Word: *stolidity*, score: *4*, the key words are *['action', 'act', 'emotion', 'reaction']* and the definition is *apathy demonstrated by an absence of emotional reactions*\n",
      "Word: *impassiveness*, score: *4*, the key words are *['action', 'act', 'emotion', 'reaction']* and the definition is *apathy demonstrated by an absence of emotional reactions*\n",
      "Word: *hate*, score: *4*, the key words are *['feeling', 'action', 'act', 'emotion']* and the definition is *the emotion of intense dislike; a feeling of dislike so strong that it demands action*\n",
      "\t\t\t ['used', 'object', 'material']\n",
      "Word: *brick*, score: *7*, the key words are *['used', 'material', 'build', 'clay', 'block', 'building', 'rectangular']* and the definition is *rectangular block of clay baked by the sun or in a kiln; used as a building or paving material*\n",
      "Word: *building_material*, score: *6*, the key words are *['used', 'material', 'build', 'buildings', 'building', 'constructing']* and the definition is *material used for constructing buildings*\n",
      "Word: *roofing_material*, score: *5*, the key words are *['used', 'material', 'build', 'building', 'constructing']* and the definition is *building material used in constructing roofs*\n",
      "Word: *barrack*, score: *5*, the key words are *['used', 'build', 'buildings', 'building', 'house']* and the definition is *a building or group of buildings used to house military personnel*\n",
      "Word: *city_block*, score: *5*, the key words are *['build', 'buildings', 'usually', 'building', 'rectangular']* and the definition is *a rectangular area in a city surrounded by streets and usually containing several buildings*\n"
     ]
    }
   ],
   "source": [
    "# Extract the most used word in the definitions\n",
    "key_words_defs = get_most_freq_words(file, 20)\n",
    "\n",
    "for i in range(len(genus_list)):\n",
    "    \n",
    "    # Top 10 word used in the definitions\n",
    "    key_row = []\n",
    "    for el in key_words_defs[i]:\n",
    "        key_row.append(el[0])\n",
    "    \n",
    "    #! Version with 1 genun\n",
    "    # Get the hyponyms of the genus and find the definition of the hyponyms\n",
    "    # hypo_list = get_hypos(genus_list[i])\n",
    "    # print(hypo_list)\n",
    "    # hypo_def = []\n",
    "    # for hypo in hypo_list:\n",
    "    #     hypo_def.append((hypo, get_synset(hypo).definition()))\n",
    "    \n",
    "    #! version with multiple genus\n",
    "    hypo_list, hypo_def = [], []\n",
    "    for el in genus_list[i]:\n",
    "        hypo_list.append(get_hypos(el))\n",
    "        \n",
    "    hypo_list = [x for xs in hypo_list for x in xs]\n",
    "    for hypo in hypo_list:\n",
    "        hypo_def.append((hypo, get_synset(hypo).definition()))\n",
    "    \n",
    "    # Compare the definition of our definitions (def.csv file) with the definition of the hyponyms\n",
    "    res = []\n",
    "    for wndef in hypo_def: # Definition of the hyponyms in wordnet\n",
    "        score = 0\n",
    "        imp_words = []\n",
    "        for key_word in key_row: # Definition given by us\n",
    "            if(key_word in wndef[1]):\n",
    "                score += 1\n",
    "                imp_words.append(key_word)      \n",
    "        \n",
    "        # Store all the value\n",
    "        res.append((score, wndef[0], imp_words, wndef[1]))\n",
    "        \n",
    "    sorted_list = sorted(res, key=lambda x: x[0])\n",
    "    sorted_res = list(reversed(sorted_list))\n",
    "    print(\"\\t\\t\\t\",genus_list[i])\n",
    "    for k in range(5):\n",
    "        print(f'Word: *{sorted_res[k][1]}*, score: *{sorted_res[k][0]}*, the key words are *{sorted_res[k][2]}* and the definition is *{sorted_res[k][3]}*')\n",
    "        "
   ]
  }
 ],
 "metadata": {
  "kernelspec": {
   "display_name": "Python 3.10.4 ('venvdicaro': venv)",
   "language": "python",
   "name": "python3"
  },
  "language_info": {
   "codemirror_mode": {
    "name": "ipython",
    "version": 3
   },
   "file_extension": ".py",
   "mimetype": "text/x-python",
   "name": "python",
   "nbconvert_exporter": "python",
   "pygments_lexer": "ipython3",
   "version": "3.10.4"
  },
  "orig_nbformat": 4,
  "vscode": {
   "interpreter": {
    "hash": "3fc711e4ee2b6550a1e55fb58a23702f691a325dedbbea2e10fa55c056de4b98"
   }
  }
 },
 "nbformat": 4,
 "nbformat_minor": 2
}
