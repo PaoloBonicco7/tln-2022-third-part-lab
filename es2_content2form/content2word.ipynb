{
 "cells": [
  {
   "cell_type": "markdown",
   "metadata": {},
   "source": [
    "# Esercizio 2\n"
   ]
  },
  {
   "cell_type": "markdown",
   "metadata": {},
   "source": [
    "### Appunti"
   ]
  },
  {
   "cell_type": "markdown",
   "metadata": {},
   "source": [
    "- Prendo le def\n",
    "- calcolo i termini più frequenti\n",
    "- faccio disambiguation\n",
    "- ottengo synset piu frequenti - che saranno i possibili genus\n",
    "- confronto \n",
    "\n",
    "*DEF di genus:*  Iperonimo più comune dell'oggetto che si pensa che l'interlocutore possa conoscere al meglio; Non sono elementi iper generici o iper specifici, sono ad un livello mediio che più o meno tutti conosciamo (es. mela, pera --> Frutto)\n",
    "\n",
    "Il punto è non cofrontare tutte le definizioni (100K+) ma confrontarle solo con i genus"
   ]
  },
  {
   "cell_type": "code",
   "execution_count": 2,
   "metadata": {},
   "outputs": [],
   "source": [
    "from string import punctuation\n",
    "from nltk.tokenize import word_tokenize\n",
    "from nltk.corpus import wordnet as wn\n",
    "from nltk.corpus import stopwords\n",
    "from collections import Counter\n",
    "from nltk.wsd import lesk"
   ]
  },
  {
   "cell_type": "markdown",
   "metadata": {},
   "source": [
    "## Utilities"
   ]
  },
  {
   "cell_type": "code",
   "execution_count": 3,
   "metadata": {},
   "outputs": [],
   "source": [
    "def word_sense_disambiguation(list_words, word):\n",
    "    '''\n",
    "    Using wordnet's lesk function for disambiguation,\n",
    "    return the first synset\n",
    "    '''\n",
    "    right_synset = lesk(list_words, word)\n",
    "    return right_synset\n",
    "\n",
    "def remove_stop_words(row):\n",
    "    stop_words = set(stopwords.words('english'))\n",
    "    punctuation = [',', '.', ';', '!', '?', \"'\", \"''\", '\"', \"’\", \"’’\", \"`\",\"``\"]\n",
    "    filtered_sentence = [w for w in row if not w.lower() in stop_words and w not in punctuation]\n",
    "    return filtered_sentence\n",
    "\n",
    "def calculate_frequency(row):\n",
    "    '''\n",
    "    Calculate the frequency of each word in the sentence\n",
    "    '''\n",
    "    freq_dict = {}\n",
    "    row = remove_stop_words(word_tokenize(row))\n",
    "    for word in row[1:]:\n",
    "        if word.lower() not in freq_dict:\n",
    "            freq_dict[word.lower()] = 1\n",
    "        else:\n",
    "            freq_dict[word.lower()] += 1\n",
    "    return freq_dict\n",
    "\n",
    "def freq_synset(list):\n",
    "    '''\n",
    "    Calculate the frequency of each synset in a list of synsets\n",
    "    '''\n",
    "    freq_dict = {}\n",
    "    for word in list:\n",
    "        if word not in freq_dict:\n",
    "            freq_dict[word] = 1\n",
    "        else:\n",
    "            freq_dict[word] += 1\n",
    "    return freq_dict"
   ]
  },
  {
   "cell_type": "markdown",
   "metadata": {},
   "source": [
    "## Execution"
   ]
  },
  {
   "cell_type": "markdown",
   "metadata": {},
   "source": [
    "### Print the most common word in the definitions with their synset"
   ]
  },
  {
   "cell_type": "code",
   "execution_count": 4,
   "metadata": {},
   "outputs": [
    {
     "name": "stdout",
     "output_type": "stream",
     "text": [
      "{'range': 1, 'concepts': 1, 'human': 8, 'beings': 3, 'feel': 8, 'certain': 2, 'situations': 1, 'something': 6, 'animal': 3, 'think': 1, 'makes': 1, 'good': 1, 'bad': 1, 'sensation': 3, 'arising': 1, 'form': 1, 'feelings': 1, 'state': 4, 'mind': 2, 'living': 4, 'percieve': 1, 'feeling': 10, 'express': 2, 'towards': 1, 'others': 1, 'sentiment': 1, 'entity': 1, 'throw': 1, 'word': 1, 'body.': 1, 'moment': 1, 'experienced': 1, 'sentient': 1, 'cause': 1, 'events': 1, 'happening': 1, 'outside': 1, 'world': 1, 'well': 1, \"'s\": 1, 'ming': 1, 'emotion': 2, 'expressed': 1, 'facial': 1, 'expressions': 1, 'body': 1, 'language': 1, 'verbalizations': 1, 'response': 1, 'event': 1, 'stimulus': 1, 'interpreted': 1, 'brain': 1, 'sentimental': 1, 'reation': 1, 'action': 1, 'u': 1, 'eg': 1, 'happyness': 1, 'sadness': 1, 'love': 1, 'general': 1, 'concept': 1, 'deriving': 1, 'life': 1, 'psychic': 1, 'affect': 1, 'someones': 1, 'mood': 2, 'either': 1, 'positive': 1, 'negative': 1, 'way': 1, 'particular': 1, 'person': 1, 'caused': 1, 'internal': 1, 'external': 1, 'mental': 3, 'reaction': 1, 'strong': 1, 'feeling/state': 1, 'felt': 1, 'agent': 1}\n",
      "Emotion: [(Synset('state.n.02'), 1), (Synset('hominid.n.01'), 1), (Synset('awareness.n.01'), 1), (Synset('administrative_district.n.01'), 1)]\n",
      "{'human': 26, 'generic': 1, 'person': 4, 'describe': 1, 'single': 1, 'precise': 1, 'features': 1, 'living': 3, 'belonging': 1, 'group': 1, 'society': 1, 'mammal': 1, 'descending': 1, 'apes': 1, 'entity': 1, 'sentient': 1, 'u': 1, 'see': 1, 'touch': 1, 'member': 2, 'homo': 5, 'sapiens': 4, 'species': 3, 'extant': 1, 'genus': 1, 'characterized': 1, 'bipedalism': 1, 'capacity': 1, 'language': 1, 'symbolic': 1, 'thought': 1, 'use': 1, 'tools': 1, 'characteristics': 1, 'individual': 2, 'animal': 1, 'feeling': 1, 'man': 1, 'woman': 1, 'specific': 1}\n",
      "Person: [(Synset('hominid.n.01'), 1), (Synset('person.n.01'), 1), (Synset('causal_agent.n.01'), 1), (Synset('organism.n.01'), 1), (Synset('experience.n.02'), 1)]\n",
      "{'feeling': 7, 'usually': 1, 'negative': 3, 'consequence': 2, 'wrongdoing': 1, 'done': 2, 'someone': 14, 'resulting': 2, 'bad': 3, 'action': 6, 'emotion': 5, 'describes': 1, 'anger': 7, 'classified': 1, 'generally': 2, 'good': 1, 'describe': 1, 'toward': 1, 'specific': 1, 'person': 4, 'entity': 1, 'act': 6, 'performed': 1, 'living': 1, 'triggered': 1, 'emotions': 1, 'hatred': 1, 'another': 2, 'foe': 1, 'something': 6, 'motivated': 1, 'sentiment': 1, 'disillusionment': 1, 'leads': 1, 'sentient': 1, 'certain': 1, 'way': 1, 'towards': 3, 'else': 1, 'taken': 1, 'sub-class': 1, 'emotional': 1, 'reaction': 5, 'harm': 1, 'arising': 1, 'facing': 1, 'hurting': 4, 'supervene': 1, 'hurt': 3, 'desire': 1, 'state': 1, 'mind': 1, 'consists': 1, 'committed': 1, 'wrong': 2, 'smn': 1, 'revenge': 1, 'return': 2, 'one': 1, 'take': 1, 'response': 1, 'injure': 1, 'situation': 1, 'individual': 1, 'intention': 1, 'harming': 1, 'thing': 1, 'caused': 1, 'angry': 1, \"'s\": 1, 'get': 1, 'back': 1, 'mental': 1, 'getting': 1, 'make': 1, 'damaging': 2, 'injury': 1, 'wish': 1, 'damage': 1, 'mood': 1}\n",
      "Revenge: [(Synset('causal_agent.n.01'), 1), (Synset('organism.n.01'), 1), (Synset('state.n.02'), 1), (Synset('emotion.n.01'), 1), (Synset('act.n.02'), 1)]\n",
      "{'object': 15, 'made': 6, 'material': 13, '(': 3, 'e.g': 1, 'clay': 6, ')': 3, 'usually': 4, 'aim': 1, 'constructing': 2, 'buildings': 7, 'block': 4, 'used': 22, 'construction': 12, 'basic': 1, 'element': 2, 'like': 2, 'building': 3, 'piece': 2, 'build': 12, 'something': 4, 'parallelepiped': 1, 'tool': 1, 'resistnat': 1, 'polygonal': 1, 'shape': 1, 'different': 1, 'shapes': 1, 'sizes': 1, 'walls': 1, 'red': 1, 'constructions': 3, 'e.i': 1, 'generally': 1, 'cunstruction': 1, 'es': 1, 'brick': 2, 'wall': 1, 'phyisical': 1, 'houses': 1, 'physical': 1, 'house': 2, 'well': 1, 'eg': 1, 'costruction': 1, 'materials': 1, 'part': 1, 'things': 1, 'structure': 1, 'rectangular-shaped': 2}\n",
      "Brick: [(Synset('physical_entity.n.01'), 1), (Synset('substance.n.01'), 1), (Synset('creating_from_raw_materials.n.01'), 1), (Synset('bodily_property.n.01'), 1)]\n"
     ]
    }
   ],
   "source": [
    "with open ('../res/def.csv', 'r') as f:\n",
    "    for row in f:\n",
    "        dict = calculate_frequency(row)\n",
    "        synsets, genus_list = [], []\n",
    "        print(dict)\n",
    "        count = Counter(dict)\n",
    "        most_freq = count.most_common(5)\n",
    "        #print(f'\\n--> Starting word: *{row.split(\",\")[0]}*\\n')\n",
    "        \n",
    "        for word in most_freq:\n",
    "            # Check if there are ampty values and save the first synset\n",
    "            if(len(wn.synsets(word[0])) > 0):\n",
    "                #print(f\"--> Word: {word} \\n--> Synset: {wn.synsets(word[0])[0]}\\n\")\n",
    "                synsets.append(wn.synsets(word[0])[0])\n",
    "                \n",
    "        # for each synset let find all hyponyms and hypernyms and then compare them\n",
    "        for syn in synsets:\n",
    "            genus_list.append(syn.hypernyms())\n",
    "            # genus_list.append(syn.hyponyms())\n",
    "\n",
    "        # list of list to list\n",
    "        genus = [x for xs in genus_list for x in xs]\n",
    "        count_genus = Counter(freq_synset(genus))\n",
    "        print(f'{row.split(\",\")[0]}: {count_genus.most_common(5)}')\n",
    "\n",
    "        "
   ]
  }
 ],
 "metadata": {
  "kernelspec": {
   "display_name": "Python 3.10.4 ('venvdicaro': venv)",
   "language": "python",
   "name": "python3"
  },
  "language_info": {
   "codemirror_mode": {
    "name": "ipython",
    "version": 3
   },
   "file_extension": ".py",
   "mimetype": "text/x-python",
   "name": "python",
   "nbconvert_exporter": "python",
   "pygments_lexer": "ipython3",
   "version": "3.10.4"
  },
  "orig_nbformat": 4,
  "vscode": {
   "interpreter": {
    "hash": "3fc711e4ee2b6550a1e55fb58a23702f691a325dedbbea2e10fa55c056de4b98"
   }
  }
 },
 "nbformat": 4,
 "nbformat_minor": 2
}
