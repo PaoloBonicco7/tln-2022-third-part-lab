{
 "cells": [
  {
   "cell_type": "markdown",
   "metadata": {},
   "source": [
    "Appunti:Prendo le def\n",
    "calcolo i termini più frequenti\n",
    "faccio disambiguation\n",
    "ottengo synset piu frequenti - che saranno i possibili genus\n",
    "confronto\n",
    "Il punto è non cofrontare tutte le definizioni (100K+) ma confrontarle solo con i genus"
   ]
  },
  {
   "cell_type": "code",
   "execution_count": 6,
   "metadata": {},
   "outputs": [],
   "source": [
    "from string import punctuation\n",
    "from nltk.tokenize import word_tokenize\n",
    "from nltk.corpus import wordnet as wn\n",
    "from nltk.corpus import stopwords\n",
    "from collections import Counter\n",
    "from nltk.wsd import lesk"
   ]
  },
  {
   "cell_type": "markdown",
   "metadata": {},
   "source": [
    "## Utilities"
   ]
  },
  {
   "cell_type": "code",
   "execution_count": 15,
   "metadata": {},
   "outputs": [
    {
     "name": "stdout",
     "output_type": "stream",
     "text": [
      "lead a certain kind of life; live in a certain style\n"
     ]
    }
   ],
   "source": [
    "def word_sense_disambiguation(list_words, word):\n",
    "    right_synset = lesk(list_words, word)\n",
    "    return right_synset\n",
    "\n",
    "print(word_sense_disambiguation(['i', 'saw', 'concert', 'live', 'in', 'the,' 'stadium', 'sing'], 'live').definition())\n",
    "\n",
    "def remove_stop_words(row):\n",
    "    stop_words = set(stopwords.words('english'))\n",
    "    punctuation = [',', '.', ';', '!', '?', \"'\", \"''\", '\"', \"’\", \"’’\", \"`\",\"``\"]\n",
    "    filtered_sentence = [w for w in row if not w.lower() in stop_words and w not in punctuation]\n",
    "    return filtered_sentence\n",
    "\n",
    "def calculate_frequency(row):\n",
    "    freq_dict = {}\n",
    "    row = remove_stop_words(word_tokenize(row))\n",
    "    for word in row[1:]:\n",
    "        if word.lower() not in freq_dict:\n",
    "            freq_dict[word.lower()] = 1\n",
    "        else:\n",
    "            freq_dict[word.lower()] += 1\n",
    "    return freq_dict"
   ]
  },
  {
   "cell_type": "markdown",
   "metadata": {},
   "source": [
    "## Execution"
   ]
  },
  {
   "cell_type": "code",
   "execution_count": 8,
   "metadata": {},
   "outputs": [
    {
     "name": "stdout",
     "output_type": "stream",
     "text": [
      "[('feeling', 10), ('human', 8), ('feel', 8)]\n",
      "Word: ('feeling', 10) \n",
      "[Synset('affect.n.01'), Synset('affection.n.01'), Synset('agitation.n.03'), Synset('ambivalence.n.01'), Synset('apathy.n.01'), Synset('astonishment.n.01'), Synset('calmness.n.03'), Synset('complex.n.03'), Synset('desire.n.01'), Synset('despair.n.02'), Synset('devastation.n.02'), Synset('dislike.n.02'), Synset('emotion.n.01'), Synset('enthusiasm.n.01'), Synset('expectation.n.03'), Synset('faintness.n.01'), Synset('fearlessness.n.01'), Synset('glow.n.04'), Synset('gratitude.n.01'), Synset('gravity.n.03'), Synset('happiness.n.02'), Synset('hope.n.02'), Synset('humility.n.02'), Synset('ingratitude.n.01'), Synset('levity.n.01'), Synset('liking.n.01'), Synset('pain.n.02'), Synset('pang.n.01'), Synset('passion.n.01'), Synset('pleasure.n.01'), Synset('pride.n.01'), Synset('sadness.n.01'), Synset('sensitivity.n.03'), Synset('sentiment.n.01'), Synset('sex.n.03'), Synset('shame.n.01'), Synset('soul.n.03'), Synset('sympathy.n.02'), Synset('temper.n.02'), Synset('thing.n.11'), Synset('unconcern.n.02')]\n",
      "Word: ('human', 8) \n",
      "[Synset('homo_erectus.n.01'), Synset('homo_habilis.n.01'), Synset('homo_sapiens.n.01'), Synset('homo_soloensis.n.01'), Synset('neandertal_man.n.01'), Synset('rhodesian_man.n.01'), Synset('world.n.08')]\n",
      "Word: ('feel', 8) \n",
      "[]\n",
      "\n",
      "\n",
      "\n",
      "\n",
      "[('human', 26), ('homo', 5), ('sapiens', 4)]\n",
      "Word: ('human', 26) \n",
      "[Synset('homo_erectus.n.01'), Synset('homo_habilis.n.01'), Synset('homo_sapiens.n.01'), Synset('homo_soloensis.n.01'), Synset('neandertal_man.n.01'), Synset('rhodesian_man.n.01'), Synset('world.n.08')]\n",
      "Word: ('homo', 5) \n",
      "[Synset('gay_man.n.01'), Synset('lesbian.n.01')]\n",
      "Word: ('sapiens', 4) \n",
      "[]\n",
      "\n",
      "\n",
      "\n",
      "\n",
      "[('someone', 14), ('feeling', 7), ('anger', 7)]\n",
      "Word: ('someone', 14) \n",
      "[Synset('abator.n.01'), Synset('abjurer.n.01'), Synset('abomination.n.01'), Synset('abstainer.n.02'), Synset('achiever.n.01'), Synset('acquaintance.n.03'), Synset('acquirer.n.01'), Synset('active.n.03'), Synset('actor.n.02'), Synset('adjudicator.n.01'), Synset('admirer.n.02'), Synset('adoptee.n.01'), Synset('adult.n.01'), Synset('adventurer.n.01'), Synset('adversary.n.01'), Synset('advisee.n.01'), Synset('advocate.n.01'), Synset('affiant.n.01'), Synset('african.n.01'), Synset('agnostic.n.01'), Synset('amateur.n.01'), Synset('amerindian.n.01'), Synset('ancient.n.02'), Synset('anomaly.n.02'), Synset('anti-american.n.01'), Synset('anti.n.01'), Synset('applicant.n.01'), Synset('appointee.n.02'), Synset('appreciator.n.01'), Synset('apprehender.n.02'), Synset('aquarius.n.01'), Synset('archaist.n.01'), Synset('aries.n.01'), Synset('arrogator.n.01'), Synset('assessee.n.01'), Synset('asthmatic.n.01'), Synset('authority.n.02'), Synset('autodidact.n.01'), Synset('baby_boomer.n.01'), Synset('baby_buster.n.01'), Synset('bad_guy.n.01'), Synset('bad_person.n.01'), Synset('baldhead.n.01'), Synset('balker.n.01'), Synset('bather.n.02'), Synset('beard.n.03'), Synset('bedfellow.n.02'), Synset('bereaved.n.01'), Synset('best.n.02'), Synset('birth.n.05'), Synset('biter.n.01'), Synset('black.n.05'), Synset('blogger.n.01'), Synset('blond.n.01'), Synset('bluecoat.n.01'), Synset('bodybuilder.n.01'), Synset('bomber.n.02'), Synset('brunet.n.01'), Synset('bullfighter.n.01'), Synset('buster.n.04'), Synset('cancer.n.02'), Synset('candidate.n.02'), Synset('capitalist.n.02'), Synset('capricorn.n.01'), Synset('captor.n.01'), Synset('case.n.06'), Synset('cashier.n.02'), Synset('celebrant.n.01'), Synset('censor.n.01'), Synset('chameleon.n.01'), Synset('changer.n.01'), Synset('charmer.n.02'), Synset('child.n.03'), Synset('chutzpanik.n.01'), Synset('closer.n.01'), Synset('clumsy_person.n.01'), Synset('collector.n.01'), Synset('color-blind_person.n.01'), Synset('combatant.n.01'), Synset('commoner.n.01'), Synset('communicator.n.01'), Synset('complexifier.n.01'), Synset('compulsive.n.01'), Synset('computer_user.n.01'), Synset('contemplative.n.01'), Synset('contestant.n.01'), Synset('convert.n.01'), Synset('copycat.n.01'), Synset('counter.n.05'), Synset('counterterrorist.n.01'), Synset('coward.n.01'), Synset('crawler.n.02'), Synset('creator.n.02'), Synset('creature.n.02'), Synset('creditor.n.01'), Synset('cripple.n.01'), Synset('dancer.n.02'), Synset('dead_person.n.01'), Synset('deaf_person.n.01'), Synset('debaser.n.01'), Synset('debtor.n.01'), Synset('defecator.n.01'), Synset('delayer.n.01'), Synset('deliverer.n.04'), Synset('demander.n.01'), Synset('dieter.n.01'), Synset('differentiator.n.01'), Synset('disentangler.n.01'), Synset('disputant.n.01'), Synset('dissenter.n.01'), Synset('divider.n.02'), Synset('domestic_partner.n.01'), Synset('double.n.03'), Synset('dresser.n.02'), Synset('dribbler.n.02'), Synset('drug_user.n.01'), Synset('dyslectic.n.01'), Synset('ectomorph.n.01'), Synset('effecter.n.01'), Synset('elizabethan.n.01'), Synset('emotional_person.n.01'), Synset('endomorph.n.01'), Synset('engineer.n.01'), Synset('enjoyer.n.01'), Synset('enrollee.n.01'), Synset('entertainer.n.01'), Synset('ethnic.n.01'), Synset('experimenter.n.02'), Synset('expert.n.01'), Synset('explorer.n.01'), Synset('extrovert.n.01'), Synset('face.n.05'), Synset('faddist.n.01'), Synset('faller.n.02'), Synset('fastener.n.01'), Synset('female.n.02'), Synset('fiduciary.n.01'), Synset('first-rater.n.01'), Synset('follower.n.01'), Synset('free_agent.n.02'), Synset('friend.n.01'), Synset('fugitive.n.01'), Synset('gainer.n.01'), Synset('gainer.n.02'), Synset('gambler.n.01'), Synset('gatekeeper.n.01'), Synset('gatherer.n.01'), Synset('gemini.n.01'), Synset('gentile.n.02'), Synset('good_guy.n.01'), Synset('good_person.n.01'), Synset('granter.n.01'), Synset('greeter.n.01'), Synset('grinner.n.01'), Synset('groaner.n.01'), Synset('grunter.n.01'), Synset('guesser.n.01'), Synset('handicapped_person.n.01'), Synset('hater.n.01'), Synset('heterosexual.n.01'), Synset('homosexual.n.01'), Synset('homunculus.n.02'), Synset('hope.n.04'), Synset('hoper.n.01'), Synset('huddler.n.02'), Synset('hugger.n.01'), Synset('immune.n.01'), Synset('individualist.n.01'), Synset('inhabitant.n.01'), Synset('innocent.n.01'), Synset('insured.n.01'), Synset('intellectual.n.01'), Synset('interpreter.n.02'), Synset('introvert.n.01'), Synset('jat.n.01'), Synset('jew.n.01'), Synset('jewel.n.02'), Synset('jumper.n.01'), Synset('junior.n.03'), Synset('juvenile.n.01'), Synset('killer.n.01'), Synset('kink.n.03'), Synset('kneeler.n.01'), Synset('knocker.n.02'), Synset('knower.n.01'), Synset('large_person.n.01'), Synset('latin.n.03'), Synset('laugher.n.01'), Synset('leader.n.01'), Synset('learner.n.01'), Synset('left-hander.n.02'), Synset('leo.n.01'), Synset('libra.n.01'), Synset('life.n.08'), Synset('lightning_rod.n.01'), Synset('linguist.n.02'), Synset('literate.n.01'), Synset('liver.n.03'), Synset('longer.n.01'), Synset('loose_cannon.n.01'), Synset('loved_one.n.01'), Synset('lover.n.01'), Synset('machine.n.02'), Synset('mailer.n.02'), Synset('malcontent.n.01'), Synset('male.n.02'), Synset('man.n.03'), Synset('man_jack.n.01'), Synset('manipulator.n.02'), Synset('married.n.01'), Synset('masturbator.n.01'), Synset('measurer.n.01'), Synset('mesomorph.n.01'), Synset('mestizo.n.01'), Synset('middlebrow.n.01'), Synset('miracle_man.n.01'), Synset('misogamist.n.01'), Synset('mixed-blood.n.01'), Synset('modern.n.01'), Synset('money_handler.n.01'), Synset('monolingual.n.01'), Synset('mother_hen.n.01'), Synset('mouse.n.03'), Synset('mutilator.n.01'), Synset('namer.n.01'), Synset('namesake.n.01'), Synset('national.n.01'), Synset('native.n.01'), Synset('native.n.02'), Synset('neglecter.n.01'), Synset('neighbor.n.01'), Synset('neutral.n.01'), Synset('nondescript.n.01'), Synset('nonmember.n.01'), Synset('nonparticipant.n.01'), Synset('nonpartisan.n.01'), Synset('nonperson.n.01'), Synset('nonreligious_person.n.01'), Synset('nonresident.n.01'), Synset('nonsmoker.n.01'), Synset('nonworker.n.01'), Synset('nude.n.03'), Synset('nurser.n.01'), Synset('occultist.n.01'), Synset('optimist.n.01'), Synset('orphan.n.02'), Synset('ostrich.n.01'), Synset('ouster.n.01'), Synset('outcaste.n.01'), Synset('outdoorsman.n.01'), Synset('owner.n.02'), Synset('pamperer.n.01'), Synset('pansexual.n.01'), Synset('pardoner.n.01'), Synset('partner.n.03'), Synset('party.n.05'), Synset('passer.n.02'), Synset('peer.n.01'), Synset('perceiver.n.01'), Synset('percher.n.01'), Synset('person_of_color.n.01'), Synset('personage.n.01'), Synset('personification.n.01'), Synset('perspirer.n.01'), Synset('philosopher.n.02'), Synset('picker.n.01'), Synset('pisces.n.02'), Synset('pisser.n.01'), Synset('planner.n.01'), Synset('player.n.04'), Synset('posturer.n.01'), Synset('powderer.n.01'), Synset('precursor.n.02'), Synset('preserver.n.03'), Synset('primitive.n.01'), Synset('propositus.n.01'), Synset('public_relations_person.n.01'), Synset('pursuer.n.02'), Synset('pussycat.n.01'), Synset('quarter.n.11'), Synset('quitter.n.01'), Synset('radical.n.03'), Synset('realist.n.02'), Synset('rectifier.n.02'), Synset('redhead.n.01'), Synset('registrant.n.01'), Synset('relative.n.01'), Synset('reliever.n.02'), Synset('religious_person.n.01'), Synset('repeater.n.01'), Synset('rescuer.n.02'), Synset('rester.n.01'), Synset('restrainer.n.02'), Synset('revenant.n.01'), Synset('rich_person.n.01'), Synset('right-hander.n.02'), Synset('riser.n.01'), Synset('romper.n.01'), Synset('roundhead.n.01'), Synset('ruler.n.01'), Synset('rusher.n.03'), Synset('sagittarius.n.01'), Synset('scientist.n.01'), Synset('scorpio.n.01'), Synset('scratcher.n.02'), Synset('second-rater.n.01'), Synset('seeder.n.01'), Synset('seeker.n.01'), Synset('segregate.n.01'), Synset('self.n.02'), Synset('sensualist.n.01'), Synset('sentimentalist.n.01'), Synset('sex_object.n.01'), Synset('sex_symbol.n.01'), Synset('shaker.n.01'), Synset('showman.n.01'), Synset('signer.n.02'), Synset('simpleton.n.01'), Synset('six-footer.n.01'), Synset('skidder.n.01'), Synset('slav.n.01'), Synset('slave.n.01'), Synset('slave.n.03'), Synset('sleepyhead.n.01'), Synset('sloucher.n.01'), Synset('small_person.n.01'), Synset('smasher.n.01'), Synset('smiler.n.01'), Synset('sneezer.n.01'), Synset('sniffer.n.01'), Synset('sniffler.n.01'), Synset('snuffer.n.02'), Synset('snuffler.n.01'), Synset('socializer.n.01'), Synset('sort.n.03'), Synset('sounding_board.n.01'), Synset('sphinx.n.01'), Synset('spitter.n.01'), Synset('sport.n.04'), Synset('sprawler.n.01'), Synset('spurner.n.01'), Synset('squinter.n.01'), Synset('stifler.n.01'), Synset('stigmatic.n.01'), Synset('stooper.n.02'), Synset('stranger.n.02'), Synset('struggler.n.01'), Synset('subject.n.06'), Synset('supernumerary.n.01'), Synset('surrenderer.n.01'), Synset('survivalist.n.01'), Synset('survivor.n.02'), Synset('suspect.n.01'), Synset('tagger.n.01'), Synset('tagger.n.02'), Synset('tapper.n.02'), Synset('taurus.n.02'), Synset('tempter.n.01'), Synset('termer.n.01'), Synset('terror.n.02'), Synset('testator.n.01'), Synset('thin_person.n.01'), Synset('third-rater.n.01'), Synset('thrower.n.02'), Synset('tiger.n.01'), Synset('totemist.n.01'), Synset('toucher.n.01'), Synset('transfer.n.02'), Synset('transsexual.n.02'), Synset('transvestite.n.01'), Synset('traveler.n.01'), Synset('trier.n.02'), Synset('turner.n.07'), Synset('tyrant.n.03'), Synset('undoer.n.02'), Synset('unfortunate.n.01'), Synset('unskilled_person.n.01'), Synset('unwelcome_person.n.01'), Synset('user.n.01'), Synset('vanisher.n.01'), Synset('victim.n.02'), Synset('victorian.n.01'), Synset('virgo.n.01'), Synset('visionary.n.01'), Synset('visually_impaired_person.n.01'), Synset('waiter.n.02'), Synset('waker.n.02'), Synset('walk-in.n.01'), Synset('wanter.n.01'), Synset('ward.n.01'), Synset('warrior.n.01'), Synset('watcher.n.03'), Synset('weakling.n.01'), Synset('weasel.n.01'), Synset('white.n.01'), Synset('wiggler.n.01'), Synset('winker.n.01'), Synset('withholder.n.01'), Synset('witness.n.05'), Synset('worker.n.01'), Synset('worldling.n.01'), Synset('yawner.n.01')]\n",
      "Word: ('feeling', 7) \n",
      "[Synset('affect.n.01'), Synset('affection.n.01'), Synset('agitation.n.03'), Synset('ambivalence.n.01'), Synset('apathy.n.01'), Synset('astonishment.n.01'), Synset('calmness.n.03'), Synset('complex.n.03'), Synset('desire.n.01'), Synset('despair.n.02'), Synset('devastation.n.02'), Synset('dislike.n.02'), Synset('emotion.n.01'), Synset('enthusiasm.n.01'), Synset('expectation.n.03'), Synset('faintness.n.01'), Synset('fearlessness.n.01'), Synset('glow.n.04'), Synset('gratitude.n.01'), Synset('gravity.n.03'), Synset('happiness.n.02'), Synset('hope.n.02'), Synset('humility.n.02'), Synset('ingratitude.n.01'), Synset('levity.n.01'), Synset('liking.n.01'), Synset('pain.n.02'), Synset('pang.n.01'), Synset('passion.n.01'), Synset('pleasure.n.01'), Synset('pride.n.01'), Synset('sadness.n.01'), Synset('sensitivity.n.03'), Synset('sentiment.n.01'), Synset('sex.n.03'), Synset('shame.n.01'), Synset('soul.n.03'), Synset('sympathy.n.02'), Synset('temper.n.02'), Synset('thing.n.11'), Synset('unconcern.n.02')]\n",
      "Word: ('anger', 7) \n",
      "[Synset('annoyance.n.02'), Synset('bad_temper.n.01'), Synset('dander.n.02'), Synset('fury.n.01'), Synset('huffiness.n.01'), Synset('indignation.n.01'), Synset('infuriation.n.01'), Synset('umbrage.n.01')]\n",
      "\n",
      "\n",
      "\n",
      "\n",
      "[('used', 22), ('object', 15), ('material', 13)]\n",
      "Word: ('used', 22) \n",
      "[Synset('address.v.05'), Synset('avail.v.01'), Synset('cannibalize.v.02'), Synset('enjoy.v.02'), Synset('exert.v.01'), Synset('exploit.v.01'), Synset('exploit.v.02'), Synset('fall_back.v.05'), Synset('give.v.18'), Synset('implement.v.01'), Synset('misapply.v.01'), Synset('overuse.v.01'), Synset('play.v.32'), Synset('play.v.33'), Synset('ply.v.06'), Synset('pull_out_all_the_stops.v.01'), Synset('put.v.04'), Synset('recycle.v.02'), Synset('share.v.02'), Synset('strain.v.03'), Synset('take.v.09'), Synset('waste.v.02'), Synset('work.v.12')]\n",
      "Word: ('object', 15) \n",
      "[Synset('catch.n.04'), Synset('charm.n.03'), Synset('commemorative.n.01'), Synset('curio.n.01'), Synset('discard.n.01'), Synset('draw.n.04'), Synset('film.n.04'), Synset('finding.n.03'), Synset('floater.n.07'), Synset('fomite.n.01'), Synset('geological_formation.n.01'), Synset('growth.n.07'), Synset('hail.n.02'), Synset('head.n.17'), Synset('hoodoo.n.04'), Synset('ice.n.02'), Synset('je_ne_sais_quoi.n.01'), Synset('keepsake.n.01'), Synset('land.n.02'), Synset('land.n.04'), Synset('location.n.01'), Synset('makeweight.n.01'), Synset('moon.n.02'), Synset('neighbor.n.02'), Synset('paring.n.02'), Synset('part.n.02'), Synset('property.n.05'), Synset('remains.n.01'), Synset('ribbon.n.01'), Synset('shiner.n.02'), Synset('snake.n.05'), Synset('stuff.n.02'), Synset('triviality.n.03'), Synset('vagabond.n.01'), Synset('wall.n.02'), Synset('web.n.01'), Synset('whole.n.02')]\n",
      "Word: ('material', 13) \n",
      "[Synset('abrasive.n.01'), Synset('adhesive_material.n.01'), Synset('aggregate.n.02'), Synset('ammunition.n.02'), Synset('animal_material.n.01'), Synset('atom.n.02'), Synset('ballast.n.01'), Synset('bedding_material.n.01'), Synset('bimetal.n.01'), Synset('builder.n.01'), Synset('chemical.n.01'), Synset('coloring_material.n.01'), Synset('composite_material.n.01'), Synset('conductor.n.02'), Synset('contaminant.n.01'), Synset('detritus.n.02'), Synset('diamagnet.n.01'), Synset('discharge.n.03'), Synset('dust.n.03'), Synset('earth.n.02'), Synset('elastomer.n.01'), Synset('fiber.n.01'), Synset('filling.n.01'), Synset('floccule.n.01'), Synset('fluff.n.01'), Synset('foam.n.02'), Synset('hazmat.n.01'), Synset('homogenate.n.01'), Synset('humate.n.01'), Synset('impregnation.n.01'), Synset('insulator.n.01'), Synset('mineral.n.01'), Synset('packing_material.n.01'), Synset('paper.n.01'), Synset('particulate.n.01'), Synset('plant_material.n.01'), Synset('precursor.n.01'), Synset('radioactive_material.n.01'), Synset('raw_material.n.01'), Synset('rind.n.01'), Synset('rock.n.02'), Synset('sealing_material.n.01'), Synset('sorbate.n.01'), Synset('sorbent.n.01'), Synset('thickening.n.01'), Synset('toner.n.02'), Synset('transparent_substance.n.01'), Synset('undercut.n.01'), Synset('vernix.n.01'), Synset('wad.n.01'), Synset('waste.n.01')]\n",
      "\n",
      "\n",
      "\n",
      "\n"
     ]
    }
   ],
   "source": [
    "\n",
    "with open ('../def.csv', 'r') as f:\n",
    "    for row in f:\n",
    "        dict = calculate_frequency(row)\n",
    "        k = Counter(dict)\n",
    "        most_freq = k.most_common(3)\n",
    "        \n",
    "        print(most_freq)\n",
    "        for word in most_freq:\n",
    "            print(f\"Word: {word} \\n{wn.synsets(word[0])[0].hyponyms()}\")\n",
    "        \n",
    "        print(\"\\n\\n\\n\")\n",
    "        #synset.lexname()\n",
    "        "
   ]
  }
 ],
 "metadata": {
  "kernelspec": {
   "display_name": "Python 3.10.4 64-bit",
   "language": "python",
   "name": "python3"
  },
  "language_info": {
   "codemirror_mode": {
    "name": "ipython",
    "version": 3
   },
   "file_extension": ".py",
   "mimetype": "text/x-python",
   "name": "python",
   "nbconvert_exporter": "python",
   "pygments_lexer": "ipython3",
   "version": "3.10.4"
  },
  "orig_nbformat": 4,
  "vscode": {
   "interpreter": {
    "hash": "6847c98a8f86b01c6a19c518cd2f366693b80566b266804d5ca763cbb223f52b"
   }
  }
 },
 "nbformat": 4,
 "nbformat_minor": 2
}
