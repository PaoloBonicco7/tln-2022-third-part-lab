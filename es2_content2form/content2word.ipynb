{
 "cells": [
  {
   "cell_type": "markdown",
   "metadata": {},
   "source": [
    "Appunti:Prendo le def\n",
    "calcolo i termini più frequenti\n",
    "faccio disambiguation\n",
    "ottengo synset piu frequenti - che saranno i possibili genus\n",
    "confronto\n",
    "Il punto è non cofrontare tutte le definizioni (100K+) ma confrontarle solo con i genus"
   ]
  },
  {
   "cell_type": "code",
   "execution_count": 10,
   "metadata": {},
   "outputs": [],
   "source": [
    "import pandas as pd\n",
    "import nltk\n",
    "from nltk.corpus import stopwords\n",
    "from nltk.tokenize import word_tokenize\n",
    "import spacy\n",
    "from nltk.corpus import wordnet as wn\n",
    "from nltk.stem.snowball import SnowballStemmer"
   ]
  },
  {
   "cell_type": "code",
   "execution_count": 28,
   "metadata": {},
   "outputs": [
    {
     "name": "stdout",
     "output_type": "stream",
     "text": [
      "[['Range', 'of', 'concepts', 'human', 'beings', 'feel', 'in', 'certain', 'situations'], ['Something', 'you', 'can', 'feel'], ['Something', 'that', 'an', 'animal', 'can', 'feel'], ['something', 'you', 'think', 'that', 'makes', 'you', 'feel', 'good', 'or', 'bad'], ['Human', 'sensation', 'arising', 'from', 'the', 'form', 'of', 'feelings'], ['State', 'of', 'mind', 'that', 'a', 'living', 'being', 'can', 'percieve'], ['Feeling', 'that', 'a', 'human', 'or', 'an', 'animal', 'can', 'express', 'towards', 'others'], ['A', 'sentiment', 'that', 'a', 'living', 'entity', 'can', 'feel', 'and', 'express', 'throw', 'the', 'word', 'and', 'their', 'body', '.'], ['what', 'you', 'feel', 'in', 'a', 'certain', 'moment'], ['feeling', 'experienced', 'by', 'sentient', 'beings', 'and', 'cause', 'by', 'events', 'happening', 'in', 'the', 'outside', 'world', 'as', 'well', 'as', 'in', 'the', 'being', \"'s\", 'ming'], ['Emotion', 'is', 'a', 'feeling', 'that', 'is', 'expressed', 'through', 'facial', 'expressions', 'body', 'language', 'and', 'verbalizations', '.', 'It', 'is', 'a', 'response', 'to', 'an', 'event', 'or', 'stimulus', 'that', 'is', 'interpreted', 'by', 'the', 'brain', '.'], ['sentimental', 'reation', 'to', 'an', 'action'], ['something', 'u', 'can', 'feel'], ['what', 'a', 'human', 'being', 'is', 'feeling', 'eg', 'happyness', 'sadness', 'love'], ['general', 'concept', 'of', 'feeling'], ['A', 'feeling', 'deriving', 'from', 'human', 'life'], ['an', 'human', 'sensation'], ['An', 'animal', 'feeling'], ['Emotion', 'is', 'a', 'psychic', 'state'], ['something', 'that', 'a', 'human', 'being', 'can', 'feel'], ['Human', 'sensation', 'that', 'can', 'affect', 'someones', 'mood', 'in', 'either', 'a', 'positive', 'or', 'negative', 'way'], ['feeling', 'of', 'a', 'living', 'being'], ['feeling'], ['A', 'particular', 'state', 'of', 'mind', 'of', 'a', 'person', 'caused', 'by', 'something', 'internal', 'or', 'external'], ['A', 'mental', 'reaction'], ['a', 'strong', 'feeling'], ['Feeling/State', 'felt', 'by', 'living', 'beings'], ['The', 'mental', 'state', 'of', 'an', 'agent'], ['Mental', 'mood']]\n",
      "After Morphy:\n",
      "[None, None, 'concept', 'human', 'being', 'feel', 'in', 'certain', 'situation', None, None, 'can', 'feel', None, None, 'an', 'animal', 'can', 'feel', None, None, 'think', None, 'make', None, 'feel', 'good', 'or', 'bad', None, 'sensation', 'arise', None, None, 'form', None, 'feelings', None, None, 'mind', None, 'a', 'living', 'being', 'can', None, None, None, 'a', 'human', 'or', 'an', 'animal', 'can', 'express', None, None, None, 'sentiment', None, 'a', 'living', 'entity', 'can', 'feel', None, 'express', 'throw', None, 'word', None, None, 'body', None, None, None, 'feel', 'in', 'a', 'certain', 'moment', 'feeling', 'experience', 'by', 'sentient', 'being', None, 'cause', 'by', 'event', 'happening', 'in', None, 'outside', 'world', 'as', 'well', 'as', 'in', None, 'being', None, 'ming', None, 'be', 'a', 'feeling', None, 'be', 'express', 'through', 'facial', 'expression', 'body', 'language', None, 'verbalization', None, None, 'be', 'a', 'response', None, 'an', 'event', 'or', 'stimulus', None, 'be', 'interpret', 'by', None, 'brain', None, 'sentimental', None, None, 'an', 'action', None, 'u', 'can', 'feel', None, 'a', 'human', 'being', 'be', 'feeling', None, None, 'sadness', 'love', 'general', 'concept', None, 'feeling', None, 'feeling', 'deriving', None, 'human', 'life', 'an', 'human', 'sensation', None, 'animal', 'feeling', None, 'be', 'a', 'psychic', 'state', None, None, 'a', 'human', 'being', 'can', 'feel', None, 'sensation', None, 'can', 'affect', 'someone', 'mood', 'in', 'either', 'a', 'positive', 'or', 'negative', 'way', 'feeling', None, 'a', 'living', 'being', 'feeling', None, 'particular', 'state', None, 'mind', None, 'a', 'person', 'cause', 'by', None, 'internal', 'or', 'external', None, 'mental', 'reaction', 'a', 'strong', 'feeling', None, 'felt', 'by', 'living', 'being', None, 'mental', 'state', None, 'an', 'agent', None, 'mood']\n"
     ]
    }
   ],
   "source": [
    "# Extract the data from csv\n",
    "df = pd.DataFrame(pd.read_csv('../def.csv'))\n",
    "\n",
    "emotion_defs = df.loc[0,\"P1\":].dropna().replace(',','', regex=True)\n",
    "\n",
    "# Create a list of tokenaized definitions and apply morphy function\n",
    "list_defs = [] # List of single words of definitions\n",
    "list_defs_m = [] # List of single words of definitions after morphy\n",
    "for definition in emotion_defs:\n",
    "    def_tokens = word_tokenize(definition) # ['Range', 'of', 'concepts', 'human', 'beings', 'feel', 'in', 'certain', 'situations']\n",
    "    list_defs.append(def_tokens)\n",
    "    for word in def_tokens:\n",
    "        list_defs_m.append(wn.morphy(word))\n",
    "    \n",
    "print(list_defs)\n",
    "print(\"After Morphy:\")\n",
    "print(list_defs_m)"
   ]
  },
  {
   "cell_type": "code",
   "execution_count": 19,
   "metadata": {},
   "outputs": [
    {
     "name": "stdout",
     "output_type": "stream",
     "text": [
      "[Synset('scope.n.01'), Synset('range.n.02'), Synset('range.n.03'), Synset('range.n.04'), Synset('range.n.05'), Synset('range.n.06'), Synset('image.n.07'), Synset('compass.n.03'), Synset('stove.n.01'), Synset('range.v.01'), Synset('roll.v.12'), Synset('range.v.03'), Synset('range.v.04'), Synset('range.v.05'), Synset('crop.v.05'), Synset('range.v.07'), Synset('rate.v.01')]\n",
      "[Synset('ring.v.01'), Synset('resound.v.01'), Synset('ring.v.03'), Synset('call.v.03'), Synset('surround.v.01'), Synset('ring.v.06')]\n",
      "an area in which something acts or operates or has power or control:\n"
     ]
    }
   ],
   "source": [
    "syns = wn.synsets(\"range\")\n",
    "syns2 = wn.synsets(\"rang\")\n",
    "print(syns)\n",
    "print(syns2)\n",
    "print(syns[0].definition())\n",
    "\n",
    "definition = syns[0].definition()\n"
   ]
  },
  {
   "cell_type": "code",
   "execution_count": null,
   "metadata": {},
   "outputs": [],
   "source": []
  }
 ],
 "metadata": {
  "interpreter": {
   "hash": "3fc711e4ee2b6550a1e55fb58a23702f691a325dedbbea2e10fa55c056de4b98"
  },
  "kernelspec": {
   "display_name": "Python 3.9.12 ('venvdicaro': venv)",
   "language": "python",
   "name": "python3"
  },
  "language_info": {
   "codemirror_mode": {
    "name": "ipython",
    "version": 3
   },
   "file_extension": ".py",
   "mimetype": "text/x-python",
   "name": "python",
   "nbconvert_exporter": "python",
   "pygments_lexer": "ipython3",
   "version": "3.9.12"
  },
  "orig_nbformat": 4
 },
 "nbformat": 4,
 "nbformat_minor": 2
}
