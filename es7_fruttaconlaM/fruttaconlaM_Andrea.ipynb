{
 "cells": [
  {
   "cell_type": "markdown",
   "metadata": {},
   "source": [
    "link utili:\n",
    "\n",
    "* http://wordnetweb.princeton.edu/perl/webwn"
   ]
  },
  {
   "cell_type": "code",
   "execution_count": 47,
   "metadata": {},
   "outputs": [],
   "source": [
    "from nltk.corpus import wordnet as wn\n",
    "from pprint import pprint\n",
    "import time\n",
    "import string\n",
    "import random"
   ]
  },
  {
   "cell_type": "markdown",
   "metadata": {},
   "source": [
    "memoria usata per navigare la gerarchia di wordnet e scegliere dove fermarsi"
   ]
  },
  {
   "cell_type": "code",
   "execution_count": 79,
   "metadata": {},
   "outputs": [],
   "source": [
    "CATEGORIES = [[\"FRUIT\", \"cranberry\", \"apple\", \"peanut\", \"orange\"], [\"ANIMAL\", \"vermine\"]]"
   ]
  },
  {
   "cell_type": "markdown",
   "metadata": {},
   "source": [
    "funzione per trovare gli iperonimi dei frutti in categories. \n",
    "\n",
    "Cicla su tutti i frutti in CATEGORIES.\n",
    "\n",
    "Cicla sugli iponimi di 'Fruit' fino a profondità 3 (es. fruit -> edible fruit -> citrus -> orange)\n",
    "    \n",
    "        - se a una certa profondità incontra uno degli elementi in CATEGORIES, aggiunge l'iperonimo alla lista che verrà restituita "
   ]
  },
  {
   "cell_type": "code",
   "execution_count": 69,
   "metadata": {},
   "outputs": [],
   "source": [
    "def get_hypernyms_fruit(category, num):\n",
    "    # num = 0 ---> FRUITS, num = 1 ---> ANIMAL\n",
    "    hyponyms = wn.synsets(category[num][0])[0].hyponyms() # lista di iponimi del primo synset di fruit\n",
    "    syn_list = []\n",
    "    for word in category[num][1:]:\n",
    "        for hypo in hyponyms:\n",
    "            for hypo_hypo in hypo.hyponyms():\n",
    "                for w in wn.synsets(word):\n",
    "                    if w == hypo_hypo: \n",
    "                        if hypo not in syn_list:\n",
    "                            syn_list.append(hypo)\n",
    "                for hypo_hypo_hypo in hypo_hypo.hyponyms(): \n",
    "                    for w in wn.synsets(word):\n",
    "                        if w == hypo_hypo_hypo: \n",
    "                            if hypo_hypo not in syn_list:\n",
    "                                syn_list.append(hypo_hypo)\n",
    "    return syn_list "
   ]
  },
  {
   "cell_type": "code",
   "execution_count": 80,
   "metadata": {},
   "outputs": [
    {
     "name": "stdout",
     "output_type": "stream",
     "text": [
      "[]\n"
     ]
    }
   ],
   "source": [
    "#print(get_hypernyms_fruit(CATEGORIES))\n",
    "#print()\n",
    "print(get_hypernyms_animal(CATEGORIES))"
   ]
  },
  {
   "cell_type": "markdown",
   "metadata": {},
   "source": [
    "Funzione per capire se il frutto detto dall'utente è corretto o no.\n",
    "\n",
    "Cicla su tutti gli iperonimi nella lista generata da get_hypernyms_fruit e su tutti i synset possibili per il frutto detto dall'utente.\n",
    "\n",
    "        - se trova uno dei synset del frutto tra gli iperonimi di synset ricevuti da get_hypernyms_fruit, e la lettera iniziale è quella giusta\n",
    "          restituisce True\n",
    "        "
   ]
  },
  {
   "cell_type": "code",
   "execution_count": 52,
   "metadata": {},
   "outputs": [],
   "source": [
    "def search_elem(synsets, hypernyms, letter):\n",
    "    for hyper in hypernyms:\n",
    "        #print(hyper)\n",
    "        for hypo in hyper.hyponyms():\n",
    "            #print(hypo)\n",
    "            for syn in synsets: #synset possibili per la frutta in input, li controllo tutti\n",
    "                #print(syn)\n",
    "                if syn == hypo:\n",
    "                    if syn.name()[0].lower() == letter.lower():\n",
    "                        return f\"{syn.name()} is correct, synset: {hypo}, in synsets: {hyper}\"\n",
    "    return \"So bad, that's wrong\""
   ]
  },
  {
   "cell_type": "code",
   "execution_count": 53,
   "metadata": {},
   "outputs": [],
   "source": [
    "def game():\n",
    "    print(\"Welcome to the Game!\")\n",
    "    #time.sleep(1)\n",
    "    print(\"Tell me a fruit starting with letter ...\")\n",
    "    #time.sleep(1)\n",
    "    letter = random.choice(string.ascii_letters).lower()\n",
    "    print(f\"{letter.capitalize()}\")\n",
    "    fruit = input()\n",
    "    hypernyms = get_hypernyms_fruit(CATEGORIES)\n",
    "    print(search_elem(wn.synsets(fruit), hypernyms, letter))\n",
    "    "
   ]
  },
  {
   "cell_type": "code",
   "execution_count": 54,
   "metadata": {},
   "outputs": [
    {
     "name": "stdout",
     "output_type": "stream",
     "text": [
      "[Synset('berry.n.02'), Synset('berry.n.01'), Synset('edible_fruit.n.01'), Synset('pome.n.01'), Synset('pod.n.02'), Synset('citrus.n.01')]\n",
      "kiwi.n.03 is correct, synset: Synset('kiwi.n.03'), in synsets: Synset('edible_fruit.n.01')\n",
      "citrus.n.01 is correct, synset: Synset('citrus.n.01'), in synsets: Synset('edible_fruit.n.01')\n",
      "tangelo.n.02 is correct, synset: Synset('tangelo.n.02'), in synsets: Synset('edible_fruit.n.01')\n",
      "banana.n.02 is correct, synset: Synset('banana.n.02'), in synsets: Synset('edible_fruit.n.01')\n",
      "apple.n.01 is correct, synset: Synset('apple.n.01'), in synsets: Synset('edible_fruit.n.01')\n",
      "peanut.n.01 is correct, synset: Synset('peanut.n.01'), in synsets: Synset('pod.n.02')\n",
      "orange.n.01 is correct, synset: Synset('orange.n.01'), in synsets: Synset('citrus.n.01')\n",
      "grape.n.01 is correct, synset: Synset('grape.n.01'), in synsets: Synset('edible_fruit.n.01')\n",
      "strawberry.n.01 is correct, synset: Synset('strawberry.n.01'), in synsets: Synset('berry.n.01')\n",
      "nectarine.n.02 is correct, synset: Synset('nectarine.n.02'), in synsets: Synset('edible_fruit.n.01')\n",
      "melon.n.01 is correct, synset: Synset('melon.n.01'), in synsets: Synset('edible_fruit.n.01')\n"
     ]
    }
   ],
   "source": [
    "hypernyms = get_hypernyms_fruit(CATEGORIES)\n",
    "print(hypernyms)\n",
    "print(search_elem(wn.synsets(\"kiwi\"), hypernyms, \"k\"))\n",
    "print(search_elem(wn.synsets(\"citrus\"), hypernyms, \"c\"))\n",
    "print(search_elem(wn.synsets(\"tangelo\"), hypernyms, \"t\"))\n",
    "print(search_elem(wn.synsets(\"banana\"), hypernyms, \"b\"))\n",
    "print(search_elem(wn.synsets(\"apple\"), hypernyms, \"a\"))\n",
    "print(search_elem(wn.synsets(\"peanut\"), hypernyms, \"p\"))\n",
    "print(search_elem(wn.synsets(\"orange\"), hypernyms, \"o\"))\n",
    "print(search_elem(wn.synsets(\"grape\"), hypernyms, \"g\"))\n",
    "print(search_elem(wn.synsets(\"strawberry\"), hypernyms, \"s\"))\n",
    "print(search_elem(wn.synsets(\"nectarine\"), hypernyms, \"n\"))\n",
    "print(search_elem(wn.synsets(\"melon\"), hypernyms, \"m\"))\n"
   ]
  },
  {
   "cell_type": "code",
   "execution_count": 55,
   "metadata": {},
   "outputs": [
    {
     "name": "stdout",
     "output_type": "stream",
     "text": [
      "Welcome to the Game!\n",
      "Tell me a fruit starting with letter ...\n",
      "D\n",
      "So bad, that's wrong\n"
     ]
    }
   ],
   "source": [
    "game()"
   ]
  }
 ],
 "metadata": {
  "kernelspec": {
   "display_name": "Python 3.10.4 64-bit",
   "language": "python",
   "name": "python3"
  },
  "language_info": {
   "codemirror_mode": {
    "name": "ipython",
    "version": 3
   },
   "file_extension": ".py",
   "mimetype": "text/x-python",
   "name": "python",
   "nbconvert_exporter": "python",
   "pygments_lexer": "ipython3",
   "version": "3.10.4"
  },
  "orig_nbformat": 4,
  "vscode": {
   "interpreter": {
    "hash": "6847c98a8f86b01c6a19c518cd2f366693b80566b266804d5ca763cbb223f52b"
   }
  }
 },
 "nbformat": 4,
 "nbformat_minor": 2
}
