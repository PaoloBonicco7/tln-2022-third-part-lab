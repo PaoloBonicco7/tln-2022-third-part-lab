{
 "cells": [
  {
   "cell_type": "markdown",
   "metadata": {},
   "source": [
    "# Primo step\n",
    "\n",
    "Creare una matrice con features e concetti (termini/esempi).\n",
    "Ad esempio per il dominio della frutta abbiamo come features forma, colore, peso, ecc.\n",
    "Mentre i concetti sono mela, pera, ecc.\n",
    "\n",
    "Serve quindi capire come la libreria concepts vuole questi dati in input."
   ]
  }
 ],
 "metadata": {
  "interpreter": {
   "hash": "3fc711e4ee2b6550a1e55fb58a23702f691a325dedbbea2e10fa55c056de4b98"
  },
  "kernelspec": {
   "display_name": "Python 3.10.4 ('venvdicaro': venv)",
   "language": "python",
   "name": "python3"
  },
  "language_info": {
   "name": "python",
   "version": "3.10.4"
  },
  "orig_nbformat": 4
 },
 "nbformat": 4,
 "nbformat_minor": 2
}
