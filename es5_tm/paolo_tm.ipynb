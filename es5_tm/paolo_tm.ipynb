{
 "cells": [
  {
   "cell_type": "code",
   "execution_count": 4,
   "metadata": {},
   "outputs": [],
   "source": [
    "from gensim import corpora, models, similarities, downloader\n",
    "import nltk\n",
    "import re\n",
    "import numpy as np\n",
    "import pandas as pd\n",
    "from pprint import pprint"
   ]
  },
  {
   "cell_type": "markdown",
   "metadata": {},
   "source": [
    "# Prova approccio \n",
    "(https://www.machinelearningplus.com/nlp/topic-modeling-gensim-python/#20topicdistributionacrossdocuments)"
   ]
  },
  {
   "cell_type": "code",
   "execution_count": 5,
   "metadata": {},
   "outputs": [],
   "source": [
    "import re\n",
    "import numpy as np\n",
    "import pandas as pd\n",
    "from pprint import pprint\n",
    "\n",
    "# Gensim\n",
    "import gensim\n",
    "import gensim.corpora as corpora\n",
    "from gensim.utils import simple_preprocess\n",
    "from gensim.models import CoherenceModel\n",
    "\n",
    "# spacy for lemmatization\n",
    "import spacy\n",
    "\n",
    "# Plotting tools\n",
    "import pyLDAvis\n",
    "import pyLDAvis.gensim_models as gensimvis\n",
    "import pyLDAvis.gensim_models  # don't skip this\n",
    "import matplotlib.pyplot as plt\n",
    "%matplotlib inline\n",
    "\n",
    "# Enable logging for gensim - optional\n",
    "import logging\n",
    "logging.basicConfig(format='%(asctime)s : %(levelname)s : %(message)s', level=logging.ERROR)\n",
    "\n",
    "import warnings\n",
    "warnings.filterwarnings(\"ignore\",category=DeprecationWarning)"
   ]
  },
  {
   "cell_type": "code",
   "execution_count": 6,
   "metadata": {},
   "outputs": [
    {
     "name": "stderr",
     "output_type": "stream",
     "text": [
      "[nltk_data] Downloading package stopwords to\n",
      "[nltk_data]     /Users/paolobonicco/nltk_data...\n",
      "[nltk_data]   Package stopwords is already up-to-date!\n"
     ]
    },
    {
     "data": {
      "text/plain": [
       "True"
      ]
     },
     "execution_count": 6,
     "metadata": {},
     "output_type": "execute_result"
    }
   ],
   "source": [
    "nltk.download('stopwords')"
   ]
  },
  {
   "cell_type": "code",
   "execution_count": 7,
   "metadata": {},
   "outputs": [],
   "source": [
    "# NLTK Stop words\n",
    "from nltk.corpus import stopwords\n",
    "stop_words = stopwords.words('english')\n",
    "stop_words.extend(['from', 'subject', 're', 'edu', 'use'])"
   ]
  },
  {
   "cell_type": "code",
   "execution_count": 8,
   "metadata": {},
   "outputs": [
    {
     "name": "stdout",
     "output_type": "stream",
     "text": [
      "['rec.autos' 'comp.sys.mac.hardware' 'comp.graphics' 'sci.space'\n",
      " 'talk.politics.guns' 'sci.med' 'comp.sys.ibm.pc.hardware'\n",
      " 'comp.os.ms-windows.misc' 'rec.motorcycles' 'talk.religion.misc'\n",
      " 'misc.forsale' 'alt.atheism' 'sci.electronics' 'comp.windows.x'\n",
      " 'rec.sport.hockey' 'rec.sport.baseball' 'soc.religion.christian'\n",
      " 'talk.politics.mideast' 'talk.politics.misc' 'sci.crypt']\n",
      "                                                 content  target  \\\n",
      "0      From: lerxst@wam.umd.edu (where's my thing)\\nS...       7   \n",
      "1      From: guykuo@carson.u.washington.edu (Guy Kuo)...       4   \n",
      "2      From: twillis@ec.ecn.purdue.edu (Thomas E Will...       4   \n",
      "3      From: jgreen@amber (Joe Green)\\nSubject: Re: W...       1   \n",
      "4      From: jcm@head-cfa.harvard.edu (Jonathan McDow...      14   \n",
      "...                                                  ...     ...   \n",
      "11309  From: jim.zisfein@factory.com (Jim Zisfein) \\n...      13   \n",
      "11310  From: ebodin@pearl.tufts.edu\\nSubject: Screen ...       4   \n",
      "11311  From: westes@netcom.com (Will Estes)\\nSubject:...       3   \n",
      "11312  From: steve@hcrlgw (Steven Collins)\\nSubject: ...       1   \n",
      "11313  From: gunning@cco.caltech.edu (Kevin J. Gunnin...       8   \n",
      "\n",
      "                   target_names  \n",
      "0                     rec.autos  \n",
      "1         comp.sys.mac.hardware  \n",
      "2         comp.sys.mac.hardware  \n",
      "3                 comp.graphics  \n",
      "4                     sci.space  \n",
      "...                         ...  \n",
      "11309                   sci.med  \n",
      "11310     comp.sys.mac.hardware  \n",
      "11311  comp.sys.ibm.pc.hardware  \n",
      "11312             comp.graphics  \n",
      "11313           rec.motorcycles  \n",
      "\n",
      "[11314 rows x 3 columns]\n"
     ]
    }
   ],
   "source": [
    "# Import Dataset\n",
    "df = pd.read_json('https://raw.githubusercontent.com/selva86/datasets/master/newsgroups.json')\n",
    "print(df.target_names.unique())\n",
    "df.head()\n",
    "\n",
    "print(df)"
   ]
  },
  {
   "cell_type": "code",
   "execution_count": 9,
   "metadata": {},
   "outputs": [
    {
     "name": "stdout",
     "output_type": "stream",
     "text": [
      "['From: (wheres my thing) Subject: WHAT car is this!? Nntp-Posting-Host: '\n",
      " 'rac3.wam.umd.edu Organization: University of Maryland, College Park Lines: '\n",
      " '15 I was wondering if anyone out there could enlighten me on this car I saw '\n",
      " 'the other day. It was a 2-door sports car, looked to be from the late 60s/ '\n",
      " 'early 70s. It was called a Bricklin. The doors were really small. In '\n",
      " 'addition, the front bumper was separate from the rest of the body. This is '\n",
      " 'all I know. If anyone can tellme a model name, engine specs, years of '\n",
      " 'production, where this car is made, history, or whatever info you have on '\n",
      " 'this funky looking car, please e-mail. Thanks, - IL ---- brought to you by '\n",
      " 'your neighborhood Lerxst ---- ']\n"
     ]
    }
   ],
   "source": [
    "# Convert to list\n",
    "data = df.content.values.tolist()\n",
    "\n",
    "# Remove Emails\n",
    "data = [re.sub('\\S*@\\S*\\s?', '', sent) for sent in data]\n",
    "\n",
    "# Remove new line characters\n",
    "data = [re.sub('\\s+', ' ', sent) for sent in data]\n",
    "\n",
    "# Remove distracting single quotes\n",
    "data = [re.sub(\"\\'\", \"\", sent) for sent in data]\n",
    "\n",
    "pprint(data[:1])"
   ]
  },
  {
   "cell_type": "markdown",
   "metadata": {},
   "source": [
    "Usiamo la funzione di gensin *simple_preprocess* per tokenizzare ogni frase in una lsita di parole"
   ]
  },
  {
   "cell_type": "code",
   "execution_count": 10,
   "metadata": {},
   "outputs": [
    {
     "name": "stdout",
     "output_type": "stream",
     "text": [
      "[['from', 'wheres', 'my', 'thing', 'subject', 'what', 'car', 'is', 'this', 'nntp', 'posting', 'host', 'rac', 'wam', 'umd', 'edu', 'organization', 'university', 'of', 'maryland', 'college', 'park', 'lines', 'was', 'wondering', 'if', 'anyone', 'out', 'there', 'could', 'enlighten', 'me', 'on', 'this', 'car', 'saw', 'the', 'other', 'day', 'it', 'was', 'door', 'sports', 'car', 'looked', 'to', 'be', 'from', 'the', 'late', 'early', 'it', 'was', 'called', 'bricklin', 'the', 'doors', 'were', 'really', 'small', 'in', 'addition', 'the', 'front', 'bumper', 'was', 'separate', 'from', 'the', 'rest', 'of', 'the', 'body', 'this', 'is', 'all', 'know', 'if', 'anyone', 'can', 'tellme', 'model', 'name', 'engine', 'specs', 'years', 'of', 'production', 'where', 'this', 'car', 'is', 'made', 'history', 'or', 'whatever', 'info', 'you', 'have', 'on', 'this', 'funky', 'looking', 'car', 'please', 'mail', 'thanks', 'il', 'brought', 'to', 'you', 'by', 'your', 'neighborhood', 'lerxst']]\n"
     ]
    }
   ],
   "source": [
    "def sent_to_words(sentences):\n",
    "    for sentence in sentences:\n",
    "        yield(gensim.utils.simple_preprocess(str(sentence), deacc=True))  # deacc=True removes punctuations\n",
    "\n",
    "data_words = list(sent_to_words(data))\n",
    "\n",
    "print(data_words[:1])"
   ]
  },
  {
   "cell_type": "markdown",
   "metadata": {},
   "source": [
    "Un *bigramma* è un insieme di due parole che occorrono speso insieme nel documento, un *trigramma* è un insieme di 3 parole. Aumentando/diminuendo la soglia otteniamo meno/più parole accorporate."
   ]
  },
  {
   "cell_type": "code",
   "execution_count": 11,
   "metadata": {},
   "outputs": [
    {
     "name": "stdout",
     "output_type": "stream",
     "text": [
      "['from', 'wheres', 'my', 'thing', 'subject', 'what', 'car', 'is', 'this', 'nntp_posting_host', 'rac_wam_umd_edu', 'organization', 'university', 'of', 'maryland_college_park', 'lines', 'was', 'wondering', 'if', 'anyone', 'out', 'there', 'could', 'enlighten', 'me', 'on', 'this', 'car', 'saw', 'the', 'other', 'day', 'it', 'was', 'door', 'sports', 'car', 'looked', 'to', 'be', 'from', 'the', 'late', 'early', 'it', 'was', 'called', 'bricklin', 'the', 'doors', 'were', 'really', 'small', 'in', 'addition', 'the', 'front_bumper', 'was', 'separate', 'from', 'the', 'rest', 'of', 'the', 'body', 'this', 'is', 'all', 'know', 'if', 'anyone', 'can', 'tellme', 'model', 'name', 'engine', 'specs', 'years', 'of', 'production', 'where', 'this', 'car', 'is', 'made', 'history', 'or', 'whatever', 'info', 'you', 'have', 'on', 'this', 'funky', 'looking', 'car', 'please', 'mail', 'thanks', 'il', 'brought', 'to', 'you', 'by', 'your', 'neighborhood', 'lerxst']\n"
     ]
    }
   ],
   "source": [
    "# Build the bigram and trigram models\n",
    "bigram = gensim.models.Phrases(data_words, min_count=5, threshold=100) # higher threshold fewer phrases.\n",
    "trigram = gensim.models.Phrases(bigram[data_words], threshold=100)  \n",
    "\n",
    "# Faster way to get a sentence clubbed as a trigram/bigram\n",
    "bigram_mod = gensim.models.phrases.Phraser(bigram)\n",
    "trigram_mod = gensim.models.phrases.Phraser(trigram)\n",
    "\n",
    "# See trigram example\n",
    "print(trigram_mod[bigram_mod[data_words[0]]])\n"
   ]
  },
  {
   "cell_type": "markdown",
   "metadata": {},
   "source": [
    "Definiamo in maniera più ordinata le funzioni che abbiamo utilizzato fino ad adesso"
   ]
  },
  {
   "cell_type": "code",
   "execution_count": 12,
   "metadata": {},
   "outputs": [],
   "source": [
    "# Define functions for stopwords, bigrams, trigrams and lemmatization\n",
    "def remove_stopwords(texts):\n",
    "    return [[word for word in simple_preprocess(str(doc)) if word not in stop_words] for doc in texts]\n",
    "\n",
    "def make_bigrams(texts):\n",
    "    return [bigram_mod[doc] for doc in texts]\n",
    "\n",
    "def make_trigrams(texts):\n",
    "    return [trigram_mod[bigram_mod[doc]] for doc in texts]\n",
    "\n",
    "def lemmatization(texts, allowed_postags=['NOUN', 'ADJ', 'VERB', 'ADV']):\n",
    "    \"\"\"https://spacy.io/api/annotation\"\"\"\n",
    "    texts_out = []\n",
    "    for sent in texts:\n",
    "        doc = nlp(\" \".join(sent)) \n",
    "        texts_out.append([token.lemma_ for token in doc if token.pos_ in allowed_postags])\n",
    "    return texts_out"
   ]
  },
  {
   "cell_type": "markdown",
   "metadata": {},
   "source": [
    "E utilizziamo i metodi precedentemente generati"
   ]
  },
  {
   "cell_type": "code",
   "execution_count": 13,
   "metadata": {},
   "outputs": [
    {
     "name": "stdout",
     "output_type": "stream",
     "text": [
      "[['s', 'thing', 'car', 'nntp_poste', 'host', 'umd', 'organization', 'park', 'line', 'wonder', 'enlighten', 'car', 'see', 'day', 'door', 'sport', 'car', 'look', 'late', 'early', 'call', 'bricklin', 'door', 'really', 'small', 'addition', 'separate', 'rest', 'body', 'know', 'tellme', 'model', 'name', 'engine', 'spec', 'year', 'production', 'car', 'make', 'history', 'info', 'funky', 'look', 'car', 'mail', 'thank', 'bring', 'neighborhood', 'lerxst']]\n"
     ]
    }
   ],
   "source": [
    "# Remove Stop Words\n",
    "data_words_nostops = remove_stopwords(data_words)\n",
    "\n",
    "# Form Bigrams\n",
    "data_words_bigrams = make_bigrams(data_words_nostops)\n",
    "\n",
    "# Initialize spacy 'en' model, keeping only tagger component (for efficiency)\n",
    "# python3 -m spacy download en\n",
    "nlp = spacy.load('en_core_web_sm', disable=['parser', 'ner'])\n",
    "\n",
    "# nlp = spacy.load(\"en_core_web_sm\")\n",
    "\n",
    "# Do lemmatization keeping only noun, adj, vb, adv\n",
    "data_lemmatized = lemmatization(data_words_bigrams, allowed_postags=['NOUN', 'ADJ', 'VERB', 'ADV'])\n",
    "\n",
    "print(data_lemmatized[:1])"
   ]
  },
  {
   "cell_type": "markdown",
   "metadata": {},
   "source": [
    "## Topic modeling\n",
    "\n",
    "The two main inputs to the LDA topic model are the dictionary(id2word) and the corpus. Let’s create them."
   ]
  },
  {
   "cell_type": "code",
   "execution_count": 14,
   "metadata": {},
   "outputs": [
    {
     "name": "stdout",
     "output_type": "stream",
     "text": [
      "[[(0, 1), (1, 1), (2, 1), (3, 1), (4, 1), (5, 5), (6, 1), (7, 2), (8, 1), (9, 1), (10, 1), (11, 1), (12, 1), (13, 1), (14, 1), (15, 1), (16, 1), (17, 1), (18, 1), (19, 2), (20, 1), (21, 1), (22, 1), (23, 1), (24, 1), (25, 1), (26, 1), (27, 1), (28, 1), (29, 1), (30, 1), (31, 1), (32, 1), (33, 1), (34, 1), (35, 1), (36, 1), (37, 1), (38, 1), (39, 1), (40, 1), (41, 1), (42, 1)]]\n"
     ]
    }
   ],
   "source": [
    "# Create Dictionary\n",
    "id2word = corpora.Dictionary(data_lemmatized)\n",
    "\n",
    "# Create Corpus\n",
    "texts = data_lemmatized\n",
    "\n",
    "# Term Document Frequency\n",
    "corpus = [id2word.doc2bow(text) for text in texts]\n",
    "\n",
    "# View\n",
    "print(corpus[:1])"
   ]
  },
  {
   "cell_type": "markdown",
   "metadata": {},
   "source": [
    "Let's pretty print the values"
   ]
  },
  {
   "cell_type": "code",
   "execution_count": 15,
   "metadata": {},
   "outputs": [
    {
     "data": {
      "text/plain": [
       "[[('addition', 1),\n",
       "  ('body', 1),\n",
       "  ('bricklin', 1),\n",
       "  ('bring', 1),\n",
       "  ('call', 1),\n",
       "  ('car', 5),\n",
       "  ('day', 1),\n",
       "  ('door', 2),\n",
       "  ('early', 1),\n",
       "  ('engine', 1),\n",
       "  ('enlighten', 1),\n",
       "  ('funky', 1),\n",
       "  ('history', 1),\n",
       "  ('host', 1),\n",
       "  ('info', 1),\n",
       "  ('know', 1),\n",
       "  ('late', 1),\n",
       "  ('lerxst', 1),\n",
       "  ('line', 1),\n",
       "  ('look', 2),\n",
       "  ('mail', 1),\n",
       "  ('make', 1),\n",
       "  ('model', 1),\n",
       "  ('name', 1),\n",
       "  ('neighborhood', 1),\n",
       "  ('nntp_poste', 1),\n",
       "  ('organization', 1),\n",
       "  ('park', 1),\n",
       "  ('production', 1),\n",
       "  ('really', 1),\n",
       "  ('rest', 1),\n",
       "  ('s', 1),\n",
       "  ('see', 1),\n",
       "  ('separate', 1),\n",
       "  ('small', 1),\n",
       "  ('spec', 1),\n",
       "  ('sport', 1),\n",
       "  ('tellme', 1),\n",
       "  ('thank', 1),\n",
       "  ('thing', 1),\n",
       "  ('umd', 1),\n",
       "  ('wonder', 1),\n",
       "  ('year', 1)]]"
      ]
     },
     "execution_count": 15,
     "metadata": {},
     "output_type": "execute_result"
    }
   ],
   "source": [
    "# Human readable format of corpus (term-frequency)\n",
    "[[(id2word[id], freq) for id, freq in cp] for cp in corpus[:1]]"
   ]
  },
  {
   "cell_type": "markdown",
   "metadata": {},
   "source": [
    "We have everything required to train the LDA model. In addition to the corpus and dictionary, you need to provide the number of topics as well.\n",
    "\n",
    "Apart from that, alpha and eta are hyperparameters that affect sparsity of the topics. According to the Gensim docs, both defaults to 1.0/num_topics prior.\n",
    "\n",
    "chunksize is the number of documents to be used in each training chunk. update_every determines how often the model parameters should be updated and passes is the total number of training passes.\n",
    "\n"
   ]
  },
  {
   "cell_type": "code",
   "execution_count": 16,
   "metadata": {},
   "outputs": [],
   "source": [
    "# Build LDA model\n",
    "lda_model = gensim.models.ldamodel.LdaModel(corpus=corpus,\n",
    "                                           id2word=id2word,\n",
    "                                           num_topics=20, \n",
    "                                           random_state=100,\n",
    "                                           update_every=1,\n",
    "                                           chunksize=100,\n",
    "                                           passes=10,\n",
    "                                           alpha='auto',\n",
    "                                           per_word_topics=True)"
   ]
  },
  {
   "cell_type": "markdown",
   "metadata": {},
   "source": [
    "The above LDA model is built with 20 different topics where each topic is a combination of keywords and each keyword contributes a certain weightage to the topic.\n",
    "\n",
    "You can see the keywords for each topic and the weightage(importance) of each keyword using lda_model.print_topics() as shown next."
   ]
  },
  {
   "cell_type": "code",
   "execution_count": 17,
   "metadata": {},
   "outputs": [
    {
     "name": "stdout",
     "output_type": "stream",
     "text": [
      "[(0,\n",
      "  '0.064*\"nhl\" + 0.059*\"recommend\" + 0.051*\"gateway\" + 0.039*\"flight\" + '\n",
      "  '0.031*\"fuel\" + 0.027*\"floor\" + 0.024*\"bank\" + 0.018*\"space_station\" + '\n",
      "  '0.017*\"phase\" + 0.017*\"qualified\"'),\n",
      " (1,\n",
      "  '0.095*\"key\" + 0.040*\"physical\" + 0.037*\"public\" + 0.028*\"encryption\" + '\n",
      "  '0.027*\"chip\" + 0.025*\"security\" + 0.022*\"private\" + 0.021*\"master\" + '\n",
      "  '0.020*\"government\" + 0.018*\"clipper\"'),\n",
      " (2,\n",
      "  '0.028*\"believe\" + 0.025*\"evidence\" + 0.023*\"reason\" + 0.018*\"say\" + '\n",
      "  '0.017*\"claim\" + 0.015*\"christian\" + 0.015*\"sense\" + 0.013*\"exist\" + '\n",
      "  '0.012*\"fact\" + 0.012*\"faith\"'),\n",
      " (3,\n",
      "  '0.072*\"team\" + 0.069*\"game\" + 0.050*\"play\" + 0.048*\"win\" + 0.040*\"year\" + '\n",
      "  '0.034*\"player\" + 0.024*\"season\" + 0.018*\"fan\" + 0.018*\"goal\" + 0.017*\"run\"'),\n",
      " (4,\n",
      "  '0.093*\"ide\" + 0.078*\"mother\" + 0.040*\"remind\" + 0.019*\"ultimate\" + '\n",
      "  '0.015*\"winter\" + 0.012*\"beauty\" + 0.011*\"absurd\" + 0.009*\"grip\" + '\n",
      "  '0.004*\"credibility\" + 0.002*\"stall\"'),\n",
      " (5,\n",
      "  '0.135*\"monitor\" + 0.043*\"rd\" + 0.034*\"trivial\" + 0.021*\"suck\" + '\n",
      "  '0.009*\"space_dig\" + 0.009*\"added_forwarde\" + 0.008*\"rod\" + 0.004*\"infinity\" '\n",
      "  '+ 0.004*\"caution\" + 0.003*\"golden\"'),\n",
      " (6,\n",
      "  '0.033*\"government\" + 0.032*\"state\" + 0.020*\"country\" + 0.017*\"attack\" + '\n",
      "  '0.016*\"war\" + 0.015*\"israeli\" + 0.013*\"city\" + 0.013*\"greek\" + '\n",
      "  '0.013*\"force\" + 0.013*\"soldier\"'),\n",
      " (7,\n",
      "  '0.057*\"people\" + 0.023*\"group\" + 0.020*\"man\" + 0.020*\"say\" + 0.018*\"book\" + '\n",
      "  '0.016*\"issue\" + 0.014*\"live\" + 0.013*\"name\" + 0.012*\"day\" + 0.011*\"person\"'),\n",
      " (8,\n",
      "  '0.021*\"get\" + 0.016*\"go\" + 0.016*\"make\" + 0.015*\"write\" + 0.015*\"know\" + '\n",
      "  '0.014*\"think\" + 0.013*\"good\" + 0.013*\"time\" + 0.012*\"well\" + 0.012*\"see\"'),\n",
      " (9,\n",
      "  '0.135*\"line\" + 0.082*\"organization\" + 0.061*\"nntp_poste\" + 0.059*\"write\" + '\n",
      "  '0.055*\"host\" + 0.051*\"article\" + 0.028*\"thank\" + 0.025*\"reply\" + '\n",
      "  '0.022*\"university\" + 0.017*\"card\"'),\n",
      " (10,\n",
      "  '0.128*\"graphic\" + 0.067*\"mount\" + 0.054*\"convert\" + 0.042*\"workstation\" + '\n",
      "  '0.030*\"capture\" + 0.024*\"please_respond\" + 0.021*\"camera\" + '\n",
      "  '0.018*\"positively\" + 0.011*\"creature\" + 0.009*\"weeks_ago\"'),\n",
      " (11,\n",
      "  '0.094*\"child\" + 0.049*\"fire\" + 0.048*\"drug\" + 0.031*\"kid\" + '\n",
      "  '0.030*\"corporation\" + 0.026*\"die\" + 0.025*\"trial\" + 0.025*\"firearm\" + '\n",
      "  '0.024*\"boy\" + 0.024*\"wife\"'),\n",
      " (12,\n",
      "  '0.099*\"law\" + 0.075*\"gun\" + 0.029*\"crime\" + 0.027*\"weapon\" + 0.026*\"murder\" '\n",
      "  '+ 0.025*\"revelation\" + 0.020*\"blank\" + 0.017*\"death\" + 0.017*\"hole\" + '\n",
      "  '0.017*\"vote\"'),\n",
      " (13,\n",
      "  '0.107*\"space\" + 0.068*\"science\" + 0.040*\"field\" + 0.038*\"earth\" + '\n",
      "  '0.030*\"launch\" + 0.028*\"scientific\" + 0.026*\"orbit\" + 0.025*\"mission\" + '\n",
      "  '0.025*\"moon\" + 0.021*\"satellite\"'),\n",
      " (14,\n",
      "  '0.062*\"armenian\" + 0.048*\"turk\" + 0.042*\"turkish\" + 0.041*\"muslim\" + '\n",
      "  '0.021*\"islamic\" + 0.020*\"escape\" + 0.018*\"relation\" + 0.017*\"proceed\" + '\n",
      "  '0.015*\"genocide\" + 0.015*\"turkey\"'),\n",
      " (15,\n",
      "  '0.070*\"cop\" + 0.065*\"clipper_chip\" + 0.048*\"proposal\" + 0.040*\"crypto\" + '\n",
      "  '0.040*\"export\" + 0.021*\"revolver\" + 0.019*\"police\" + 0.015*\"entitle\" + '\n",
      "  '0.009*\"radar\" + 0.006*\"privately\"'),\n",
      " (16,\n",
      "  '0.124*\"image\" + 0.062*\"format\" + 0.062*\"scan\" + 0.056*\"family\" + '\n",
      "  '0.049*\"scsi\" + 0.041*\"headache\" + 0.023*\"quadra\" + 0.021*\"intel\" + '\n",
      "  '0.020*\"utility\" + 0.019*\"specification\"'),\n",
      " (17,\n",
      "  '0.776*\"ax\" + 0.019*\"wing\" + 0.016*\"direct\" + 0.009*\"dual\" + 0.008*\"quick\" + '\n",
      "  '0.007*\"trace\" + 0.006*\"human_being\" + 0.004*\"partner\" + 0.004*\"dirty\" + '\n",
      "  '0.004*\"quran\"'),\n",
      " (18,\n",
      "  '0.048*\"drive\" + 0.031*\"car\" + 0.022*\"buy\" + 0.021*\"high\" + 0.020*\"power\" + '\n",
      "  '0.020*\"price\" + 0.018*\"sell\" + 0.018*\"sale\" + 0.018*\"cost\" + 0.016*\"low\"'),\n",
      " (19,\n",
      "  '0.027*\"system\" + 0.024*\"use\" + 0.018*\"program\" + 0.017*\"file\" + '\n",
      "  '0.014*\"window\" + 0.013*\"run\" + 0.012*\"include\" + 0.011*\"available\" + '\n",
      "  '0.011*\"information\" + 0.010*\"source\"')]\n"
     ]
    }
   ],
   "source": [
    "# Print the Keyword in the 10 topics\n",
    "pprint(lda_model.print_topics())\n",
    "doc_lda = lda_model[corpus]"
   ]
  },
  {
   "cell_type": "markdown",
   "metadata": {},
   "source": [
    "Let's see how the model performe."
   ]
  },
  {
   "cell_type": "code",
   "execution_count": 18,
   "metadata": {},
   "outputs": [
    {
     "name": "stdout",
     "output_type": "stream",
     "text": [
      "\n",
      "Perplexity:  -13.368807304445435\n",
      "\n",
      "Coherence Score:  0.5237564492819576\n"
     ]
    }
   ],
   "source": [
    "# Compute Perplexity\n",
    "print('\\nPerplexity: ', lda_model.log_perplexity(corpus))  # a measure of how good the model is. lower the better.\n",
    "\n",
    "# Compute Coherence Score\n",
    "coherence_model_lda = CoherenceModel(model=lda_model, texts=data_lemmatized, dictionary=id2word, coherence='c_v')\n",
    "coherence_lda = coherence_model_lda.get_coherence()\n",
    "print('\\nCoherence Score: ', coherence_lda)"
   ]
  },
  {
   "cell_type": "markdown",
   "metadata": {},
   "source": [
    "### Visualize the results"
   ]
  },
  {
   "cell_type": "code",
   "execution_count": 20,
   "metadata": {},
   "outputs": [
    {
     "name": "stderr",
     "output_type": "stream",
     "text": [
      "/Users/paolobonicco/virtual-envs/tln-2022-third-part-lab/venvdicaro/lib/python3.10/site-packages/pyLDAvis/_prepare.py:247: FutureWarning: In a future version of pandas all arguments of DataFrame.drop except for the argument 'labels' will be keyword-only.\n",
      "  by='saliency', ascending=False).head(R).drop('saliency', 1)\n",
      "/Users/paolobonicco/virtual-envs/tln-2022-third-part-lab/venvdicaro/lib/python3.10/site-packages/past/builtins/misc.py:45: DeprecationWarning: the imp module is deprecated in favour of importlib and slated for removal in Python 3.12; see the module's documentation for alternative uses\n",
      "  from imp import reload\n",
      "/Users/paolobonicco/virtual-envs/tln-2022-third-part-lab/venvdicaro/lib/python3.10/site-packages/past/builtins/misc.py:45: DeprecationWarning: the imp module is deprecated in favour of importlib and slated for removal in Python 3.12; see the module's documentation for alternative uses\n",
      "  from imp import reload\n",
      "/Users/paolobonicco/virtual-envs/tln-2022-third-part-lab/venvdicaro/lib/python3.10/site-packages/past/builtins/misc.py:45: DeprecationWarning: the imp module is deprecated in favour of importlib and slated for removal in Python 3.12; see the module's documentation for alternative uses\n",
      "  from imp import reload\n",
      "/Users/paolobonicco/virtual-envs/tln-2022-third-part-lab/venvdicaro/lib/python3.10/site-packages/past/builtins/misc.py:45: DeprecationWarning: the imp module is deprecated in favour of importlib and slated for removal in Python 3.12; see the module's documentation for alternative uses\n",
      "  from imp import reload\n",
      "/Users/paolobonicco/virtual-envs/tln-2022-third-part-lab/venvdicaro/lib/python3.10/site-packages/past/builtins/misc.py:45: DeprecationWarning: the imp module is deprecated in favour of importlib and slated for removal in Python 3.12; see the module's documentation for alternative uses\n",
      "  from imp import reload\n",
      "/Users/paolobonicco/virtual-envs/tln-2022-third-part-lab/venvdicaro/lib/python3.10/site-packages/past/builtins/misc.py:45: DeprecationWarning: the imp module is deprecated in favour of importlib and slated for removal in Python 3.12; see the module's documentation for alternative uses\n",
      "  from imp import reload\n",
      "/Users/paolobonicco/virtual-envs/tln-2022-third-part-lab/venvdicaro/lib/python3.10/site-packages/past/builtins/misc.py:45: DeprecationWarning: the imp module is deprecated in favour of importlib and slated for removal in Python 3.12; see the module's documentation for alternative uses\n",
      "  from imp import reload\n",
      "/Users/paolobonicco/virtual-envs/tln-2022-third-part-lab/venvdicaro/lib/python3.10/site-packages/past/builtins/misc.py:45: DeprecationWarning: the imp module is deprecated in favour of importlib and slated for removal in Python 3.12; see the module's documentation for alternative uses\n",
      "  from imp import reload\n",
      "/Users/paolobonicco/virtual-envs/tln-2022-third-part-lab/venvdicaro/lib/python3.10/site-packages/joblib/backports.py:36: DeprecationWarning: distutils Version classes are deprecated. Use packaging.version instead.\n",
      "  if LooseVersion(np.__version__) < '1.13':\n",
      "/Users/paolobonicco/virtual-envs/tln-2022-third-part-lab/venvdicaro/lib/python3.10/site-packages/setuptools/_distutils/version.py:351: DeprecationWarning: distutils Version classes are deprecated. Use packaging.version instead.\n",
      "  other = LooseVersion(other)\n",
      "/Users/paolobonicco/virtual-envs/tln-2022-third-part-lab/venvdicaro/lib/python3.10/site-packages/joblib/backports.py:36: DeprecationWarning: distutils Version classes are deprecated. Use packaging.version instead.\n",
      "  if LooseVersion(np.__version__) < '1.13':\n",
      "/Users/paolobonicco/virtual-envs/tln-2022-third-part-lab/venvdicaro/lib/python3.10/site-packages/setuptools/_distutils/version.py:351: DeprecationWarning: distutils Version classes are deprecated. Use packaging.version instead.\n",
      "  other = LooseVersion(other)\n",
      "/Users/paolobonicco/virtual-envs/tln-2022-third-part-lab/venvdicaro/lib/python3.10/site-packages/joblib/backports.py:36: DeprecationWarning: distutils Version classes are deprecated. Use packaging.version instead.\n",
      "  if LooseVersion(np.__version__) < '1.13':\n",
      "/Users/paolobonicco/virtual-envs/tln-2022-third-part-lab/venvdicaro/lib/python3.10/site-packages/setuptools/_distutils/version.py:351: DeprecationWarning: distutils Version classes are deprecated. Use packaging.version instead.\n",
      "  other = LooseVersion(other)\n",
      "/Users/paolobonicco/virtual-envs/tln-2022-third-part-lab/venvdicaro/lib/python3.10/site-packages/joblib/backports.py:36: DeprecationWarning: distutils Version classes are deprecated. Use packaging.version instead.\n",
      "  if LooseVersion(np.__version__) < '1.13':\n",
      "/Users/paolobonicco/virtual-envs/tln-2022-third-part-lab/venvdicaro/lib/python3.10/site-packages/setuptools/_distutils/version.py:351: DeprecationWarning: distutils Version classes are deprecated. Use packaging.version instead.\n",
      "  other = LooseVersion(other)\n",
      "/Users/paolobonicco/virtual-envs/tln-2022-third-part-lab/venvdicaro/lib/python3.10/site-packages/joblib/backports.py:36: DeprecationWarning: distutils Version classes are deprecated. Use packaging.version instead.\n",
      "  if LooseVersion(np.__version__) < '1.13':\n",
      "/Users/paolobonicco/virtual-envs/tln-2022-third-part-lab/venvdicaro/lib/python3.10/site-packages/setuptools/_distutils/version.py:351: DeprecationWarning: distutils Version classes are deprecated. Use packaging.version instead.\n",
      "  other = LooseVersion(other)\n",
      "/Users/paolobonicco/virtual-envs/tln-2022-third-part-lab/venvdicaro/lib/python3.10/site-packages/joblib/backports.py:36: DeprecationWarning: distutils Version classes are deprecated. Use packaging.version instead.\n",
      "  if LooseVersion(np.__version__) < '1.13':\n",
      "/Users/paolobonicco/virtual-envs/tln-2022-third-part-lab/venvdicaro/lib/python3.10/site-packages/setuptools/_distutils/version.py:351: DeprecationWarning: distutils Version classes are deprecated. Use packaging.version instead.\n",
      "  other = LooseVersion(other)\n",
      "/Users/paolobonicco/virtual-envs/tln-2022-third-part-lab/venvdicaro/lib/python3.10/site-packages/joblib/backports.py:36: DeprecationWarning: distutils Version classes are deprecated. Use packaging.version instead.\n",
      "  if LooseVersion(np.__version__) < '1.13':\n",
      "/Users/paolobonicco/virtual-envs/tln-2022-third-part-lab/venvdicaro/lib/python3.10/site-packages/setuptools/_distutils/version.py:351: DeprecationWarning: distutils Version classes are deprecated. Use packaging.version instead.\n",
      "  other = LooseVersion(other)\n",
      "/Users/paolobonicco/virtual-envs/tln-2022-third-part-lab/venvdicaro/lib/python3.10/site-packages/joblib/backports.py:36: DeprecationWarning: distutils Version classes are deprecated. Use packaging.version instead.\n",
      "  if LooseVersion(np.__version__) < '1.13':\n",
      "/Users/paolobonicco/virtual-envs/tln-2022-third-part-lab/venvdicaro/lib/python3.10/site-packages/setuptools/_distutils/version.py:351: DeprecationWarning: distutils Version classes are deprecated. Use packaging.version instead.\n",
      "  other = LooseVersion(other)\n",
      "/Users/paolobonicco/virtual-envs/tln-2022-third-part-lab/venvdicaro/lib/python3.10/site-packages/joblib/backports.py:36: DeprecationWarning: distutils Version classes are deprecated. Use packaging.version instead.\n",
      "  if LooseVersion(np.__version__) < '1.13':\n",
      "/Users/paolobonicco/virtual-envs/tln-2022-third-part-lab/venvdicaro/lib/python3.10/site-packages/setuptools/_distutils/version.py:351: DeprecationWarning: distutils Version classes are deprecated. Use packaging.version instead.\n",
      "  other = LooseVersion(other)\n",
      "/Users/paolobonicco/virtual-envs/tln-2022-third-part-lab/venvdicaro/lib/python3.10/site-packages/joblib/backports.py:36: DeprecationWarning: distutils Version classes are deprecated. Use packaging.version instead.\n",
      "  if LooseVersion(np.__version__) < '1.13':\n",
      "/Users/paolobonicco/virtual-envs/tln-2022-third-part-lab/venvdicaro/lib/python3.10/site-packages/setuptools/_distutils/version.py:351: DeprecationWarning: distutils Version classes are deprecated. Use packaging.version instead.\n",
      "  other = LooseVersion(other)\n",
      "/Users/paolobonicco/virtual-envs/tln-2022-third-part-lab/venvdicaro/lib/python3.10/site-packages/joblib/backports.py:36: DeprecationWarning: distutils Version classes are deprecated. Use packaging.version instead.\n",
      "  if LooseVersion(np.__version__) < '1.13':\n",
      "/Users/paolobonicco/virtual-envs/tln-2022-third-part-lab/venvdicaro/lib/python3.10/site-packages/setuptools/_distutils/version.py:351: DeprecationWarning: distutils Version classes are deprecated. Use packaging.version instead.\n",
      "  other = LooseVersion(other)\n",
      "/Users/paolobonicco/virtual-envs/tln-2022-third-part-lab/venvdicaro/lib/python3.10/site-packages/joblib/backports.py:36: DeprecationWarning: distutils Version classes are deprecated. Use packaging.version instead.\n",
      "  if LooseVersion(np.__version__) < '1.13':\n",
      "/Users/paolobonicco/virtual-envs/tln-2022-third-part-lab/venvdicaro/lib/python3.10/site-packages/setuptools/_distutils/version.py:351: DeprecationWarning: distutils Version classes are deprecated. Use packaging.version instead.\n",
      "  other = LooseVersion(other)\n",
      "/Users/paolobonicco/virtual-envs/tln-2022-third-part-lab/venvdicaro/lib/python3.10/site-packages/joblib/backports.py:36: DeprecationWarning: distutils Version classes are deprecated. Use packaging.version instead.\n",
      "  if LooseVersion(np.__version__) < '1.13':\n",
      "/Users/paolobonicco/virtual-envs/tln-2022-third-part-lab/venvdicaro/lib/python3.10/site-packages/setuptools/_distutils/version.py:351: DeprecationWarning: distutils Version classes are deprecated. Use packaging.version instead.\n",
      "  other = LooseVersion(other)\n",
      "/Users/paolobonicco/virtual-envs/tln-2022-third-part-lab/venvdicaro/lib/python3.10/site-packages/joblib/backports.py:36: DeprecationWarning: distutils Version classes are deprecated. Use packaging.version instead.\n",
      "  if LooseVersion(np.__version__) < '1.13':\n",
      "/Users/paolobonicco/virtual-envs/tln-2022-third-part-lab/venvdicaro/lib/python3.10/site-packages/setuptools/_distutils/version.py:351: DeprecationWarning: distutils Version classes are deprecated. Use packaging.version instead.\n",
      "  other = LooseVersion(other)\n",
      "/Users/paolobonicco/virtual-envs/tln-2022-third-part-lab/venvdicaro/lib/python3.10/site-packages/joblib/backports.py:36: DeprecationWarning: distutils Version classes are deprecated. Use packaging.version instead.\n",
      "  if LooseVersion(np.__version__) < '1.13':\n",
      "/Users/paolobonicco/virtual-envs/tln-2022-third-part-lab/venvdicaro/lib/python3.10/site-packages/setuptools/_distutils/version.py:351: DeprecationWarning: distutils Version classes are deprecated. Use packaging.version instead.\n",
      "  other = LooseVersion(other)\n",
      "/Users/paolobonicco/virtual-envs/tln-2022-third-part-lab/venvdicaro/lib/python3.10/site-packages/joblib/backports.py:36: DeprecationWarning: distutils Version classes are deprecated. Use packaging.version instead.\n",
      "  if LooseVersion(np.__version__) < '1.13':\n",
      "/Users/paolobonicco/virtual-envs/tln-2022-third-part-lab/venvdicaro/lib/python3.10/site-packages/setuptools/_distutils/version.py:351: DeprecationWarning: distutils Version classes are deprecated. Use packaging.version instead.\n",
      "  other = LooseVersion(other)\n",
      "/Users/paolobonicco/virtual-envs/tln-2022-third-part-lab/venvdicaro/lib/python3.10/site-packages/joblib/backports.py:36: DeprecationWarning: distutils Version classes are deprecated. Use packaging.version instead.\n",
      "  if LooseVersion(np.__version__) < '1.13':\n",
      "/Users/paolobonicco/virtual-envs/tln-2022-third-part-lab/venvdicaro/lib/python3.10/site-packages/setuptools/_distutils/version.py:351: DeprecationWarning: distutils Version classes are deprecated. Use packaging.version instead.\n",
      "  other = LooseVersion(other)\n",
      "/Users/paolobonicco/virtual-envs/tln-2022-third-part-lab/venvdicaro/lib/python3.10/site-packages/joblib/backports.py:36: DeprecationWarning: distutils Version classes are deprecated. Use packaging.version instead.\n",
      "  if LooseVersion(np.__version__) < '1.13':\n",
      "/Users/paolobonicco/virtual-envs/tln-2022-third-part-lab/venvdicaro/lib/python3.10/site-packages/setuptools/_distutils/version.py:351: DeprecationWarning: distutils Version classes are deprecated. Use packaging.version instead.\n",
      "  other = LooseVersion(other)\n",
      "/Users/paolobonicco/virtual-envs/tln-2022-third-part-lab/venvdicaro/lib/python3.10/site-packages/joblib/backports.py:36: DeprecationWarning: distutils Version classes are deprecated. Use packaging.version instead.\n",
      "  if LooseVersion(np.__version__) < '1.13':\n",
      "/Users/paolobonicco/virtual-envs/tln-2022-third-part-lab/venvdicaro/lib/python3.10/site-packages/setuptools/_distutils/version.py:351: DeprecationWarning: distutils Version classes are deprecated. Use packaging.version instead.\n",
      "  other = LooseVersion(other)\n",
      "/Users/paolobonicco/virtual-envs/tln-2022-third-part-lab/venvdicaro/lib/python3.10/site-packages/joblib/backports.py:36: DeprecationWarning: distutils Version classes are deprecated. Use packaging.version instead.\n",
      "  if LooseVersion(np.__version__) < '1.13':\n",
      "/Users/paolobonicco/virtual-envs/tln-2022-third-part-lab/venvdicaro/lib/python3.10/site-packages/setuptools/_distutils/version.py:351: DeprecationWarning: distutils Version classes are deprecated. Use packaging.version instead.\n",
      "  other = LooseVersion(other)\n",
      "/Users/paolobonicco/virtual-envs/tln-2022-third-part-lab/venvdicaro/lib/python3.10/site-packages/joblib/backports.py:36: DeprecationWarning: distutils Version classes are deprecated. Use packaging.version instead.\n",
      "  if LooseVersion(np.__version__) < '1.13':\n",
      "/Users/paolobonicco/virtual-envs/tln-2022-third-part-lab/venvdicaro/lib/python3.10/site-packages/setuptools/_distutils/version.py:351: DeprecationWarning: distutils Version classes are deprecated. Use packaging.version instead.\n",
      "  other = LooseVersion(other)\n",
      "/Users/paolobonicco/virtual-envs/tln-2022-third-part-lab/venvdicaro/lib/python3.10/site-packages/joblib/backports.py:36: DeprecationWarning: distutils Version classes are deprecated. Use packaging.version instead.\n",
      "  if LooseVersion(np.__version__) < '1.13':\n",
      "/Users/paolobonicco/virtual-envs/tln-2022-third-part-lab/venvdicaro/lib/python3.10/site-packages/setuptools/_distutils/version.py:351: DeprecationWarning: distutils Version classes are deprecated. Use packaging.version instead.\n",
      "  other = LooseVersion(other)\n"
     ]
    },
    {
     "data": {
      "text/html": [
       "\n",
       "<link rel=\"stylesheet\" type=\"text/css\" href=\"https://cdn.jsdelivr.net/gh/bmabey/pyLDAvis@3.3.1/pyLDAvis/js/ldavis.v1.0.0.css\">\n",
       "\n",
       "\n",
       "<div id=\"ldavis_el2061511258082832381080686\"></div>\n",
       "<script type=\"text/javascript\">\n",
       "\n",
       "var ldavis_el2061511258082832381080686_data = {\"mdsDat\": {\"x\": [0.34287956652011026, 0.2779009510666568, 0.2678733731827415, 0.2427814467861776, 0.21006620951693863, 0.13500842469163696, -0.03903383190830191, 0.09161786128902372, 0.0402488118383513, 0.04038499339434361, -0.04644459302334029, -0.09199292388940088, -0.11106716709299085, -0.15189349749990566, -0.17256945309502186, -0.19289034457435478, -0.19975815459973562, -0.21077038067621998, -0.21649962905217005, -0.21584166287453807], \"y\": [0.06786121295558468, -0.10923895671360605, 0.23367403029951314, 0.1401947226161868, -0.2802075284927537, -0.17840743080376917, -0.07747105898119411, 0.11720161851269531, 0.023354325476824526, -0.07640167649510218, 0.0775230250032206, -0.0378516827201524, 0.012405680995211929, 0.02489568510009984, 0.0031541615406043065, 0.008611757493858492, 0.009577478860016374, 0.01415199830590243, 0.013536429671931085, 0.013436207374928084], \"topics\": [1, 2, 3, 4, 5, 6, 7, 8, 9, 10, 11, 12, 13, 14, 15, 16, 17, 18, 19, 20], \"cluster\": [1, 1, 1, 1, 1, 1, 1, 1, 1, 1, 1, 1, 1, 1, 1, 1, 1, 1, 1, 1], \"Freq\": [38.238749554367445, 12.383471509546284, 8.63998865937501, 8.52054423514078, 8.307012701926512, 5.532289710505446, 4.338414144554049, 3.7366545883143756, 2.3958618290003195, 2.01140935472903, 1.435547158140004, 1.085359160822621, 1.0600570322602088, 0.7503420944850795, 0.5236719532491351, 0.32966654839726245, 0.26417857668223627, 0.19606244568664863, 0.13680183106433083, 0.1139169117532037]}, \"tinfo\": {\"Term\": [\"ax\", \"line\", \"organization\", \"write\", \"article\", \"nntp_poste\", \"people\", \"host\", \"year\", \"drive\", \"say\", \"key\", \"team\", \"system\", \"use\", \"game\", \"right\", \"law\", \"good\", \"believe\", \"m\", \"thank\", \"state\", \"get\", \"go\", \"space\", \"reason\", \"evidence\", \"run\", \"think\", \"s\", \"much\", \"really\", \"ve\", \"sure\", \"still\", \"back\", \"re\", \"hear\", \"little\", \"put\", \"lot\", \"probably\", \"enough\", \"maybe\", \"turn\", \"hard\", \"ill\", \"else\", \"sound\", \"guess\", \"experience\", \"pretty\", \"couple\", \"suggest\", \"disk\", \"bike\", \"care\", \"section\", \"soon\", \"time\", \"go\", \"long\", \"bad\", \"well\", \"let\", \"good\", \"get\", \"great\", \"actually\", \"make\", \"see\", \"start\", \"think\", \"want\", \"know\", \"try\", \"way\", \"take\", \"thing\", \"give\", \"d\", \"tell\", \"even\", \"come\", \"write\", \"m\", \"seem\", \"work\", \"say\", \"article\", \"also\", \"look\", \"right\", \"program\", \"file\", \"window\", \"available\", \"software\", \"machine\", \"copy\", \"test\", \"version\", \"code\", \"entry\", \"memory\", \"application\", \"screen\", \"hardware\", \"cpu\", \"device\", \"network\", \"pc\", \"tape\", \"server\", \"display\", \"function\", \"package\", \"mode\", \"input\", \"character\", \"faq\", \"normal\", \"notice\", \"instal\", \"user\", \"datum\", \"system\", \"source\", \"include\", \"use\", \"information\", \"run\", \"bit\", \"set\", \"support\", \"do\", \"message\", \"also\", \"problem\", \"work\", \"follow\", \"number\", \"evidence\", \"claim\", \"christian\", \"sense\", \"faith\", \"god\", \"religion\", \"argument\", \"patient\", \"truth\", \"belief\", \"atheist\", \"church\", \"statement\", \"conclusion\", \"religious\", \"reality\", \"deny\", \"define\", \"authority\", \"nature\", \"knowledge\", \"therefore\", \"respect\", \"disease\", \"moral\", \"clearly\", \"refer\", \"telnet\", \"proof\", \"believe\", \"prove\", \"exist\", \"reason\", \"true\", \"word\", \"accept\", \"view\", \"explain\", \"fact\", \"mean\", \"say\", \"question\", \"example\", \"agree\", \"point\", \"people\", \"however\", \"many\", \"think\", \"man\", \"discussion\", \"internet\", \"human\", \"body\", \"serious\", \"lie\", \"bear\", \"account\", \"quote\", \"dead\", \"treatment\", \"doctor\", \"terrorism\", \"suffer\", \"heart\", \"rational\", \"context\", \"past\", \"scripture\", \"justify\", \"club\", \"medical\", \"hide\", \"concerned\", \"topic\", \"father\", \"anti\", \"principle\", \"grow\", \"book\", \"indeed\", \"woman\", \"face\", \"group\", \"age\", \"study\", \"people\", \"issue\", \"live\", \"young\", \"risk\", \"posting\", \"person\", \"life\", \"death\", \"name\", \"appear\", \"become\", \"day\", \"begin\", \"say\", \"member\", \"bring\", \"post\", \"order\", \"come\", \"many\", \"call\", \"first\", \"also\", \"nntp_poste\", \"host\", \"thank\", \"card\", \"keyword\", \"color\", \"appreciate\", \"usa\", \"version_pl\", \"distribution_usa\", \"manual\", \"printer\", \"dept\", \"signal\", \"baseball\", \"communication\", \"circuit\", \"interface\", \"serial\", \"park\", \"greatly_appreciate\", \"brave\", \"spec\", \"consult\", \"guilty\", \"purdue_university\", \"automatically\", \"appreciated\", \"bounce\", \"voltage\", \"university\", \"reply\", \"advance\", \"com\", \"organization\", \"line\", \"interested\", \"driver\", \"laboratory\", \"phone\", \"mine\", \"article\", \"write\", \"mail\", \"help\", \"computer\", \"post\", \"email\", \"need\", \"net\", \"m\", \"technology\", \"research\", \"look\", \"info\", \"know\", \"drive\", \"car\", \"price\", \"sell\", \"sale\", \"cost\", \"low\", \"rate\", \"pin\", \"cheap\", \"wire\", \"engine\", \"eat\", \"cool\", \"radio\", \"air\", \"owner\", \"purchase\", \"mile\", \"market\", \"hot\", \"processor\", \"expensive\", \"insurance\", \"cable\", \"warranty\", \"student\", \"surface\", \"battery\", \"cycle\", \"ground\", \"buy\", \"front\", \"replace\", \"safety\", \"power\", \"model\", \"meet\", \"high\", \"pay\", \"speed\", \"job\", \"increase\", \"new\", \"lead\", \"offer\", \"less\", \"old\", \"ax\", \"wing\", \"direct\", \"dual\", \"quick\", \"trace\", \"human_being\", \"partner\", \"dirty\", \"quran\", \"tm\", \"semi\", \"adam\", \"eve\", \"genesis\", \"rutger\", \"ruler\", \"stamp\", \"appoint\", \"rushdie\", \"herein\", \"seattle_wa\", \"optimize\", \"preliminary\", \"keen\", \"persistent\", \"islamic_law\", \"mf\", \"pl_pl\", \"wm\", \"end\", \"country\", \"war\", \"israeli\", \"community\", \"military\", \"land\", \"arab\", \"trust\", \"political\", \"occupy\", \"withdraw\", \"arm\", \"route\", \"united_state\", \"plane\", \"international\", \"civilian\", \"impact\", \"bomb\", \"aim\", \"minority\", \"zone\", \"ethnic\", \"percent\", \"constitution\", \"inhabitant\", \"british\", \"invasion\", \"duty\", \"consideration\", \"village\", \"attack\", \"city\", \"soldier\", \"greek\", \"government\", \"population\", \"state\", \"national\", \"force\", \"policy\", \"citizen\", \"police\", \"report\", \"control\", \"area\", \"jewish\", \"year\", \"right\", \"kill\", \"team\", \"game\", \"play\", \"win\", \"player\", \"season\", \"fan\", \"score\", \"pen\", \"average\", \"pack\", \"stat\", \"militia\", \"helmet\", \"devil\", \"decent\", \"predict\", \"offense\", \"pitch\", \"deserve\", \"penguin\", \"daughter\", \"leafs\", \"cross\", \"penalty\", \"rob\", \"pt\", \"hitter\", \"captain\", \"restore\", \"goal\", \"division\", \"star\", \"trade\", \"year\", \"hit\", \"lose\", \"run\", \"pick\", \"final\", \"last\", \"first\", \"defense\", \"next\", \"key\", \"physical\", \"encryption\", \"security\", \"private\", \"master\", \"clipper\", \"secure\", \"tap\", \"secret\", \"listen\", \"health\", \"nsa\", \"session\", \"statistic\", \"privacy\", \"production\", \"finish\", \"scheme\", \"ban\", \"pgp\", \"approve\", \"implementation\", \"warrant\", \"cryptography\", \"brother\", \"giant\", \"prevention\", \"fed\", \"danger\", \"criminal\", \"public\", \"chip\", \"block\", \"protect\", \"government\", \"technology\", \"industry\", \"system\", \"phone\", \"information\", \"provide\", \"bit\", \"law\", \"gun\", \"weapon\", \"revelation\", \"blank\", \"disagree\", \"baby\", \"expansion\", \"gun_control\", \"mercy\", \"ammunition\", \"violate\", \"relationship\", \"regulation\", \"follower\", \"analogy\", \"handgun\", \"civil\", \"translate\", \"shotgun\", \"trigger\", \"massive\", \"upset\", \"rifle\", \"tavare\", \"appeal\", \"cash\", \"arbitrary\", \"television\", \"competition\", \"crime\", \"hole\", \"vote\", \"court\", \"murder\", \"packet\", \"property\", \"shoot\", \"prohibit\", \"commit\", \"license\", \"death\", \"kill\", \"carry\", \"protect\", \"right\", \"state\", \"person\", \"objective\", \"science\", \"field\", \"launch\", \"scientific\", \"orbit\", \"mission\", \"moon\", \"satellite\", \"shuttle\", \"frame\", \"astronomy\", \"probe\", \"unknown\", \"spring\", \"sky\", \"origin\", \"locate\", \"mar\", \"regularly\", \"lunar\", \"radiation\", \"solar\", \"ozone\", \"evolution\", \"planetary\", \"observe\", \"frequently_aske\", \"intelligence\", \"atmosphere\", \"orbital\", \"space\", \"earth\", \"rocket\", \"objective\", \"project\", \"research\", \"fire\", \"drug\", \"kid\", \"corporation\", \"firearm\", \"boy\", \"wife\", \"parent\", \"fill\", \"dream\", \"abuse\", \"violence\", \"insert\", \"immediate\", \"lawyer\", \"investigation\", \"koresh\", \"threat\", \"sheet\", \"unable\", \"compound\", \"cult\", \"chief\", \"scare\", \"unusual\", \"afford\", \"scope\", \"atf\", \"rain\", \"survivor\", \"child\", \"trial\", \"tank\", \"alive\", \"step\", \"die\", \"sad\", \"report\", \"witness\", \"armenian\", \"turk\", \"turkish\", \"muslim\", \"islamic\", \"escape\", \"relation\", \"genocide\", \"turkey\", \"massacre\", \"moslem\", \"nazi\", \"conservative\", \"plot\", \"slaughter\", \"kurd\", \"stuff_delete\", \"rebel\", \"mad\", \"longer_exist\", \"remainder\", \"mountain_passe\", \"might_serve\", \"extermination_ohanus\", \"melkonian\", \"volunteer\", \"serdar_argic\", \"territorial\", \"fascist\", \"atrocity\", \"proceed\", \"democracy\", \"region\", \"murder\", \"road\", \"today\", \"soldier\", \"destroy\", \"close\", \"image\", \"format\", \"scan\", \"family\", \"scsi\", \"headache\", \"quadra\", \"intel\", \"utility\", \"specification\", \"ftp_site\", \"significance\", \"maximum\", \"app\", \"press_release\", \"association\", \"tiff\", \"assembler\", \"developer\", \"synchronous\", \"intentionally\", \"script\", \"nm\", \"txt\", \"thesis\", \"ini_file\", \"las_cruce\", \"esdi\", \"fasst\", \"detailed\", \"mb\", \"wide\", \"environment\", \"nhl\", \"recommend\", \"gateway\", \"flight\", \"fuel\", \"floor\", \"bank\", \"space_station\", \"phase\", \"qualified\", \"simms\", \"motor\", \"crew\", \"meg\", \"micro\", \"simm\", \"diameter\", \"tail\", \"utilize\", \"dock\", \"redesign\", \"n\", \"in\", \"ist\", \"ssf\", \"propulsion\", \"ists_ca\", \"cone\", \"ns_simms\", \"bee\", \"station\", \"graphic\", \"mount\", \"convert\", \"workstation\", \"capture\", \"please_respond\", \"camera\", \"positively\", \"creature\", \"weeks_ago\", \"biological\", \"shareware\", \"cord\", \"hassle\", \"reflection\", \"clinton_gore\", \"visualization\", \"cubic\", \"impedance\", \"jubilees_re\", \"baby_bike\", \"wide_glide\", \"workshop\", \"scott_roby\", \"wild_corn\", \"corinthian\", \"cooler\", \"este\", \"vertical\", \"socket\", \"cop\", \"clipper_chip\", \"proposal\", \"crypto\", \"export\", \"revolver\", \"entitle\", \"radar\", \"privately\", \"chamber\", \"ab\", \"cock\", \"malfunction\", \"police\", \"encrypt\", \"ripem\", \"key_escrow\", \"escrow_house\", \"glock\", \"crap\", \"law_enforcement\", \"assertion\", \"agency\", \"protocol\", \"database\", \"corp_sunnyvale\", \"announcement\", \"spoof_chip\", \"escrow\", \"detection\", \"poster\", \"transmit\", \"chance\", \"judge\", \"president\", \"rd\", \"trivial\", \"suck\", \"monitor\", \"space_dig\", \"added_forwarde\", \"rod\", \"infinity\", \"caution\", \"golden\", \"_\", \"c\", \"cx\", \"gc\", \"sy\", \"hz\", \"vram_simms\", \"zd\", \"sphere\", \"sj\", \"cx_sc\", \"ucs\", \"y\", \"cua\", \"desk\", \"gy\", \"cx_cx\", \"mc\", \"r\", \"caste\", \"sp\", \"centris\", \"paranoia\", \"rlk\", \"ide\", \"mother\", \"remind\", \"ultimate\", \"winter\", \"beauty\", \"absurd\", \"grip\", \"credibility\", \"stall\", \"slave\", \"jumper\", \"dma\", \"sector\", \"cp_ut\", \"isa_bus\", \"maxtor\", \"prophesy\", \"prayer\", \"vesa_local\", \"prediction\", \"master_slave\", \"pray\", \"alessandro\", \"guido\", \"ide_controller\", \"intrinsically\", \"setting\", \"messenger\", \"maria\", \"pdiag\", \"evil\", \"disabled\", \"closed\", \"mbyte\", \"laugh\", \"_\", \"os\"], \"Freq\": [43299.0, 17046.0, 9996.0, 13715.0, 9744.0, 6543.0, 8075.0, 5865.0, 4779.0, 3429.0, 8939.0, 2462.0, 2226.0, 5364.0, 6469.0, 2129.0, 4052.0, 1825.0, 6779.0, 3160.0, 5682.0, 2987.0, 2896.0, 10701.0, 7955.0, 1563.0, 3273.0, 2761.0, 3365.0, 7615.0, 4450.684094549474, 3845.3195830614563, 3153.090160500131, 2976.6210329936694, 2780.232889089661, 2775.902827358583, 2652.526280949625, 2311.6736544135165, 2151.9713279456632, 2097.0872576225997, 2042.6021352642929, 2042.0138987356497, 2011.980418446765, 1750.7264940974653, 1506.2743903155217, 1317.1055337072069, 1265.778234410155, 1215.7727506589838, 1156.7089965812308, 1146.689176971836, 966.1257401173715, 957.7701492238381, 922.8291855296985, 905.0643279217724, 895.1245039025567, 885.9073868246603, 863.5247008025292, 828.3840914616546, 810.6243837844266, 771.5059679722336, 6496.493835538437, 7903.771222484647, 2499.3925194230164, 2250.9301073849033, 6121.983093045121, 2185.1295572964295, 6616.0569154868035, 10307.230603975091, 1960.9086701552499, 1558.7845714725065, 7758.044205731148, 5801.169419070376, 2084.2810966196494, 6659.370350402876, 4294.240186455847, 7281.47099223112, 3824.0064232024447, 3822.8443699511135, 4193.019099682323, 4030.7605765016738, 3677.7852419877236, 2747.9071174255387, 3047.4978125499433, 3480.9521440713875, 3922.787358368239, 7317.7315398345045, 4009.3185539323017, 2758.2406250359086, 3555.73943767119, 4748.101976690839, 4338.791435825967, 3630.1568518039544, 3029.1121021856184, 2997.8781158295224, 2899.1778502891016, 2757.490826166963, 2175.60517008296, 1743.399009480114, 1525.9822333178051, 1397.7639458710685, 1338.363070916397, 1316.9273614643914, 1267.6509062042805, 1236.5393000873494, 1156.3849510078514, 1120.3792477904942, 1029.179935716975, 1008.6288195281762, 980.2365927515558, 912.9307125054526, 879.3236550059911, 872.8298183541546, 853.2836724571738, 848.0185116835772, 843.1669616363669, 835.1844969884702, 818.1766460223804, 744.5404461965568, 744.4228117480308, 702.0698887277242, 699.8191940868654, 667.4248017278483, 596.6085301581672, 595.6121211636427, 809.4270743122308, 1027.890848953071, 1291.8778209453185, 4290.014335359703, 1619.7587553099129, 1940.6696818208238, 3857.900236499182, 1738.260007390444, 2118.679288345858, 1601.2378896221392, 1434.473157942213, 1261.2700342024461, 1372.9597550839558, 1145.7814692837867, 1563.7736526658744, 1310.5665028848016, 1305.5797510517618, 1070.3953551159332, 1055.9047479254846, 2760.834336641388, 1906.5915962899608, 1633.5430262824416, 1622.4264808429311, 1334.6176341187504, 1007.1201674535936, 982.9293002144635, 967.6098656891193, 863.7986914480952, 843.4058772490749, 817.0008754129104, 718.6180622734942, 690.2463888549592, 630.6771023083206, 615.0624705232684, 586.103040122151, 544.4090130088391, 520.61827562226, 508.5421322230648, 500.0514874250517, 459.7782652024115, 459.1367748713995, 453.98039036208394, 420.8152264726654, 420.4758116836916, 415.42397189415516, 408.1213047157547, 397.38091857345603, 382.71463642924, 377.96994038977454, 3080.7983775134253, 890.2551511107155, 1464.732497751691, 2513.5641207482604, 1261.0267363180305, 1075.2865311669345, 837.6957651539689, 896.2382224098751, 772.3898359946646, 1336.1667474189062, 1259.642081196899, 2041.1601735899515, 1220.4661777297742, 762.5050719727648, 743.7389456866478, 964.0678088710757, 1111.789937508505, 822.9785682055863, 905.3007989694702, 954.706311470361, 2216.160686002299, 1041.7039963842392, 954.3080143255943, 907.0609854218608, 770.5332158889323, 603.1680318632377, 600.7479620775209, 493.20696843660164, 488.0158368889124, 461.2347716898851, 453.90091623948956, 444.82775835284815, 397.9909086076493, 390.52595393101643, 378.95155745159474, 358.844694953633, 355.38493511677433, 347.6971041053207, 346.18261605898107, 336.78057532449253, 335.73716216752877, 328.25848810094925, 326.275679243513, 306.8648590291822, 299.30580667800825, 295.6886563676355, 285.79029502621125, 284.391631271949, 275.09365899540137, 269.08732027705406, 1999.911275538756, 631.4533338172319, 731.360991495612, 975.7956390690032, 2565.438197527588, 730.3177058422723, 844.2441319765328, 6289.211526449698, 1755.0953411280375, 1503.8893330920628, 681.6392702536232, 604.141037519007, 586.4069664629683, 1219.4902556084699, 1164.0275051890349, 962.0619687164748, 1383.6313829967048, 773.1456121411501, 952.5382640239278, 1262.3794146483363, 737.8812208202876, 2149.354295162229, 648.6842245713617, 720.5314966885531, 993.8352598096899, 883.0526650326432, 1016.7260364349271, 961.9711861361587, 863.0794773341244, 836.4622287912629, 821.0992661293099, 6542.47023914432, 5864.8484845803005, 2986.6751615143444, 1806.5780453246023, 955.7382673554272, 926.6231790883049, 628.7824721336888, 561.6253697311496, 518.0939515399996, 490.0760579023016, 419.7418844018262, 403.60582396690995, 390.5039049660906, 389.65246781223647, 359.4666625799775, 353.0574766763749, 307.2194188467914, 282.87249797720415, 212.80034147572044, 175.45425483207464, 174.0151005468357, 172.94266812739303, 172.91471119453735, 171.6182752490566, 165.32818911143465, 141.51918747504635, 136.38250817243932, 135.57225435275632, 130.52501485979656, 123.40268476722183, 2301.196924568944, 2662.1080245361895, 681.68434814702, 1304.3512008183334, 8711.198290508259, 14422.573978808103, 877.7140354029051, 1234.656021615997, 354.183411380838, 826.9866095998226, 334.9596823651479, 5404.877605557877, 6334.860688366814, 1557.9240873130707, 1556.8356439867725, 1051.007339904269, 1266.1225253651037, 774.312565807647, 1641.4389664041562, 711.2200459206364, 1672.5289652255915, 709.230566435551, 644.4824093883874, 1003.2751470426919, 683.4056200806183, 971.9881444542948, 3428.3279047491524, 2209.2379573735484, 1429.7221354101043, 1301.8378812008687, 1259.0829011459966, 1251.1810846295664, 1114.2909716498657, 973.2886820922993, 908.5516710564922, 833.744893945552, 711.6423904702688, 589.5794921100373, 490.85682188278776, 434.92224635510223, 418.0041399551287, 410.51695190488823, 401.2894568174988, 400.63040915883647, 386.81382038072564, 384.2670061721004, 363.52833075541986, 352.5799338126711, 350.35900082246087, 347.37202675658824, 344.71520569829585, 337.84928149712397, 335.9741316267888, 310.6365274699132, 290.81221362247106, 276.8113749612933, 567.2137286264102, 1564.9738682290183, 411.46906416907564, 568.9659569356483, 566.3762592621468, 1456.297432526992, 781.7301320247158, 464.75128911550223, 1498.7959727733682, 932.7444357170723, 735.3979093623343, 521.4092540564868, 575.8287021309297, 1031.6549653236602, 531.8461953119661, 485.7521994034996, 503.0863581993848, 489.6200230181823, 43298.35895316941, 1073.8242739743332, 914.7332832340312, 498.0240048850236, 426.0171533934955, 397.04458426351385, 326.91769345041854, 250.57288865543768, 229.5402280448385, 198.48275515171835, 197.53602301295516, 176.228226570823, 141.57034358513098, 115.39820017526222, 106.26561223439377, 86.12639648305749, 82.12250144641361, 81.83963350597658, 81.03970107043713, 72.29434181780873, 66.52427989355581, 63.52753261738928, 23.643373747676275, 19.648835471702444, 17.08600655145946, 11.79091668352362, 3.7028893443112727, 0.13572414244107567, 0.13569409104961314, 0.13568560818847877, 5.836382936027421, 944.0710574654615, 771.9969408151011, 741.7040587031962, 604.1312164005194, 564.5361940576813, 526.8007229940087, 417.65499363550254, 401.5737444761977, 383.800156033915, 382.64631274079994, 377.5200438464405, 375.5071925375974, 346.70602215305195, 345.65893419137126, 323.64322482280005, 320.58026607401445, 320.00936101747493, 301.73098290933365, 293.9750392135063, 267.1730989358673, 256.2254772512785, 245.5747709291015, 243.57278974200096, 240.4295128714511, 238.52167230660223, 217.08337664771267, 213.53112822147912, 205.9656353212026, 202.20701114740038, 198.66245679910807, 566.3892143171989, 837.9146115861527, 634.4195357452732, 622.7215401628647, 633.1270648501823, 1598.046389555669, 335.95884909203636, 1535.2335476319668, 474.1464795353244, 630.6715803946627, 363.6897374485493, 382.50714834268877, 367.48146405070327, 559.8773851312621, 483.673313681948, 431.0774468029922, 362.4614136916428, 521.7896863367223, 500.8646572493301, 419.83961970768445, 2225.1701108422403, 2128.286769431903, 1527.329796731506, 1489.541707204696, 1041.9185183333273, 726.8572113584311, 564.2112384589198, 514.1778979445979, 404.426651568176, 374.9296777488573, 319.82745371501954, 277.3697318263578, 274.14738491103833, 267.1187002168076, 212.51611376677073, 208.75875022289617, 205.17091067093062, 201.27703592842803, 199.21102591486044, 185.68653635816915, 183.3799287629877, 180.1429971340424, 178.53298529074223, 172.20795208005842, 153.088310335288, 140.27287878823705, 136.1297732314728, 127.92516194147548, 125.34610558575872, 114.57811256344, 561.8822733725458, 428.0651882854948, 286.39145994327265, 363.24320629105887, 1223.651908934819, 312.8337895425925, 368.87715066238087, 518.7891340882742, 291.38275909630283, 256.72368579034116, 363.0775973697692, 362.3883441679139, 212.68014518707827, 251.22767236853116, 2461.4204544732966, 1029.3476965002494, 731.1466835492714, 655.6210220102333, 576.8902479662087, 540.9336370073032, 470.41668312935644, 416.1546721327685, 398.08862132276596, 375.19802209647037, 354.5007671811316, 342.424442833519, 288.22142636488036, 263.08421919667956, 224.7375352356559, 196.34946470405902, 186.16410761241414, 180.73169884365115, 170.1412540198876, 169.72706427488532, 162.56185378355656, 160.894234994525, 160.6191398987876, 138.4736897192898, 138.23590565255546, 128.95176823338312, 128.19274945266753, 120.46801800268838, 120.2459939027062, 114.48895871412759, 335.94002919472496, 953.8382644762472, 709.4865416202038, 350.2457206344421, 309.8638217767649, 519.916126083097, 374.46933131900056, 185.54313602709985, 304.2209831387167, 197.49657116108423, 213.33360403027012, 205.63667224662464, 194.61544697183552, 1823.852352860654, 1391.2766245641806, 491.11761337107276, 470.0240390015932, 374.5779023722346, 309.30778362143946, 214.82616704245763, 197.35985417309882, 189.58332104296292, 150.22014829000028, 141.99160164755216, 138.890500580087, 137.5915589289635, 135.1077788779901, 130.86407282283025, 124.25727202162486, 120.44007616905661, 108.93980203693239, 101.71134946852794, 99.36859378383977, 94.5172679374828, 84.46632593044768, 79.73747268296125, 78.0929989932647, 77.04593689666955, 76.4888854941873, 70.97308156808158, 70.91037161041953, 64.6096921570751, 63.768233309583636, 540.9374696343377, 314.47120707977825, 311.029428882767, 282.52798512986743, 471.6316411609626, 128.9242058453085, 213.53335202874345, 308.9679915461054, 128.52991849024124, 184.32309155790165, 219.92758514940022, 315.3736186656468, 292.7975527127858, 233.2106334327955, 203.9991012335714, 277.70873605412606, 195.16139669600435, 164.8267736655463, 139.19997740047017, 943.3451889438461, 564.5842872997936, 418.275090468228, 386.76070562743854, 369.2149758015445, 352.90586800550125, 344.83899273249733, 296.6049645538657, 180.19495844987844, 177.81542189516017, 177.6560073945167, 170.41120368734622, 170.25748024149792, 167.94419640002286, 165.1366093677434, 151.26514405574255, 149.17959335900443, 133.95238366472805, 131.1754347767568, 130.48025554226936, 129.25271581219437, 128.69915029052078, 113.81444334601707, 108.75245150149605, 97.21363001189447, 94.19247250548703, 88.66755623118976, 77.72287176690993, 67.20555563321237, 61.84085944265742, 1490.7596938593967, 530.3553732679187, 171.59945175143815, 162.1383330199987, 165.48671318385212, 201.07056601490376, 672.5696548437138, 652.8735856924178, 422.9612982049708, 409.1106436158092, 334.485941566307, 333.49236144627747, 330.81096162149504, 313.3328144659816, 288.7932103769935, 219.54917602325384, 198.78734390620926, 186.50594286013518, 174.67917445257817, 169.77179424470103, 139.9405073604746, 139.0337167063158, 137.69526299007302, 131.0691239463137, 122.12496123886892, 117.12247937033449, 113.2944788992074, 103.16929925188948, 95.8509447380151, 92.27302077141329, 90.87359615463302, 77.99771455164802, 74.49517775012956, 71.25208294894169, 70.52363011666931, 65.5059895967264, 1284.9142477942119, 339.95973122442655, 181.08206444185618, 132.87543367048977, 209.8686924518303, 356.0728764018751, 113.04860290838344, 136.90771108738684, 105.50645365395779, 595.4867630992551, 466.1409107505938, 409.4145759722795, 394.9757561216549, 200.91466931584782, 192.63140818736613, 175.41350006275474, 142.56152267606484, 142.44428112462046, 128.2841390162584, 119.2960452509673, 119.01117846266233, 114.32519030885035, 108.30744340729123, 105.21711528377969, 90.38112755105927, 84.27145220654258, 75.62265110759824, 61.46976248933666, 61.36160688864969, 60.19339525453632, 58.75268145022734, 58.74536508157492, 58.67526447879587, 58.67526447879587, 55.56107843614271, 53.76789890885248, 35.30271161670741, 33.327206745374674, 32.04077669659904, 159.63962483173046, 66.92509218293829, 67.00599891400324, 86.34920209467856, 78.06857288272869, 78.27491334229269, 64.96185761188697, 62.13009058533768, 63.47677400652377, 833.8565072707408, 417.7929115854061, 416.61876120709576, 375.6456449130923, 328.2729413831938, 274.9759730106873, 154.4527329645802, 141.92786878876308, 134.63323105518467, 126.35988808881308, 88.87456113189728, 85.27208506488626, 69.05456396440267, 67.99728195928746, 49.67424001069845, 44.46535355034773, 40.069452066850545, 36.06815217558563, 34.583089420147, 27.3452872552515, 27.1691352337826, 19.666805687642874, 17.690887301513406, 11.248916316338345, 11.050230834999088, 10.765371228062065, 8.137611685419913, 8.065633130176922, 2.170656104037603, 103.56606664742301, 97.62779665806468, 47.60324304045941, 24.373777842787348, 269.81136071304513, 250.6859083440225, 214.966603435335, 164.94253684268259, 131.70126888432534, 114.11519282065281, 99.67930232600638, 75.05005496857201, 73.49505023698043, 72.67584444186811, 72.17886838053424, 71.96162536263338, 69.35914509506937, 67.45853902863823, 55.54796936684703, 50.75535459701197, 45.27042027754165, 41.24195267289604, 34.95191366108126, 34.82166098944662, 32.7259778283432, 30.21801402038946, 19.745127362641107, 18.673678373334383, 13.022077346415438, 11.800275792835757, 9.285178555480142, 5.588347832971539, 4.414411294685542, 3.383382605381785, 36.00495781054529, 434.0970371095104, 225.92995440839732, 182.01379873136568, 142.96323585770648, 100.80614389090111, 81.25508102733383, 69.69667158903651, 59.4858477120467, 36.78649060303961, 31.79497931272399, 28.549979416304698, 27.640175257863156, 23.44906784216795, 23.1590852992683, 19.11216190414279, 15.84779114918961, 14.288100221467003, 11.266980010862278, 10.41310940409917, 9.73659837807238, 9.734412238323554, 9.734412238323554, 8.266486206683357, 8.031757258795238, 5.613586250625744, 5.339612733995246, 0.035931830732622155, 0.035931830732622155, 0.03593196662512463, 0.03593194500586287, 175.71444802780002, 164.74450134453573, 121.93791300267614, 101.39309586411923, 100.51254160233394, 53.11083356218521, 38.235353173285596, 23.140865541986297, 15.156824235312584, 13.586949208060792, 10.1958388885953, 3.936328225079377, 2.759705900486136, 47.924614002025194, 0.03286954535802084, 0.032869804368945925, 0.032865561632465144, 0.03286494046467136, 0.03286486940857687, 0.03286484190299191, 0.032864974846652566, 0.03286442931921744, 0.03286582293552231, 0.03286486482431271, 0.032864488914651525, 0.0328638608704615, 0.032865279700219255, 0.03286397318493344, 0.03286384711766902, 0.032863762308782046, 0.0328640488252921, 0.032864106128594105, 0.03286469291440668, 0.03286438118444375, 0.03286424136438685, 76.44875753605126, 59.02604815267861, 36.96985334321881, 237.8384885547844, 16.441575134025243, 15.526340711013313, 14.670922020427058, 7.661669981819602, 7.433588519457185, 5.337055614031088, 0.0255819007325449, 0.02556377716461248, 0.02555471058266676, 0.025549116138559133, 0.025548844253053617, 0.025548439623448348, 0.0255483628557762, 0.02554818373120786, 0.02554958793987753, 0.025548737098177912, 0.025547918243008356, 0.025547918243008356, 0.025547785498908605, 0.025547785498908605, 0.025547833478703697, 0.025547785498908605, 0.025547654354135356, 0.025547663950094373, 0.025547774303623084, 0.025547638360870328, 0.025548058983740626, 0.02554778869756161, 0.025547727923154497, 0.025547935835599892, 135.50857716519207, 113.9706363873056, 58.37783889292864, 28.16340725325813, 22.631252950610047, 17.149014466818976, 15.427126005593282, 13.848563122598705, 5.756154301353892, 3.6293019056264026, 0.020940888695687925, 0.020938239779546192, 0.02093667093931745, 0.020936701570323617, 0.020936758836987313, 0.020935986402918834, 0.02093629004941472, 0.020935716050994865, 0.020936202151744857, 0.020935785303704452, 0.0209359997207476, 0.020935867874242807, 0.020935741354869523, 0.020935560232398294, 0.02093538443705857, 0.02093541240449898, 0.020935343151789392, 0.020935740023086645, 0.02093536446031542, 0.020935439040156514, 0.020935534928523635, 0.020935930468038013, 0.02093557754557569, 0.020935542919220895, 0.020935465675814047, 0.020935610840147608, 0.020936086286634587, 0.020935552241701034], \"Total\": [43299.0, 17046.0, 9996.0, 13715.0, 9744.0, 6543.0, 8075.0, 5865.0, 4779.0, 3429.0, 8939.0, 2462.0, 2226.0, 5364.0, 6469.0, 2129.0, 4052.0, 1825.0, 6779.0, 3160.0, 5682.0, 2987.0, 2896.0, 10701.0, 7955.0, 1563.0, 3273.0, 2761.0, 3365.0, 7615.0, 4451.829522875549, 3846.4650113875327, 3154.2355888262073, 2977.7664613197458, 2781.3783174220507, 2777.0839085431144, 2653.6717092757012, 2312.819082739593, 2153.1167562717396, 2098.232685948676, 2043.7475635903688, 2043.1593270617257, 2013.125846772841, 1751.8719224235413, 1507.4198186415977, 1318.2509620332828, 1266.9236627362309, 1216.9181789850597, 1157.8544249073068, 1147.834605297912, 967.2711684434478, 958.9155775562274, 923.9746138557748, 906.2097562478486, 896.269932228633, 887.0528151597849, 864.6701291286055, 829.5295197877309, 811.7698121781146, 772.6513963043797, 6519.437679843215, 7955.905867894038, 2505.9162355847143, 2256.899610019562, 6208.104730353694, 2203.3822103066173, 6779.256413883918, 10701.814679465384, 2002.233865183121, 1581.4658070033104, 8430.417777317416, 6325.036372803101, 2165.9924015958827, 7615.161527633484, 4800.780334711238, 8682.082791835051, 4333.019009482047, 4341.2200315001155, 4861.786503761731, 4675.779994172353, 4267.274318976282, 2994.4647706344285, 3441.8007811316174, 4153.769768219783, 4959.219830016312, 13715.63051753474, 5682.92502866493, 3136.747857852753, 4923.426243526065, 8939.628527048219, 9744.746550802125, 6172.163129870758, 4134.34808066412, 4052.60493132441, 2900.316850580457, 2758.6298264583183, 2176.744170374315, 1744.538009771469, 1527.12123360916, 1398.9029461624234, 1339.502071207752, 1318.0663617557464, 1268.7899064956355, 1237.678300384583, 1157.5239512992064, 1121.5182480818492, 1030.31893600833, 1009.767819823727, 981.375593042911, 914.0697128222164, 880.4626552973463, 873.9688186455097, 854.422672748529, 849.1575119851977, 844.305961927722, 836.3234972798253, 819.3156463483762, 745.679446487912, 745.5618120393859, 703.2088890190794, 700.9581943899941, 668.5638020255165, 597.7475304812906, 596.7511214794067, 818.675546902178, 1049.9529775656902, 1392.4636242145737, 5364.1496209962115, 1943.1393178866786, 2555.1920185398167, 6469.974702234428, 2400.8785372551215, 3365.9550994046685, 2324.9471092215017, 2171.130813547556, 1989.3704747349059, 2568.693959193908, 1851.5882941075904, 6172.163129870758, 4285.354669534179, 4923.426243526065, 2383.0175348490566, 3215.5563511138403, 2761.99290545517, 1907.750165103742, 1634.7015950962227, 1623.5850496567123, 1335.7762029325315, 1008.2787362673749, 984.0878690282449, 968.7684345029006, 864.9572603141592, 844.5644460628563, 818.1594442266918, 719.7766310872755, 691.4049576687405, 631.835671122102, 616.2210393370498, 587.2616089359324, 545.5675818342775, 521.77684444192, 509.70070105009006, 501.21005624471167, 460.93683401619273, 460.29534368518074, 455.1389591758652, 421.97379528644666, 421.63438051535564, 416.5825407079364, 409.27987352953596, 398.5394873916233, 383.8732054217451, 379.1285092035558, 3160.865141121828, 911.2187326504466, 1650.429789389032, 3273.008440280092, 1542.5913049316905, 1301.641093125938, 974.2321304786569, 1064.8193867605944, 971.9315163896232, 2159.1961284719414, 2880.6846841214056, 8939.628527048219, 3481.6442349624417, 1258.6385693489592, 1298.4183012676303, 3762.223332331855, 8075.9845312772, 2084.4512102990284, 4019.9865627311733, 7615.161527633484, 2217.3070332331713, 1042.8503436087976, 955.4543615753448, 908.2073326464197, 771.6795631134912, 604.3143790877966, 601.8943093064659, 494.3533156611604, 489.1621841134712, 462.38111892075693, 455.04726346404834, 445.97410557740693, 399.1372558322081, 391.6723012422153, 380.0979046761535, 359.9910421781918, 356.5312823827923, 348.8434513298795, 347.32896328353985, 337.92692255536434, 336.8835093979663, 329.4048353325104, 327.4220264680718, 308.0112062763958, 300.45215390256703, 296.83500359219425, 286.93664225077003, 285.5379785019684, 276.2400233506291, 270.2336675086152, 2012.7011275492566, 636.0763113895673, 754.3986620821233, 1031.1726380167268, 2891.2779025547534, 779.6975766814862, 913.0631392605384, 8075.9845312772, 2029.498787044505, 1793.1076555122784, 781.7513073655958, 689.9842419641591, 666.526562120621, 1685.9012188994857, 1613.970808079927, 1278.5183629072874, 2109.8193969077106, 973.411517573405, 1459.3715770517563, 2604.298773045444, 1062.2178309572425, 8939.628527048219, 880.7423121390474, 1136.5171709909112, 2730.8293058959903, 2136.058832359466, 4959.219830016312, 4019.9865627311733, 3240.123051434924, 3983.6565325440974, 6172.163129870758, 6543.62145161613, 5865.999697052111, 2987.8263739861563, 1807.7292577964135, 956.8894798272387, 927.7743915601164, 629.9336846055003, 562.7765822084216, 519.2451640148996, 491.22727037411306, 420.893096882686, 404.7570364387214, 391.65511743790205, 390.80368029309625, 360.6178750657937, 354.20868918491584, 308.3706313357358, 284.0237104792379, 213.9515539729219, 176.60546731634895, 175.16631301864703, 174.09388060620677, 174.06592368260755, 172.76948778163464, 166.47940166387883, 142.67039994685769, 137.5337206942366, 136.72346683710646, 131.67622734688197, 124.5538972390332, 2338.123192659953, 2787.450710472304, 704.0607344018481, 1409.7580340177672, 9996.749770529053, 17046.232638809317, 979.2560561084359, 1464.43821310324, 383.11161839648753, 1025.5728383756473, 371.4153925838703, 9744.746550802125, 13715.63051753474, 2550.0123990210063, 2876.264532049785, 1912.8604559459384, 2730.8293058959903, 1289.9383691894059, 4726.461725034326, 1156.0754635341843, 5682.92502866493, 1288.5519975409711, 1070.6023230432622, 4134.34808066412, 1324.0925564881516, 8682.082791835051, 3429.476621895308, 2210.3866745197042, 1430.8708525562593, 1302.9865983470236, 1260.2316182921516, 1252.3298017757213, 1115.4396888023336, 974.4373992384546, 909.7003882116959, 834.8936111048146, 712.7911076164241, 590.7282092561927, 492.00553904846686, 436.0709635399589, 419.15285710828636, 411.66566905542953, 402.43817396365404, 401.77912630499173, 387.96253753126695, 385.4157233182557, 364.6770479015751, 353.7286509809294, 351.50771796861613, 348.5207439027435, 345.8639228444511, 338.9979986719613, 337.1228487846304, 311.78524461606844, 291.9609307686263, 277.9600921074486, 577.5868082657323, 1729.7760715738923, 423.4512791619618, 609.0110062549311, 606.5342784074332, 1829.2662103578634, 914.6634788587213, 495.9246838751326, 2179.5946722363283, 1298.767600707442, 960.2798948889234, 632.4078605321635, 887.566039697801, 4068.019134162254, 1187.124571435567, 926.5132507223412, 1553.1082824642924, 2025.0442634520905, 43299.44241681951, 1074.907737783975, 915.816747145232, 499.1074691731207, 427.10061716593555, 398.128048189248, 328.0011577105362, 251.65635271641236, 230.6236919426831, 199.5662188819191, 198.61948678877528, 177.31169046176015, 142.6538073931172, 116.48166397649123, 107.3490759382094, 87.20986020392507, 83.20596524807881, 82.92309747543722, 82.12316503200054, 73.3778055826572, 67.60774363506746, 64.61099635225847, 24.72683743987303, 20.732299290187335, 18.169470669443434, 12.874380654300378, 4.7863530029891255, 1.2191975459666726, 1.219159182987722, 1.219156116024987, 2243.208625065187, 945.2188876085941, 773.1447709582336, 742.8518888463287, 605.2790465561908, 565.6840242008138, 527.9485531371412, 418.802823778635, 402.72157463152195, 384.9479861770475, 383.7941428839324, 378.66787399376864, 376.65502268072987, 347.853852432692, 346.8067643345037, 324.79105497498085, 321.7280962171469, 321.1571911606074, 302.8788130685168, 295.12286936083444, 268.32092908319544, 257.373307394411, 246.72260113893208, 244.72061988951938, 241.57734302158585, 239.66950244973458, 218.23120679831956, 214.67895836899754, 207.11346546433495, 203.3548413161263, 199.81028696796074, 608.6145205911399, 929.3933886086486, 689.6210049203213, 688.7627716883637, 724.9562961016071, 2119.048790924828, 372.3272989592319, 2896.4959927871914, 647.2346335403198, 1037.5854744269923, 446.7867139768213, 510.5638787005063, 483.7431836946655, 1449.8680103761847, 1178.9189001418465, 1206.0583554393806, 566.0670468925912, 4779.1745124917825, 4052.60493132441, 1448.783638917258, 2226.3231634240396, 2129.4398220137023, 1528.482849318765, 1490.6947597864944, 1043.0715709151257, 728.0102639402298, 565.3642910407185, 515.3309505263967, 405.5797041667092, 376.0827303466893, 320.9805063326216, 278.5227844081565, 275.300437537134, 268.2717527986063, 213.6691663485693, 209.9118028282126, 206.32396325406097, 202.4300885102266, 200.364078496659, 186.839588958703, 184.53298134478626, 181.2960497527397, 179.6860378725408, 173.36100468783016, 154.24136291708658, 141.42593141129097, 137.28282581327136, 129.07821452327406, 126.49915816755734, 115.73116515428693, 616.5134446825512, 630.2033122608358, 373.4439885864028, 590.1796188594236, 4779.1745124917825, 684.1524432108793, 1313.5346420729347, 3365.9550994046685, 712.776992794709, 500.0523999244769, 2270.678161836264, 3983.6565325440974, 313.99418197829175, 1746.390775443692, 2462.578030995835, 1030.5052730804475, 732.3042600718093, 656.7785985327712, 578.0478244887465, 542.0912135483057, 471.57425965189424, 417.3122486553063, 399.24619784530375, 376.35559861900816, 355.65834372319324, 343.5820194175564, 289.37900288741815, 264.2417957634862, 225.89511178883973, 197.50704122659673, 187.32168416016077, 181.88927537757732, 171.29883054242532, 170.88464080161873, 163.71943030609427, 162.05181152337573, 161.7767164347597, 139.63126624182752, 139.39348217509317, 130.10934476653264, 129.35032602865448, 121.62559464671659, 121.40357043778273, 115.64653526658131, 369.21978599500426, 1559.8396525443916, 1558.5443991120144, 579.9529996395563, 673.7870680261842, 2119.048790924828, 1288.5519975409711, 299.61343429765884, 5364.1496209962115, 1025.5728383756473, 2400.8785372551215, 1918.6011236228537, 2324.9471092215017, 1825.007912535409, 1392.4321842389356, 492.273173045828, 471.1795987087239, 375.7334620952481, 310.4633433219558, 215.98172674280636, 198.51541386390468, 190.73888071771808, 151.3757080082932, 143.14716133945421, 140.0460602702035, 138.74711862291286, 136.26333855274527, 132.01963251632068, 125.41283173660923, 121.59563584381179, 110.09536174134399, 102.86690920569087, 100.52415345859495, 95.67282761223798, 85.62188564925174, 80.89303238162633, 79.24855866801988, 78.20149657142473, 77.64444516894248, 72.12864124871552, 72.06593132974164, 65.76525184505844, 64.92379302540529, 556.2890340741209, 329.3166798623959, 330.1988152293034, 312.3928386479428, 559.0679467063363, 137.56677046541287, 270.7876625794496, 528.4512254840913, 164.66531844359488, 289.2662339314788, 524.8242333135898, 1278.5183629072874, 1448.783638917258, 822.9221756965975, 673.7870680261842, 4052.60493132441, 2896.4959927871914, 1685.9012188994857, 302.4366633826071, 944.5071135947653, 565.7462119860428, 419.4370151128343, 387.92263027204484, 370.3769004461508, 354.06779265010755, 346.00091737710363, 297.76688919847203, 181.3568830944846, 178.9773465519031, 178.81793203912287, 171.57312833195238, 171.4194049365981, 169.1061210919541, 166.29853401234956, 152.4270687420473, 150.34151801885537, 135.1143083093342, 132.33735947130003, 131.64218018687552, 130.4146405445822, 129.86107493512694, 114.97636799062326, 109.91437615241529, 98.37555465650065, 95.35439718287081, 89.82948090291482, 78.88479642916849, 68.36748027781856, 63.002784087263606, 1563.7673272048955, 846.8179124295757, 235.63577413379255, 302.4366633826071, 469.02833800869075, 1070.6023230432622, 673.726380120832, 654.030310969536, 424.1180234938627, 410.2673689305656, 335.64266684762106, 334.6490867294656, 331.9676868986134, 314.48953974309995, 289.9499356584979, 220.70590130475816, 199.94406921574836, 187.6626681469097, 175.835899768534, 170.92851955023542, 141.09723265671565, 140.19044202703716, 138.85198826719127, 132.22584922343196, 123.28168651598722, 118.27920469176769, 114.4512041763257, 104.32602452900778, 97.00767003382214, 93.42974608963057, 92.03032145333843, 79.15443984121192, 75.65190302724785, 72.40880822605999, 71.68035540079, 66.66271487384469, 1443.03093870902, 387.9312838085804, 204.26933126430092, 163.8089063485006, 345.0361176160374, 907.9282582050938, 140.458996409396, 1449.8680103761847, 227.47015720699716, 596.6374382493432, 467.291585900682, 410.5652511223677, 396.1264312717431, 202.06534446593596, 193.78208333745428, 176.56417523153164, 143.712197826153, 143.5949562747086, 129.43481416634654, 120.44672041905484, 120.1618536127505, 115.47586545893853, 109.45811857539493, 106.36779043386787, 91.53180270114744, 85.42212736781147, 76.77332633753136, 62.620437645737866, 62.51228203873786, 61.34407062963398, 59.90335660031551, 59.896040231663086, 59.825939628884036, 59.825939628884036, 56.71175362538513, 54.91857405894065, 36.45338689086821, 34.47788189546284, 33.19145188148512, 172.8065003694483, 75.29303636286558, 112.05032669742606, 559.0679467063363, 587.3451045460282, 948.0346150284123, 688.7627716883637, 377.54730707147144, 1226.7800074202896, 835.0242342133866, 418.960638528052, 417.7864881556204, 376.81337188581284, 329.44066832583974, 276.14369996031826, 155.6204599072261, 143.09559573140896, 135.80095799783055, 127.52761505226479, 90.04228808042191, 86.4398120129927, 70.22229091163281, 69.16500890193333, 50.84196701635827, 45.633080567111165, 41.237179009496415, 37.23587914969134, 35.75081636279287, 28.51301420827747, 28.336862196696554, 20.83453265109458, 18.85861424415928, 12.41664325898422, 12.217957809475754, 11.933098179756254, 9.305338628065787, 9.233360072822796, 3.3383830466834765, 165.43722562647963, 381.71654255789815, 320.3695010904547, 411.0195917764473, 270.98978593909385, 251.86433357799586, 216.1450286543813, 166.12096206172887, 132.87969410337163, 115.2936180396991, 100.85772758637887, 76.2284801876183, 74.6734754614873, 73.85426985042196, 73.35729359958053, 73.14005058167967, 70.53757033983597, 68.6369642490163, 56.726394585893324, 51.93377981605827, 46.44884549658795, 42.42037791497809, 36.13033904509017, 36.00008620849292, 33.904403093391345, 31.396439245505498, 20.923552581687403, 19.852103606385484, 14.200502565461735, 12.978701024570798, 10.46360378853124, 6.766773059020235, 5.592836513731837, 4.5618078244280795, 323.607370667839, 435.28024822469143, 227.1131655235784, 183.19700984654676, 144.14644698326765, 101.98935501896334, 82.43829216385872, 70.87988270421758, 60.669058956604026, 37.969701755745945, 32.97819046135465, 29.733190535681455, 28.823386373044233, 24.632278964334066, 24.342296420328132, 20.29537310615263, 17.031002299747257, 15.471311336648075, 12.45019112604335, 11.596320519280242, 10.919809493253451, 10.917623353504625, 10.917623353504625, 9.449697321864429, 9.214968392565726, 6.796797365806817, 6.522823872895843, 1.2191586706314024, 1.2191588691793238, 1.2191673131222687, 1.2191695202463293, 176.9007172037497, 165.9307705263642, 123.12418217862583, 102.57936504594767, 101.69881078416238, 54.29710274233059, 39.421622354695856, 24.327134717935987, 16.343093459989166, 14.773218440923207, 11.382108064544989, 5.122597408031465, 3.9459750764358246, 483.7431836946655, 1.219238465688034, 1.21930041571726, 1.2191551417286464, 1.2191473417469372, 1.2191502721200134, 1.2191539473715662, 1.2191690852870318, 1.2191531862111702, 1.2192065851223284, 1.2191711758839288, 1.2191605867944881, 1.219138749675614, 1.21919372737455, 1.2191464929964524, 1.2191484918631799, 1.2191460444630746, 1.2191590474867455, 1.2191685041948372, 1.2192142175520095, 1.2191993821133629, 1.2191834727092181, 77.64234258935187, 60.2196332280009, 38.16343838951702, 248.13399871839817, 17.635160180323457, 16.719925757311525, 15.864507066725269, 8.855255028117814, 8.627173565755397, 6.5306406743341014, 1.2194060769156676, 1.2192096054230064, 1.2191758624741336, 1.2191430403852792, 1.2191418902659616, 1.219145729499588, 1.2191456162346377, 1.2191390090505207, 1.219206828327936, 1.2191681395295992, 1.2191379127033517, 1.2191379127033517, 1.219137362038538, 1.219137362038538, 1.2191407717497655, 1.219142347799747, 1.219136806586272, 1.2191383913897278, 1.2191445871027697, 1.2191388934328424, 1.2191635340234372, 1.219152235751248, 1.2191457377981527, 1.2191778816042491, 136.70677396076516, 115.16883318287871, 59.576035701040546, 29.361604065565718, 23.82944977003459, 18.34721126870512, 16.625322824311098, 15.046759941908697, 6.954351096926997, 4.8274987011995085, 1.2192487980380722, 1.2191990507695813, 1.219137110434298, 1.2191616627394548, 1.2191686240349147, 1.2191359593074544, 1.2191632106623913, 1.2191381616578283, 1.2191666741061549, 1.219147918809002, 1.2191610776268826, 1.2191539661573054, 1.2191512283835744, 1.219143023776402, 1.2191339548264417, 1.2191366548035774, 1.2191347212687937, 1.2191587227275078, 1.2191369619076842, 1.2191415652491586, 1.2191476694625016, 1.2191765553709468, 1.2191549540588644, 1.2191522829761645, 1.2191462402434758, 1.2191809168960337, 1.2194060769156676, 1.2191825854735012], \"Category\": [\"Default\", \"Default\", \"Default\", \"Default\", \"Default\", \"Default\", \"Default\", \"Default\", \"Default\", \"Default\", \"Default\", \"Default\", \"Default\", \"Default\", \"Default\", \"Default\", \"Default\", \"Default\", \"Default\", \"Default\", \"Default\", \"Default\", \"Default\", \"Default\", \"Default\", \"Default\", \"Default\", \"Default\", \"Default\", \"Default\", \"Topic1\", \"Topic1\", \"Topic1\", \"Topic1\", \"Topic1\", \"Topic1\", \"Topic1\", \"Topic1\", \"Topic1\", \"Topic1\", \"Topic1\", \"Topic1\", \"Topic1\", \"Topic1\", \"Topic1\", \"Topic1\", \"Topic1\", \"Topic1\", \"Topic1\", \"Topic1\", \"Topic1\", \"Topic1\", \"Topic1\", \"Topic1\", \"Topic1\", \"Topic1\", \"Topic1\", \"Topic1\", \"Topic1\", \"Topic1\", \"Topic1\", \"Topic1\", \"Topic1\", \"Topic1\", \"Topic1\", \"Topic1\", \"Topic1\", \"Topic1\", \"Topic1\", \"Topic1\", \"Topic1\", \"Topic1\", \"Topic1\", \"Topic1\", \"Topic1\", \"Topic1\", \"Topic1\", \"Topic1\", \"Topic1\", \"Topic1\", \"Topic1\", \"Topic1\", \"Topic1\", \"Topic1\", \"Topic1\", \"Topic1\", \"Topic1\", \"Topic1\", \"Topic1\", \"Topic1\", \"Topic1\", \"Topic1\", \"Topic1\", \"Topic1\", \"Topic2\", \"Topic2\", \"Topic2\", \"Topic2\", \"Topic2\", \"Topic2\", \"Topic2\", \"Topic2\", \"Topic2\", \"Topic2\", \"Topic2\", \"Topic2\", \"Topic2\", \"Topic2\", \"Topic2\", \"Topic2\", \"Topic2\", \"Topic2\", \"Topic2\", \"Topic2\", \"Topic2\", \"Topic2\", \"Topic2\", \"Topic2\", \"Topic2\", \"Topic2\", \"Topic2\", \"Topic2\", \"Topic2\", \"Topic2\", \"Topic2\", \"Topic2\", \"Topic2\", \"Topic2\", \"Topic2\", \"Topic2\", \"Topic2\", \"Topic2\", \"Topic2\", \"Topic2\", \"Topic2\", \"Topic2\", \"Topic2\", \"Topic2\", \"Topic2\", \"Topic2\", \"Topic2\", \"Topic2\", \"Topic2\", \"Topic3\", \"Topic3\", \"Topic3\", \"Topic3\", \"Topic3\", \"Topic3\", \"Topic3\", \"Topic3\", \"Topic3\", \"Topic3\", \"Topic3\", \"Topic3\", \"Topic3\", \"Topic3\", \"Topic3\", \"Topic3\", \"Topic3\", \"Topic3\", \"Topic3\", \"Topic3\", \"Topic3\", \"Topic3\", \"Topic3\", \"Topic3\", \"Topic3\", \"Topic3\", \"Topic3\", \"Topic3\", \"Topic3\", \"Topic3\", \"Topic3\", \"Topic3\", \"Topic3\", \"Topic3\", \"Topic3\", \"Topic3\", \"Topic3\", \"Topic3\", \"Topic3\", \"Topic3\", \"Topic3\", \"Topic3\", \"Topic3\", \"Topic3\", \"Topic3\", \"Topic3\", \"Topic3\", \"Topic3\", \"Topic3\", \"Topic3\", \"Topic4\", \"Topic4\", \"Topic4\", \"Topic4\", \"Topic4\", \"Topic4\", \"Topic4\", \"Topic4\", \"Topic4\", \"Topic4\", \"Topic4\", \"Topic4\", \"Topic4\", \"Topic4\", \"Topic4\", \"Topic4\", \"Topic4\", \"Topic4\", \"Topic4\", \"Topic4\", \"Topic4\", \"Topic4\", \"Topic4\", \"Topic4\", \"Topic4\", \"Topic4\", \"Topic4\", \"Topic4\", \"Topic4\", \"Topic4\", \"Topic4\", \"Topic4\", \"Topic4\", \"Topic4\", \"Topic4\", \"Topic4\", \"Topic4\", \"Topic4\", \"Topic4\", \"Topic4\", \"Topic4\", \"Topic4\", \"Topic4\", \"Topic4\", \"Topic4\", \"Topic4\", \"Topic4\", \"Topic4\", \"Topic4\", \"Topic4\", \"Topic4\", \"Topic4\", \"Topic4\", \"Topic4\", \"Topic4\", \"Topic4\", \"Topic4\", \"Topic4\", \"Topic4\", \"Topic4\", \"Topic4\", \"Topic5\", \"Topic5\", \"Topic5\", \"Topic5\", \"Topic5\", \"Topic5\", \"Topic5\", \"Topic5\", \"Topic5\", \"Topic5\", \"Topic5\", \"Topic5\", \"Topic5\", \"Topic5\", \"Topic5\", \"Topic5\", \"Topic5\", \"Topic5\", \"Topic5\", \"Topic5\", \"Topic5\", \"Topic5\", \"Topic5\", \"Topic5\", \"Topic5\", \"Topic5\", \"Topic5\", \"Topic5\", \"Topic5\", \"Topic5\", \"Topic5\", \"Topic5\", \"Topic5\", \"Topic5\", \"Topic5\", \"Topic5\", \"Topic5\", \"Topic5\", \"Topic5\", \"Topic5\", \"Topic5\", \"Topic5\", \"Topic5\", \"Topic5\", \"Topic5\", \"Topic5\", \"Topic5\", \"Topic5\", \"Topic5\", \"Topic5\", \"Topic5\", \"Topic5\", \"Topic5\", \"Topic5\", \"Topic5\", \"Topic5\", \"Topic6\", \"Topic6\", \"Topic6\", \"Topic6\", \"Topic6\", \"Topic6\", \"Topic6\", \"Topic6\", \"Topic6\", \"Topic6\", \"Topic6\", \"Topic6\", \"Topic6\", \"Topic6\", \"Topic6\", \"Topic6\", \"Topic6\", \"Topic6\", \"Topic6\", \"Topic6\", \"Topic6\", \"Topic6\", \"Topic6\", \"Topic6\", \"Topic6\", \"Topic6\", \"Topic6\", \"Topic6\", \"Topic6\", \"Topic6\", \"Topic6\", \"Topic6\", \"Topic6\", \"Topic6\", \"Topic6\", \"Topic6\", \"Topic6\", \"Topic6\", \"Topic6\", \"Topic6\", \"Topic6\", \"Topic6\", \"Topic6\", \"Topic6\", \"Topic6\", \"Topic6\", \"Topic6\", \"Topic6\", \"Topic7\", \"Topic7\", \"Topic7\", \"Topic7\", \"Topic7\", \"Topic7\", \"Topic7\", \"Topic7\", \"Topic7\", \"Topic7\", \"Topic7\", \"Topic7\", \"Topic7\", \"Topic7\", \"Topic7\", \"Topic7\", \"Topic7\", \"Topic7\", \"Topic7\", \"Topic7\", \"Topic7\", \"Topic7\", \"Topic7\", \"Topic7\", \"Topic7\", \"Topic7\", \"Topic7\", \"Topic7\", \"Topic7\", \"Topic7\", \"Topic7\", \"Topic8\", \"Topic8\", \"Topic8\", \"Topic8\", \"Topic8\", \"Topic8\", \"Topic8\", \"Topic8\", \"Topic8\", \"Topic8\", \"Topic8\", \"Topic8\", \"Topic8\", \"Topic8\", \"Topic8\", \"Topic8\", \"Topic8\", \"Topic8\", \"Topic8\", \"Topic8\", \"Topic8\", \"Topic8\", \"Topic8\", \"Topic8\", \"Topic8\", \"Topic8\", \"Topic8\", \"Topic8\", \"Topic8\", \"Topic8\", \"Topic8\", \"Topic8\", \"Topic8\", \"Topic8\", \"Topic8\", \"Topic8\", \"Topic8\", \"Topic8\", \"Topic8\", \"Topic8\", \"Topic8\", \"Topic8\", \"Topic8\", \"Topic8\", \"Topic8\", \"Topic8\", \"Topic8\", \"Topic8\", \"Topic8\", \"Topic8\", \"Topic9\", \"Topic9\", \"Topic9\", \"Topic9\", \"Topic9\", \"Topic9\", \"Topic9\", \"Topic9\", \"Topic9\", \"Topic9\", \"Topic9\", \"Topic9\", \"Topic9\", \"Topic9\", \"Topic9\", \"Topic9\", \"Topic9\", \"Topic9\", \"Topic9\", \"Topic9\", \"Topic9\", \"Topic9\", \"Topic9\", \"Topic9\", \"Topic9\", \"Topic9\", \"Topic9\", \"Topic9\", \"Topic9\", \"Topic9\", \"Topic9\", \"Topic9\", \"Topic9\", \"Topic9\", \"Topic9\", \"Topic9\", \"Topic9\", \"Topic9\", \"Topic9\", \"Topic9\", \"Topic9\", \"Topic9\", \"Topic9\", \"Topic9\", \"Topic10\", \"Topic10\", \"Topic10\", \"Topic10\", \"Topic10\", \"Topic10\", \"Topic10\", \"Topic10\", \"Topic10\", \"Topic10\", \"Topic10\", \"Topic10\", \"Topic10\", \"Topic10\", \"Topic10\", \"Topic10\", \"Topic10\", \"Topic10\", \"Topic10\", \"Topic10\", \"Topic10\", \"Topic10\", \"Topic10\", \"Topic10\", \"Topic10\", \"Topic10\", \"Topic10\", \"Topic10\", \"Topic10\", \"Topic10\", \"Topic10\", \"Topic10\", \"Topic10\", \"Topic10\", \"Topic10\", \"Topic10\", \"Topic10\", \"Topic10\", \"Topic10\", \"Topic10\", \"Topic10\", \"Topic10\", \"Topic10\", \"Topic11\", \"Topic11\", \"Topic11\", \"Topic11\", \"Topic11\", \"Topic11\", \"Topic11\", \"Topic11\", \"Topic11\", \"Topic11\", \"Topic11\", \"Topic11\", \"Topic11\", \"Topic11\", \"Topic11\", \"Topic11\", \"Topic11\", \"Topic11\", \"Topic11\", \"Topic11\", \"Topic11\", \"Topic11\", \"Topic11\", \"Topic11\", \"Topic11\", \"Topic11\", \"Topic11\", \"Topic11\", \"Topic11\", \"Topic11\", \"Topic11\", \"Topic11\", \"Topic11\", \"Topic11\", \"Topic11\", \"Topic11\", \"Topic11\", \"Topic11\", \"Topic11\", \"Topic11\", \"Topic11\", \"Topic11\", \"Topic11\", \"Topic11\", \"Topic11\", \"Topic11\", \"Topic11\", \"Topic11\", \"Topic11\", \"Topic12\", \"Topic12\", \"Topic12\", \"Topic12\", \"Topic12\", \"Topic12\", \"Topic12\", \"Topic12\", \"Topic12\", \"Topic12\", \"Topic12\", \"Topic12\", \"Topic12\", \"Topic12\", \"Topic12\", \"Topic12\", \"Topic12\", \"Topic12\", \"Topic12\", \"Topic12\", \"Topic12\", \"Topic12\", \"Topic12\", \"Topic12\", \"Topic12\", \"Topic12\", \"Topic12\", \"Topic12\", \"Topic12\", \"Topic12\", \"Topic12\", \"Topic12\", \"Topic12\", \"Topic12\", \"Topic12\", \"Topic12\", \"Topic13\", \"Topic13\", \"Topic13\", \"Topic13\", \"Topic13\", \"Topic13\", \"Topic13\", \"Topic13\", \"Topic13\", \"Topic13\", \"Topic13\", \"Topic13\", \"Topic13\", \"Topic13\", \"Topic13\", \"Topic13\", \"Topic13\", \"Topic13\", \"Topic13\", \"Topic13\", \"Topic13\", \"Topic13\", \"Topic13\", \"Topic13\", \"Topic13\", \"Topic13\", \"Topic13\", \"Topic13\", \"Topic13\", \"Topic13\", \"Topic13\", \"Topic13\", \"Topic13\", \"Topic13\", \"Topic13\", \"Topic13\", \"Topic13\", \"Topic13\", \"Topic13\", \"Topic14\", \"Topic14\", \"Topic14\", \"Topic14\", \"Topic14\", \"Topic14\", \"Topic14\", \"Topic14\", \"Topic14\", \"Topic14\", \"Topic14\", \"Topic14\", \"Topic14\", \"Topic14\", \"Topic14\", \"Topic14\", \"Topic14\", \"Topic14\", \"Topic14\", \"Topic14\", \"Topic14\", \"Topic14\", \"Topic14\", \"Topic14\", \"Topic14\", \"Topic14\", \"Topic14\", \"Topic14\", \"Topic14\", \"Topic14\", \"Topic14\", \"Topic14\", \"Topic14\", \"Topic14\", \"Topic14\", \"Topic14\", \"Topic14\", \"Topic14\", \"Topic14\", \"Topic15\", \"Topic15\", \"Topic15\", \"Topic15\", \"Topic15\", \"Topic15\", \"Topic15\", \"Topic15\", \"Topic15\", \"Topic15\", \"Topic15\", \"Topic15\", \"Topic15\", \"Topic15\", \"Topic15\", \"Topic15\", \"Topic15\", \"Topic15\", \"Topic15\", \"Topic15\", \"Topic15\", \"Topic15\", \"Topic15\", \"Topic15\", \"Topic15\", \"Topic15\", \"Topic15\", \"Topic15\", \"Topic15\", \"Topic15\", \"Topic15\", \"Topic15\", \"Topic15\", \"Topic16\", \"Topic16\", \"Topic16\", \"Topic16\", \"Topic16\", \"Topic16\", \"Topic16\", \"Topic16\", \"Topic16\", \"Topic16\", \"Topic16\", \"Topic16\", \"Topic16\", \"Topic16\", \"Topic16\", \"Topic16\", \"Topic16\", \"Topic16\", \"Topic16\", \"Topic16\", \"Topic16\", \"Topic16\", \"Topic16\", \"Topic16\", \"Topic16\", \"Topic16\", \"Topic16\", \"Topic16\", \"Topic16\", \"Topic16\", \"Topic16\", \"Topic17\", \"Topic17\", \"Topic17\", \"Topic17\", \"Topic17\", \"Topic17\", \"Topic17\", \"Topic17\", \"Topic17\", \"Topic17\", \"Topic17\", \"Topic17\", \"Topic17\", \"Topic17\", \"Topic17\", \"Topic17\", \"Topic17\", \"Topic17\", \"Topic17\", \"Topic17\", \"Topic17\", \"Topic17\", \"Topic17\", \"Topic17\", \"Topic17\", \"Topic17\", \"Topic17\", \"Topic17\", \"Topic17\", \"Topic17\", \"Topic18\", \"Topic18\", \"Topic18\", \"Topic18\", \"Topic18\", \"Topic18\", \"Topic18\", \"Topic18\", \"Topic18\", \"Topic18\", \"Topic18\", \"Topic18\", \"Topic18\", \"Topic18\", \"Topic18\", \"Topic18\", \"Topic18\", \"Topic18\", \"Topic18\", \"Topic18\", \"Topic18\", \"Topic18\", \"Topic18\", \"Topic18\", \"Topic18\", \"Topic18\", \"Topic18\", \"Topic18\", \"Topic18\", \"Topic18\", \"Topic18\", \"Topic18\", \"Topic18\", \"Topic18\", \"Topic18\", \"Topic19\", \"Topic19\", \"Topic19\", \"Topic19\", \"Topic19\", \"Topic19\", \"Topic19\", \"Topic19\", \"Topic19\", \"Topic19\", \"Topic19\", \"Topic19\", \"Topic19\", \"Topic19\", \"Topic19\", \"Topic19\", \"Topic19\", \"Topic19\", \"Topic19\", \"Topic19\", \"Topic19\", \"Topic19\", \"Topic19\", \"Topic19\", \"Topic19\", \"Topic19\", \"Topic19\", \"Topic19\", \"Topic19\", \"Topic19\", \"Topic19\", \"Topic19\", \"Topic19\", \"Topic19\", \"Topic20\", \"Topic20\", \"Topic20\", \"Topic20\", \"Topic20\", \"Topic20\", \"Topic20\", \"Topic20\", \"Topic20\", \"Topic20\", \"Topic20\", \"Topic20\", \"Topic20\", \"Topic20\", \"Topic20\", \"Topic20\", \"Topic20\", \"Topic20\", \"Topic20\", \"Topic20\", \"Topic20\", \"Topic20\", \"Topic20\", \"Topic20\", \"Topic20\", \"Topic20\", \"Topic20\", \"Topic20\", \"Topic20\", \"Topic20\", \"Topic20\", \"Topic20\", \"Topic20\", \"Topic20\", \"Topic20\", \"Topic20\", \"Topic20\", \"Topic20\"], \"logprob\": [30.0, 29.0, 28.0, 27.0, 26.0, 25.0, 24.0, 23.0, 22.0, 21.0, 20.0, 19.0, 18.0, 17.0, 16.0, 15.0, 14.0, 13.0, 12.0, 11.0, 10.0, 9.0, 8.0, 7.0, 6.0, 5.0, 4.0, 3.0, 2.0, 1.0, -4.7045, -4.8507, -5.0491, -5.1067, -5.175, -5.1765, -5.222, -5.3595, -5.4311, -5.457, -5.4833, -5.4836, -5.4984, -5.6375, -5.7879, -5.9221, -5.9618, -6.0021, -6.0519, -6.0606, -6.232, -6.2407, -6.2778, -6.2973, -6.3083, -6.3187, -6.3443, -6.3858, -6.4075, -6.4569, -4.3263, -4.1302, -5.2815, -5.3862, -4.3856, -5.4158, -4.308, -3.8647, -5.5241, -5.7536, -4.1488, -4.4395, -5.4631, -4.3015, -4.7402, -4.2122, -4.8562, -4.8565, -4.7641, -4.8036, -4.8952, -5.1867, -5.0832, -4.9502, -4.8307, -4.2072, -4.8089, -5.1829, -4.929, -4.6398, -4.7299, -4.9082, -5.0893, -5.0996, -4.0056, -4.0557, -4.2927, -4.5142, -4.6474, -4.7352, -4.7786, -4.7947, -4.8329, -4.8577, -4.9247, -4.9564, -5.0413, -5.0614, -5.09, -5.1611, -5.1986, -5.206, -5.2287, -5.2349, -5.2406, -5.2501, -5.2707, -5.365, -5.3652, -5.4238, -5.427, -5.4744, -5.5865, -5.5882, -5.2815, -5.0425, -4.8139, -3.6137, -4.5878, -4.407, -3.7199, -4.5171, -4.3192, -4.5993, -4.7092, -4.8379, -4.7531, -4.9339, -4.6229, -4.7996, -4.8034, -5.002, -5.0156, -3.6945, -4.0648, -4.2193, -4.2261, -4.4214, -4.703, -4.7273, -4.743, -4.8565, -4.8804, -4.9122, -5.0405, -5.0808, -5.171, -5.1961, -5.2443, -5.3181, -5.3628, -5.3863, -5.4031, -5.4871, -5.4885, -5.4998, -5.5756, -5.5764, -5.5885, -5.6063, -5.6329, -5.6705, -5.683, -3.5849, -4.8263, -4.3284, -3.7884, -4.4781, -4.6375, -4.8872, -4.8196, -4.9683, -4.4203, -4.4792, -3.9966, -4.5108, -4.9812, -5.0061, -4.7467, -4.6041, -4.9049, -4.8096, -4.7564, -3.9004, -4.6553, -4.7429, -4.7937, -4.9568, -5.2017, -5.2057, -5.403, -5.4136, -5.47, -5.486, -5.5062, -5.6175, -5.6364, -5.6665, -5.721, -5.7307, -5.7526, -5.7569, -5.7845, -5.7876, -5.8101, -5.8162, -5.8775, -5.9024, -5.9146, -5.9486, -5.9536, -5.9868, -6.0089, -4.003, -5.1559, -5.009, -4.7207, -3.754, -5.0104, -4.8655, -2.8573, -4.1336, -4.2881, -5.0794, -5.2001, -5.2299, -4.4977, -4.5443, -4.7348, -4.3714, -4.9534, -4.7448, -4.4632, -5.0001, -3.931, -5.129, -5.0239, -4.7023, -4.8205, -4.6796, -4.7349, -4.8434, -4.8747, -4.8933, -2.7925, -2.9018, -3.5766, -4.0793, -4.716, -4.747, -5.1347, -5.2477, -5.3284, -5.384, -5.5389, -5.5781, -5.6111, -5.6133, -5.6939, -5.7119, -5.851, -5.9335, -6.2182, -6.4111, -6.4194, -6.4256, -6.4257, -6.4333, -6.4706, -6.6261, -6.6631, -6.669, -6.707, -6.7631, -3.8373, -3.6917, -5.054, -4.4051, -2.5062, -2.002, -4.8012, -4.46, -5.7087, -4.8607, -5.7645, -2.9835, -2.8247, -4.2274, -4.2281, -4.621, -4.4348, -4.9266, -4.1752, -5.0115, -4.1564, -5.0143, -5.1101, -4.6675, -5.0514, -4.6992, -3.0322, -3.4716, -3.9068, -4.0005, -4.0339, -4.0402, -4.1561, -4.2913, -4.3602, -4.4461, -4.6045, -4.7926, -4.9759, -5.0969, -5.1365, -5.1546, -5.1773, -5.179, -5.2141, -5.2207, -5.2762, -5.3068, -5.3131, -5.3216, -5.3293, -5.3494, -5.355, -5.4334, -5.4993, -5.5487, -4.8313, -3.8164, -5.1523, -4.8282, -4.8328, -3.8884, -4.5105, -5.0305, -3.8596, -4.3339, -4.5716, -4.9155, -4.8162, -4.2331, -4.8957, -4.9863, -4.9513, -4.9784, -0.2531, -3.95, -4.1103, -4.7183, -4.8745, -4.9449, -5.1392, -5.4052, -5.4929, -5.6382, -5.643, -5.7572, -5.9761, -6.1805, -6.263, -6.4731, -6.5207, -6.5242, -6.534, -6.6482, -6.7314, -6.7775, -7.7659, -7.9509, -8.0907, -8.4616, -9.6198, -12.9261, -12.9263, -12.9263, -9.1648, -3.9294, -4.1306, -4.1707, -4.3758, -4.4436, -4.5128, -4.745, -4.7842, -4.8295, -4.8325, -4.846, -4.8513, -4.9311, -4.9342, -5.0, -5.0095, -5.0113, -5.0701, -5.0961, -5.1917, -5.2336, -5.276, -5.2842, -5.2972, -5.3052, -5.3993, -5.4158, -5.4519, -5.4703, -5.488, -4.4403, -4.0487, -4.3269, -4.3455, -4.3289, -3.4031, -4.9626, -3.4432, -4.6181, -4.3328, -4.8833, -4.8329, -4.8729, -4.4519, -4.5982, -4.7133, -4.8867, -4.5224, -4.5633, -4.7397, -2.6276, -2.6721, -3.0039, -3.0289, -3.3863, -3.7464, -3.9997, -4.0926, -4.3327, -4.4084, -4.5674, -4.7098, -4.7215, -4.7475, -4.9762, -4.994, -5.0113, -5.0305, -5.0408, -5.1111, -5.1236, -5.1414, -5.1504, -5.1865, -5.3042, -5.3916, -5.4216, -5.4837, -5.5041, -5.5939, -4.0039, -4.2759, -4.6778, -4.4401, -3.2256, -4.5895, -4.4247, -4.0837, -4.6605, -4.7872, -4.4406, -4.4425, -4.9754, -4.8088, -2.3518, -3.2236, -3.5656, -3.6747, -3.8026, -3.867, -4.0066, -4.1292, -4.1736, -4.2328, -4.2896, -4.3242, -4.4965, -4.5878, -4.7453, -4.8804, -4.9336, -4.9632, -5.0236, -5.0261, -5.0692, -5.0795, -5.0812, -5.2296, -5.2313, -5.3008, -5.3067, -5.3689, -5.3707, -5.4198, -4.3433, -3.2998, -3.5957, -4.3016, -4.4241, -3.9066, -4.2348, -4.937, -4.4425, -4.8745, -4.7974, -4.8342, -4.8892, -2.3143, -2.585, -3.6263, -3.6702, -3.8972, -4.0886, -4.4531, -4.5379, -4.5781, -4.8109, -4.8672, -4.8893, -4.8987, -4.9169, -4.9488, -5.0006, -5.0318, -5.1322, -5.2008, -5.2241, -5.2742, -5.3866, -5.4442, -5.4651, -5.4786, -5.4858, -5.5607, -5.5616, -5.6546, -5.6677, -3.5297, -4.0721, -4.0831, -4.1792, -3.6668, -4.9637, -4.4592, -4.0897, -4.9668, -4.6063, -4.4297, -4.0692, -4.1435, -4.371, -4.5049, -4.1964, -4.5491, -4.7181, -4.8871, -2.6939, -3.2072, -3.5072, -3.5855, -3.632, -3.6771, -3.7003, -3.8509, -4.3493, -4.3626, -4.3635, -4.4051, -4.406, -4.4197, -4.4366, -4.5243, -4.5382, -4.6459, -4.6668, -4.6721, -4.6816, -4.6859, -4.8088, -4.8543, -4.9664, -4.998, -5.0584, -5.1902, -5.3356, -5.4188, -2.2363, -3.2698, -4.3982, -4.4549, -4.4344, -4.2397, -3.0086, -3.0384, -3.4725, -3.5058, -3.7072, -3.7101, -3.7182, -3.7725, -3.854, -4.1282, -4.2275, -4.2913, -4.3568, -4.3853, -4.5785, -4.585, -4.5947, -4.644, -4.7147, -4.7565, -4.7898, -4.8834, -4.957, -4.995, -5.0103, -5.1631, -5.209, -5.2535, -5.2638, -5.3376, -2.3613, -3.6909, -4.3208, -4.6303, -4.1733, -3.6446, -4.7919, -4.6004, -4.861, -2.7848, -3.0297, -3.1595, -3.1954, -3.8713, -3.9134, -4.0071, -4.2144, -4.2152, -4.32, -4.3926, -4.395, -4.4352, -4.4892, -4.5182, -4.6702, -4.7402, -4.8484, -5.0557, -5.0574, -5.0766, -5.1009, -5.101, -5.1022, -5.1022, -5.1567, -5.1895, -5.6102, -5.6678, -5.7072, -4.1013, -4.9706, -4.9694, -4.7158, -4.8166, -4.814, -5.0004, -5.045, -5.0235, -2.0885, -2.7796, -2.7824, -2.8859, -3.0207, -3.1979, -3.7746, -3.8592, -3.912, -3.9754, -4.3273, -4.3687, -4.5796, -4.5951, -4.909, -5.0198, -5.1239, -5.2291, -5.2712, -5.506, -5.5125, -5.8356, -5.9415, -6.3943, -6.4121, -6.4382, -6.718, -6.7269, -8.0395, -4.1743, -4.2334, -4.9516, -5.621, -2.754, -2.8276, -2.9813, -3.2462, -3.4712, -3.6145, -3.7498, -4.0336, -4.0545, -4.0657, -4.0726, -4.0756, -4.1125, -4.1402, -4.3345, -4.4247, -4.5391, -4.6323, -4.7978, -4.8015, -4.8636, -4.9433, -5.3688, -5.4246, -5.7851, -5.8836, -6.1233, -6.6311, -6.8669, -7.1329, -4.7681, -2.057, -2.7101, -2.9262, -3.1677, -3.5171, -3.7327, -3.8861, -4.0446, -4.5252, -4.671, -4.7786, -4.811, -4.9755, -4.9879, -5.18, -5.3673, -5.4709, -5.7084, -5.7872, -5.8544, -5.8546, -5.8546, -6.0181, -6.0469, -6.4051, -6.4551, -11.4564, -11.4564, -11.4564, -11.4564, -2.6632, -2.7277, -3.0286, -3.2131, -3.2218, -3.8597, -4.1883, -4.6905, -5.1137, -5.223, -5.5101, -6.4619, -6.817, -3.9625, -11.2473, -11.2473, -11.2474, -11.2475, -11.2475, -11.2475, -11.2475, -11.2475, -11.2474, -11.2475, -11.2475, -11.2475, -11.2474, -11.2475, -11.2475, -11.2475, -11.2475, -11.2475, -11.2475, -11.2475, -11.2475, -3.1356, -3.3942, -3.8621, -2.0006, -4.6724, -4.7297, -4.7863, -5.436, -5.4662, -5.7975, -11.1381, -11.1388, -11.1391, -11.1394, -11.1394, -11.1394, -11.1394, -11.1394, -11.1393, -11.1394, -11.1394, -11.1394, -11.1394, -11.1394, -11.1394, -11.1394, -11.1394, -11.1394, -11.1394, -11.1394, -11.1394, -11.1394, -11.1394, -11.1394, -2.3801, -2.5532, -3.2222, -3.9511, -4.1698, -4.4472, -4.553, -4.661, -5.5389, -6.0001, -11.1552, -11.1553, -11.1554, -11.1554, -11.1554, -11.1554, -11.1554, -11.1554, -11.1554, -11.1554, -11.1554, -11.1554, -11.1554, -11.1554, -11.1555, -11.1555, -11.1555, -11.1554, -11.1555, -11.1555, -11.1554, -11.1554, -11.1554, -11.1554, -11.1555, -11.1554, -11.1554, -11.1554], \"loglift\": [30.0, 29.0, 28.0, 27.0, 26.0, 25.0, 24.0, 23.0, 22.0, 21.0, 20.0, 19.0, 18.0, 17.0, 16.0, 15.0, 14.0, 13.0, 12.0, 11.0, 10.0, 9.0, 8.0, 7.0, 6.0, 5.0, 4.0, 3.0, 2.0, 1.0, 0.9611, 0.961, 0.961, 0.9609, 0.9609, 0.9609, 0.9609, 0.9608, 0.9608, 0.9608, 0.9608, 0.9608, 0.9608, 0.9607, 0.9606, 0.9605, 0.9604, 0.9604, 0.9603, 0.9603, 0.9601, 0.9601, 0.9601, 0.9601, 0.96, 0.96, 0.96, 0.9599, 0.9599, 0.9598, 0.9578, 0.9547, 0.9587, 0.9587, 0.9474, 0.953, 0.937, 0.9238, 0.9405, 0.9469, 0.8782, 0.8749, 0.9229, 0.8272, 0.8498, 0.7854, 0.8364, 0.8342, 0.8133, 0.8129, 0.8127, 0.8754, 0.8396, 0.7846, 0.7269, 0.3331, 0.6125, 0.8327, 0.6359, 0.3286, 0.1522, 0.4305, 0.6503, 0.6599, 2.0884, 2.0884, 2.0883, 2.0882, 2.0881, 2.088, 2.088, 2.0879, 2.0879, 2.0879, 2.0878, 2.0878, 2.0877, 2.0877, 2.0876, 2.0876, 2.0875, 2.0875, 2.0875, 2.0875, 2.0875, 2.0874, 2.0874, 2.0873, 2.0873, 2.0872, 2.0872, 2.0871, 2.0869, 2.0869, 2.0774, 2.0676, 2.0138, 1.8654, 1.9068, 1.8137, 1.5718, 1.7659, 1.6259, 1.7159, 1.6744, 1.6331, 1.4624, 1.6089, 0.7159, 0.9041, 0.7615, 1.2885, 0.9752, 2.4483, 2.4482, 2.4481, 2.4481, 2.4479, 2.4476, 2.4476, 2.4476, 2.4474, 2.4474, 2.4474, 2.4472, 2.4471, 2.4469, 2.4469, 2.4468, 2.4466, 2.4465, 2.4465, 2.4465, 2.4463, 2.4462, 2.4462, 2.446, 2.446, 2.446, 2.4459, 2.4459, 2.4457, 2.4457, 2.4231, 2.4255, 2.3294, 2.1848, 2.2472, 2.2577, 2.2978, 2.2764, 2.219, 1.9688, 1.6216, 0.9718, 1.4005, 1.9476, 1.8916, 1.0872, 0.4658, 1.5194, 0.958, 0.3723, 2.4622, 2.4616, 2.4615, 2.4614, 2.4612, 2.4608, 2.4608, 2.4604, 2.4603, 2.4602, 2.4602, 2.4601, 2.4598, 2.4598, 2.4597, 2.4595, 2.4595, 2.4594, 2.4594, 2.4593, 2.4593, 2.4592, 2.4592, 2.459, 2.4589, 2.4588, 2.4587, 2.4587, 2.4585, 2.4584, 2.4563, 2.4554, 2.4317, 2.4075, 2.3431, 2.3973, 2.3843, 2.2126, 2.3174, 2.2868, 2.3257, 2.3298, 2.3346, 2.1388, 2.1359, 2.1783, 2.0408, 2.2324, 2.0361, 1.7385, 2.0984, 1.0374, 2.1569, 2.007, 1.4519, 1.5794, 0.878, 1.0326, 1.1398, 0.9019, 0.4455, 2.4879, 2.4879, 2.4877, 2.4874, 2.4869, 2.4868, 2.4862, 2.486, 2.4859, 2.4857, 2.4853, 2.4852, 2.4851, 2.4851, 2.4849, 2.4848, 2.4843, 2.484, 2.4827, 2.4815, 2.4815, 2.4814, 2.4814, 2.4814, 2.4811, 2.48, 2.4797, 2.4796, 2.4793, 2.4788, 2.4722, 2.4421, 2.4558, 2.4104, 2.3504, 2.3209, 2.3786, 2.3174, 2.4096, 2.2729, 2.3848, 1.8986, 1.7156, 1.9953, 1.8742, 1.8892, 1.7194, 1.9777, 1.4305, 2.0023, 1.2649, 1.891, 1.9805, 1.072, 1.8267, 0.2984, 2.8942, 2.894, 2.8938, 2.8937, 2.8937, 2.8937, 2.8935, 2.8934, 2.8933, 2.8932, 2.893, 2.8926, 2.8922, 2.8919, 2.8918, 2.8918, 2.8917, 2.8917, 2.8916, 2.8916, 2.8914, 2.8913, 2.8913, 2.8913, 2.8912, 2.8912, 2.8912, 2.8909, 2.8906, 2.8904, 2.8764, 2.7944, 2.8659, 2.8266, 2.8261, 2.6666, 2.7375, 2.8296, 2.5201, 2.5635, 2.6278, 2.7016, 2.4619, 1.5226, 2.0916, 2.2488, 1.7673, 1.4749, 3.1376, 3.1367, 3.1365, 3.1355, 3.1351, 3.1349, 3.1344, 3.1333, 3.133, 3.1322, 3.1322, 3.1315, 3.13, 3.1283, 3.1275, 3.1252, 3.1246, 3.1245, 3.1244, 3.1228, 3.1215, 3.1208, 3.0929, 3.084, 3.0762, 3.0498, 2.881, 0.9423, 0.9421, 0.9421, -2.8139, 3.2858, 3.2855, 3.2854, 3.2851, 3.2849, 3.2848, 3.2842, 3.2841, 3.284, 3.284, 3.2839, 3.2839, 3.2837, 3.2837, 3.2834, 3.2834, 3.2834, 3.2832, 3.2831, 3.2827, 3.2825, 3.2823, 3.2823, 3.2822, 3.2822, 3.2817, 3.2816, 3.2814, 3.2813, 3.2812, 3.2151, 3.1834, 3.2035, 3.1862, 3.1515, 3.0048, 3.1842, 2.6522, 2.9758, 2.7891, 3.0812, 2.9982, 3.0121, 2.3355, 2.396, 2.2582, 2.8412, 1.0722, 1.1962, 2.0484, 3.7309, 3.7309, 3.7307, 3.7307, 3.7303, 3.7298, 3.7294, 3.7292, 3.7286, 3.7284, 3.7278, 3.7273, 3.7272, 3.7271, 3.726, 3.7259, 3.7258, 3.7257, 3.7257, 3.7252, 3.7252, 3.725, 3.725, 3.7248, 3.7239, 3.7232, 3.723, 3.7225, 3.7223, 3.7214, 3.6386, 3.3447, 3.466, 3.2461, 2.369, 2.9489, 2.4614, 1.8615, 2.8369, 3.0647, 1.8982, 1.3342, 3.3418, 1.7925, 3.9059, 3.9052, 3.9048, 3.9046, 3.9043, 3.9042, 3.9039, 3.9036, 3.9034, 3.9033, 3.9031, 3.903, 3.9023, 3.9019, 3.9012, 3.9005, 3.9001, 3.9, 3.8996, 3.8995, 3.8992, 3.8992, 3.8992, 3.898, 3.898, 3.8974, 3.8973, 3.8968, 3.8968, 3.8963, 3.8119, 3.4145, 3.1194, 3.402, 3.1296, 2.5013, 2.6706, 3.4271, 1.0366, 2.259, 1.4856, 1.6731, 1.4259, 4.243, 4.2428, 4.2413, 4.2412, 4.2405, 4.2399, 4.2383, 4.2378, 4.2375, 4.236, 4.2355, 4.2353, 4.2353, 4.2351, 4.2348, 4.2344, 4.2341, 4.2331, 4.2323, 4.2321, 4.2315, 4.23, 4.2292, 4.2289, 4.2287, 4.2286, 4.2275, 4.2275, 4.2259, 4.2257, 4.2156, 4.1975, 4.1838, 4.1431, 4.0736, 4.1787, 4.0061, 3.7069, 3.9959, 3.793, 3.3739, 2.8439, 2.6446, 2.9827, 3.0488, 1.5631, 1.5462, 1.9185, 3.4677, 4.522, 4.5212, 4.5205, 4.5203, 4.5201, 4.52, 4.5199, 4.5193, 4.5168, 4.5167, 4.5167, 4.5165, 4.5165, 4.5164, 4.5162, 4.5156, 4.5155, 4.5146, 4.5144, 4.5144, 4.5143, 4.5143, 4.5131, 4.5126, 4.5114, 4.511, 4.5102, 4.5084, 4.5061, 4.5046, 4.4754, 4.0553, 4.2061, 3.8998, 3.4815, 2.8509, 4.5451, 4.5451, 4.5441, 4.544, 4.5434, 4.5434, 4.5434, 4.5432, 4.5429, 4.5416, 4.541, 4.5407, 4.5402, 4.5401, 4.5386, 4.5386, 4.5385, 4.5381, 4.5374, 4.537, 4.5367, 4.5357, 4.5349, 4.5344, 4.5342, 4.5321, 4.5314, 4.5307, 4.5306, 4.5293, 4.4308, 4.4148, 4.4264, 4.3376, 4.0497, 3.6108, 4.3297, 2.1869, 3.7786, 4.8905, 4.8899, 4.8896, 4.8895, 4.8867, 4.8864, 4.8859, 4.8844, 4.8844, 4.8835, 4.8828, 4.8828, 4.8824, 4.8818, 4.8815, 4.8797, 4.8788, 4.8773, 4.8738, 4.8738, 4.8735, 4.873, 4.873, 4.873, 4.873, 4.8719, 4.8712, 4.8603, 4.8585, 4.8571, 4.8131, 4.7746, 4.3782, 3.0245, 2.8744, 2.3982, 2.5313, 3.0879, 1.9309, 5.2507, 5.2493, 5.2493, 5.249, 5.2485, 5.2478, 5.2445, 5.2439, 5.2434, 5.2429, 5.239, 5.2385, 5.2353, 5.235, 5.2288, 5.2261, 5.2233, 5.2202, 5.2189, 5.2102, 5.21, 5.1944, 5.1881, 5.1533, 5.1516, 5.1491, 5.118, 5.1168, 4.8216, 4.7837, 3.8885, 3.3455, 2.4269, 5.7105, 5.7102, 5.7094, 5.7077, 5.7059, 5.7046, 5.7031, 5.6993, 5.6989, 5.6988, 5.6986, 5.6986, 5.698, 5.6975, 5.6939, 5.6919, 5.6891, 5.6867, 5.6817, 5.6816, 5.6795, 5.6766, 5.6569, 5.6536, 5.6282, 5.6197, 5.5954, 5.5235, 5.4782, 5.416, 3.519, 5.9336, 5.9311, 5.9298, 5.9281, 5.9246, 5.9218, 5.9195, 5.9166, 5.9046, 5.8998, 5.8957, 5.8944, 5.8871, 5.8865, 5.8762, 5.8643, 5.8567, 5.8364, 5.8287, 5.8216, 5.8216, 5.8216, 5.8025, 5.7989, 5.745, 5.7361, 2.412, 2.412, 2.412, 2.412, 6.2278, 6.2273, 6.2248, 6.2229, 6.2228, 6.2124, 6.2039, 6.1845, 6.1591, 6.1508, 6.1244, 5.9711, 5.8769, 3.9226, 2.6211, 2.621, 2.621, 2.621, 2.621, 2.621, 2.621, 2.621, 2.621, 2.621, 2.621, 2.621, 2.621, 2.621, 2.621, 2.621, 2.621, 2.6209, 2.6209, 2.6209, 2.6209, 6.5789, 6.5744, 6.5626, 6.552, 6.5243, 6.5203, 6.5162, 6.4496, 6.4455, 6.3926, 2.7302, 2.7296, 2.7293, 2.7291, 2.7291, 2.7291, 2.7291, 2.7291, 2.7291, 2.7291, 2.729, 2.729, 2.729, 2.729, 2.729, 2.729, 2.729, 2.729, 2.729, 2.729, 2.729, 2.729, 2.729, 2.729, 6.7687, 6.767, 6.7571, 6.7358, 6.7259, 6.7099, 6.7027, 6.6945, 6.5884, 6.4922, 2.7132, 2.7131, 2.7131, 2.713, 2.713, 2.713, 2.713, 2.713, 2.713, 2.713, 2.713, 2.713, 2.713, 2.713, 2.713, 2.713, 2.713, 2.713, 2.713, 2.713, 2.713, 2.713, 2.713, 2.713, 2.713, 2.713, 2.7128, 2.713]}, \"token.table\": {\"Topic\": [18, 20, 13, 3, 4, 4, 1, 3, 7, 19, 2, 5, 13, 4, 9, 1, 3, 8, 6, 13, 14, 1, 2, 3, 4, 11, 11, 4, 15, 11, 1, 2, 4, 2, 7, 5, 5, 10, 8, 11, 1, 2, 8, 3, 8, 14, 1, 5, 15, 15, 12, 13, 3, 12, 14, 8, 10, 3, 5, 2, 9, 7, 11, 17, 1, 1, 9, 10, 16, 5, 6, 4, 20, 1, 3, 4, 16, 1, 4, 8, 3, 1, 3, 1, 17, 1, 2, 10, 11, 1, 10, 4, 8, 2, 4, 5, 13, 5, 1, 4, 9, 8, 10, 5, 6, 6, 1, 2, 4, 5, 17, 9, 17, 6, 5, 1, 1, 4, 6, 8, 11, 11, 19, 18, 2, 6, 13, 4, 13, 14, 2, 10, 3, 3, 5, 8, 10, 4, 8, 11, 8, 3, 3, 17, 10, 18, 1, 8, 9, 14, 4, 18, 2, 5, 2, 5, 1, 3, 4, 3, 11, 14, 5, 8, 11, 13, 2, 5, 4, 3, 16, 14, 8, 8, 5, 4, 1, 2, 6, 8, 17, 6, 18, 2, 17, 17, 13, 6, 8, 1, 10, 11, 2, 17, 20, 16, 11, 14, 10, 14, 9, 18, 10, 17, 13, 6, 1, 5, 10, 2, 10, 9, 1, 4, 4, 4, 11, 9, 8, 9, 3, 10, 14, 3, 5, 9, 4, 14, 8, 15, 15, 2, 9, 16, 3, 13, 7, 7, 11, 4, 3, 1, 2, 5, 5, 6, 9, 1, 2, 16, 4, 13, 6, 2, 5, 13, 7, 8, 3, 12, 6, 1, 2, 5, 10, 1, 2, 6, 7, 9, 6, 1, 18, 2, 4, 6, 15, 14, 15, 8, 7, 1, 3, 4, 3, 12, 1, 2, 3, 2, 3, 11, 6, 1, 1, 3, 18, 14, 4, 9, 1, 3, 4, 8, 3, 15, 9, 2, 14, 15, 4, 10, 12, 2, 13, 1, 4, 9, 10, 13, 13, 1, 2, 4, 8, 9, 16, 16, 1, 2, 3, 4, 11, 3, 4, 6, 8, 15, 12, 12, 6, 14, 15, 16, 2, 9, 16, 7, 14, 1, 2, 5, 10, 1, 3, 4, 1, 9, 9, 10, 11, 3, 19, 1, 9, 8, 10, 17, 1, 4, 9, 5, 4, 8, 20, 6, 8, 2, 4, 5, 4, 1, 5, 11, 11, 11, 1, 2, 17, 15, 10, 1, 4, 9, 1, 2, 4, 5, 7, 4, 1, 2, 6, 1, 9, 9, 10, 11, 5, 6, 1, 2, 3, 4, 7, 20, 1, 15, 13, 8, 17, 10, 16, 2, 3, 4, 6, 8, 1, 6, 8, 1, 4, 6, 10, 19, 2, 5, 2, 4, 5, 10, 8, 15, 2, 13, 2, 5, 6, 15, 12, 15, 1, 2, 5, 6, 5, 8, 4, 8, 13, 14, 7, 8, 2, 3, 4, 10, 16, 16, 3, 8, 3, 6, 9, 17, 4, 7, 10, 5, 13, 4, 8, 11, 13, 14, 1, 3, 4, 5, 3, 13, 14, 5, 8, 8, 15, 1, 4, 9, 12, 11, 13, 1, 3, 4, 6, 9, 9, 1, 3, 6, 1, 4, 2, 10, 11, 4, 3, 4, 1, 5, 10, 1, 1, 4, 8, 12, 1, 4, 14, 1, 2, 5, 1, 9, 1, 6, 12, 1, 5, 2, 14, 2, 5, 1, 3, 18, 4, 5, 1, 2, 3, 4, 12, 6, 14, 11, 10, 15, 1, 2, 15, 1, 3, 4, 6, 11, 16, 14, 4, 8, 2, 11, 2, 4, 5, 16, 14, 6, 8, 9, 3, 5, 8, 12, 2, 2, 6, 2, 19, 12, 3, 14, 20, 16, 17, 14, 1, 11, 14, 14, 16, 1, 2, 4, 5, 8, 3, 14, 1, 2, 5, 10, 1, 2, 4, 5, 9, 2, 1, 2, 4, 5, 6, 10, 1, 2, 9, 16, 15, 5, 2, 2, 16, 10, 1, 2, 5, 8, 11, 12, 12, 8, 9, 2, 4, 6, 1, 4, 6, 7, 12, 12, 1, 2, 4, 1, 5, 12, 6, 12, 9, 2, 10, 11, 13, 5, 7, 4, 3, 1, 6, 2, 9, 9, 9, 1, 3, 4, 8, 8, 7, 3, 4, 11, 10, 16, 5, 10, 10, 1, 9, 6, 9, 8, 12, 9, 9, 17, 14, 1, 3, 9, 8, 10, 18, 8, 10, 8, 8, 14, 17, 1, 2, 4, 5, 1, 4, 1, 3, 6, 8, 9, 7, 15, 1, 10, 6, 4, 5, 10, 10, 18, 1, 12, 1, 2, 5, 12, 14, 6, 10, 2, 10, 11, 1, 2, 12, 3, 3, 11, 18, 16, 8, 10, 11, 3, 8, 2, 3, 8, 10, 9, 4, 8, 10, 6, 5, 1, 15, 16, 1, 2, 3, 7, 4, 7, 18, 12, 6, 13, 6, 4, 19, 1, 3, 1, 1, 3, 14, 16, 16, 3, 17, 8, 14, 12, 11, 14, 11, 3, 3, 14, 20, 5, 6, 3, 5, 14, 1, 2, 8, 13, 4, 5, 12, 3, 9, 11, 18, 11, 1, 3, 8, 10, 11, 4, 6, 1, 6, 14, 9, 8, 12, 19, 8, 7, 1, 2, 6, 9, 7, 7, 1, 9, 13, 6, 10, 6, 12, 1, 3, 4, 15, 13, 10, 12, 12, 13, 9, 17, 2, 15, 4, 15, 9, 7, 10, 1, 10, 10, 1, 3, 4, 1, 3, 6, 7, 3, 14, 5, 4, 2, 10, 1, 2, 3, 17, 13, 9, 11, 13, 14, 11, 12, 5, 15, 16, 16, 12, 14, 2, 12, 8, 14, 1, 1, 2, 3, 14, 2, 12, 19, 16, 5, 15, 2, 6, 12, 16, 20, 7, 1, 9, 1, 4, 9, 9, 1, 3, 8, 11, 3, 1, 8, 16, 10, 8, 13, 1, 6, 4, 12, 14, 19, 4, 1, 1, 2, 3, 8, 11, 1, 6, 13, 15, 2, 3, 6, 10, 16, 1, 4, 8, 13, 10, 2, 11, 9, 2, 5, 10, 12, 11, 1, 3, 4, 3, 14, 4, 2, 5, 3, 15, 1, 3, 1, 3, 13, 15, 1, 2, 4, 7, 1, 3, 4, 8, 10, 14, 4, 7, 1, 9, 11, 4, 8, 13, 11, 19, 1, 3, 8, 3, 1, 2, 3, 5, 14, 14, 14, 1, 15, 20, 13, 8, 5, 8, 12, 13, 11, 5, 1, 2, 3, 6, 10, 2, 10, 15, 16, 1, 2, 5, 2, 3, 8, 14, 11, 13, 17, 5, 14, 9, 11, 1, 5, 8, 10, 6, 1, 3, 14, 11, 17, 1, 3, 9, 1, 15, 17, 13, 17, 9, 2, 7, 20, 6, 8, 3, 13, 14, 4, 14, 1, 2, 3, 4, 1, 2, 5, 14, 17, 17, 1, 3, 5, 1, 6, 8, 9, 4, 9, 8], \"Freq\": [0.8785718729160353, 0.9022381194346254, 0.9952783334887034, 0.8601646094224754, 0.13857067096901454, 0.9976241333626853, 0.9857943137917851, 0.013911144902770541, 0.9954168247937787, 0.9569420482027735, 0.02982697226801188, 0.9686664327040049, 0.9854153494923621, 0.9362604448599073, 0.061562330620925414, 0.4266729754649456, 0.5730048623572555, 0.9950770553467118, 0.9983829862301685, 0.8119216650958209, 0.18314022520958365, 0.5881244425365683, 0.25339576532429553, 0.025274769431323594, 0.13301657501997866, 0.9919861397968356, 0.9887345519828749, 0.994613751522522, 0.9831560940939781, 0.9788208265850259, 0.04725647803579758, 0.15717915520602238, 0.7941142939493809, 0.9987198759896234, 0.9863234078769019, 0.9985178049240453, 0.9947085394055404, 0.9935094121226531, 0.9980830507029739, 0.9852089425603283, 0.5115838692359292, 0.1301761223177324, 0.3573624759168323, 0.9992067923814065, 0.9982609479728481, 0.9972555556450702, 0.4452655569213179, 0.5546578324866843, 0.9668094542706241, 0.9642127915359682, 0.9954258947646039, 0.9805436899104637, 0.9989210109723868, 0.9799980886781017, 0.9641036527796563, 0.9016633970836941, 0.09683735768201966, 0.9975857303147947, 0.9888484025118004, 0.9991183856339877, 0.9971210314664245, 0.9999666874042944, 0.9954545842483452, 0.915950264650771, 0.9997468755184172, 0.9973859670171548, 0.0022154286250936355, 0.994823169610394, 0.9914956681366405, 0.9955136026867816, 0.9967087008316607, 0.9972624525449971, 0.9265713328868098, 0.13978619510469278, 0.206253160424081, 0.6530208036018246, 0.657634016044092, 0.25606800420105996, 0.6947727466925818, 0.048012750787698746, 0.9985828627477524, 0.024993157402457854, 0.9747331386958563, 0.9992249886910274, 0.9753410070539996, 0.22710194047244303, 0.6886178157128434, 0.08387287574266362, 0.9980479191521617, 0.3948595836944108, 0.6034971803189685, 0.9991193713738519, 0.9961952478868672, 0.005962137068314593, 0.9936895113857654, 0.994864469004716, 0.9950721911552721, 0.9937167199536376, 0.36075125872715813, 0.6343942866884903, 0.004399405594233636, 0.9968373315477406, 0.9914737502634938, 0.09480995991046363, 0.9047413857309486, 0.9975021307878947, 0.4916479944471623, 0.1928939086814039, 0.2663479091072825, 0.049072210368549155, 0.9875862844202306, 0.9881488684251037, 0.9902994286141001, 0.9993726552301055, 0.9995965890393883, 0.9981561599060124, 0.1288092642664196, 0.4289591536419445, 0.13245480948150695, 0.02430363476724898, 0.2831373450384506, 0.9843523844456779, 0.8113897265015878, 0.94766079957355, 0.9986330220580016, 0.998929670687464, 0.9896124705039219, 0.09493905939574965, 0.8904867979820313, 0.013859716700109437, 0.5440974286540381, 0.4549116473062654, 0.9995708115179386, 0.9979679670312493, 0.9955552468476041, 0.7501509918304767, 0.24874458475840874, 0.07830387939856784, 0.919345547012815, 0.9900507912048337, 0.996396807568202, 0.9996067802181524, 0.9968728647257961, 0.9394632047132917, 0.9966616930002576, 0.9943906092678795, 0.8689414512399963, 0.026084546378686572, 0.052169092757373144, 0.05135395068303918, 0.9957352316000695, 0.7808538679476547, 0.9994519574396898, 0.9991653234157345, 0.07377152496418353, 0.9249814283970704, 0.7910518457470954, 0.0038312477872023483, 0.20507257892551517, 0.3076750396697952, 0.6360922168454194, 0.05185534376457223, 0.9965876354199633, 0.9978868481182884, 0.9857711174539079, 0.9873203240912175, 0.45011124430099764, 0.5494389288738079, 0.9951667715351512, 0.9980185043042941, 0.8866855660249886, 0.987219273455341, 0.9959447184614141, 0.997206559687856, 0.9955461592697016, 0.9975821494522428, 0.13826226721820134, 0.25447043046294726, 0.19594223145646938, 0.4105456278135549, 0.9934659968110319, 0.9975440613351897, 0.9949083462295278, 0.9988786346508614, 0.9337341475103664, 0.7665391703701211, 0.996910870747851, 0.9989381377223191, 0.9987104705327272, 0.9986650372725432, 0.09283183355135138, 0.9059106515528429, 0.9988297251213875, 0.9744611700670206, 0.862769209718401, 0.9782021080053047, 0.9725160246964643, 0.02516677328234843, 0.9100270699050409, 0.08666924475286104, 0.9921493031822185, 0.9846034819455137, 0.9900032472584134, 0.883520573189448, 0.9872896093281204, 0.9965459354248687, 0.9176932141425024, 0.08181762644283591, 0.9857623467682294, 0.9278518860618419, 0.07181516145989489, 0.9928511969537819, 0.5149178788084466, 0.48458341764076035, 0.9976985611207151, 0.7524334635385758, 0.24637894076367087, 0.9956562574570483, 0.31847723855887744, 0.678356518130409, 0.998625269597145, 0.09297008512532762, 0.8898565290567071, 0.9985111557743599, 0.9983273104097614, 0.9955063647732143, 0.831683855556036, 0.16421783135182874, 0.36871991638523, 0.6286372344928511, 0.97899862327132, 0.998338765092936, 0.9968682128544573, 0.9688077178001253, 0.6068761435945234, 0.3921014648269516, 0.9991081762287293, 0.9972956293543418, 0.9952865826081172, 0.9991845967026726, 0.9961237019776281, 0.9988131313696409, 0.9984174816513824, 0.997501624099211, 0.25388632031463737, 0.06505836958062583, 0.679145906841655, 0.4652169619984654, 0.5345128776768979, 0.9722198940663375, 0.9971507149092437, 0.9968016201624649, 0.9995694322900815, 0.15637395825306558, 0.8433268054259213, 0.9984246739757234, 0.9977811007818507, 0.9933375507199254, 0.3719807946625084, 0.6258724481623157, 0.9979562444552726, 0.9992620618888465, 0.39924388040618153, 0.6000286668628826, 0.9982189642435217, 0.9450748255474426, 0.03254267087969967, 0.00891580024101361, 0.002674740072304083, 0.01025317027716565, 0.9987672685258935, 0.9995022909994841, 0.9639380048364115, 0.9986834386472125, 0.6715008372401766, 0.267627145276882, 0.05839137715131971, 0.9959641091478393, 0.8664234836402588, 0.9970553364491938, 0.9872798522453262, 0.8380339292352937, 0.12422450660310587, 0.03755624618233434, 0.9996405112217309, 0.99168101403635, 0.09375209283554407, 0.29952999151695014, 0.6062105663857638, 0.11209201457063171, 0.8876475748431105, 0.9923662660021776, 0.995710711624401, 0.9990451948245948, 0.2037180569424263, 0.7942946462603692, 0.9931286238376428, 0.9861942890657872, 0.9464952463024607, 0.052367564856898446, 0.2917752545461675, 0.6187487937677456, 0.04492412649361626, 0.04399785584426335, 0.9994189124414498, 0.9978414463325911, 0.9975868814809525, 0.9976609531943269, 0.957135362898922, 0.5990924264927909, 0.9967357175318464, 0.988438804289516, 0.998681012845984, 0.9994091898656766, 0.9967237942083328, 0.3519631143187821, 0.13198616786954329, 0.5139461385223125, 0.9951108971338123, 0.9989218469956576, 0.9951059057447937, 0.6747569671332464, 0.018826924306173172, 0.20985744959947694, 0.005020513148312845, 0.0908712879844625, 0.9932521335789499, 0.9887797949123804, 0.04448141839070193, 0.4490105441325572, 0.26227251409611985, 0.24380852910375303, 0.992276659941508, 0.1339648669202534, 0.22455981289510102, 0.033732160735315604, 0.6081426692566898, 0.9977070912164278, 0.9945392723116515, 0.9907660503592212, 0.9705957219290878, 0.025977014455523032, 0.9884244602992431, 0.993379770255286, 0.9983942130798552, 0.9993238493998198, 0.9947024983109272, 0.9874328127520545, 0.9950442771252129, 0.9631076886219163, 0.011119609483458625, 0.025696576537404384, 0.9895607064155729, 0.8619084982758621, 0.06608433836699107, 0.07170853737694775, 0.9934758066829946, 0.0064103322546600104, 0.911577849351492, 0.021086320358664406, 0.06650301036194159, 0.9987317631311865, 0.7656216670518052, 0.9759182417780261, 0.023896426113669926, 0.7541119425110434, 0.24539312271948846, 0.9970587955003404, 0.9794060694406695, 0.007991074508439935, 0.011986611762659903, 0.9933416819789838, 0.1255248081702925, 0.8731560832065401, 0.9304328675442459, 0.9816706196986729, 0.015582073328550364, 0.10894836491561873, 0.8871509714557525, 0.0034586782512894833, 0.9954348119537109, 0.9986858199800441, 0.9911136053524163, 0.9989714513531455, 0.9961262186559039, 0.9868775237471403, 0.9992709404967336, 0.9985983011472237, 0.9448574449530083, 0.9958583159402782, 0.9953955116154266, 0.9994813303698061, 0.9972470365590341, 0.9952594606575631, 0.20443182240298277, 0.18252841285980606, 0.07162067247451437, 0.541327121567082, 0.9910107392675618, 0.9967169821883416, 0.22068323350528282, 0.09130137935041846, 0.687742550986318, 0.5408151409406767, 0.45750037598495086, 0.9916468125372183, 0.04251227118483601, 0.9534895108598934, 0.9998295777184215, 0.9981434315499947, 0.48070206443270813, 0.12377358545273323, 0.3948281427426335, 0.9986706420406213, 0.9969477006803137, 0.9948300004433723, 0.9992454883155534, 0.9987734077989348, 0.9945677903682859, 0.9970984663482618, 0.8623424976374038, 0.9951988366937036, 0.9558606227082245, 0.7596297992153243, 0.025829761333442246, 0.1334537668894516, 0.055573122868921195, 0.025047041293034904, 0.23885546597995333, 0.6489657943606278, 0.11154099590573292, 0.006288553634801509, 0.9920193358899381, 0.3771526475936896, 0.6207999332073121, 0.9034183628362877, 0.4833498963980672, 0.5158249675623123, 0.72390167725312, 0.06872484277719494, 0.11787351821785558, 0.08871752431237893, 0.9943582459338302, 0.9218058742415113, 0.9982808962771138, 0.9952461370537281, 0.9881814634151591, 0.009771880973203056, 0.9956365756433486, 0.9923436096980552, 0.9887836887560082, 0.9528225042202307, 0.05105916852707557, 0.009190650334873603, 0.896598999335447, 0.04186851819220197, 0.9963956865519764, 0.9977369206304708, 0.998477832501652, 0.994623886661166, 0.9915083937975774, 0.9947277230108325, 0.8357093589841702, 0.9988532184421692, 0.06504068927886744, 0.042867727024708084, 0.8647455279122148, 0.026607554704991224, 0.9570774149037081, 0.8601243110776575, 0.3586147632411437, 0.6395002181935667, 0.12650064142574222, 0.8238354272851461, 0.04743774053465333, 0.9157668919204375, 0.9973774038404397, 0.9356354023339714, 0.9993591955357464, 0.9990704466440583, 0.9973638859187061, 0.4555545647197176, 0.289898359367093, 0.20223861736799584, 0.04762615903887957, 0.004141405133815615, 0.8386236545506476, 0.04515045633619748, 0.0041464704798548704, 0.11195470295608151, 0.9971858423011407, 0.9938640542506902, 0.9832648035333817, 0.9240126976092917, 0.0730857500933903, 0.9982033227830539, 0.8597215340311463, 0.7900723361646367, 0.04976486844292305, 0.15986413490956697, 0.9965739430211048, 0.9994477215531582, 0.9922235706820334, 0.19374546322621003, 0.2156471242865642, 0.04211857896221957, 0.44814168015801625, 0.10024221793008257, 0.9961820190335131, 0.5144522175441878, 0.16096752739179843, 0.32386666511229845, 0.9916572757006787, 0.007715411298357683, 0.5030255526372699, 0.07621599282382877, 0.4191879605310582, 0.9985141755078291, 0.27819586187816886, 0.721202635247636, 0.15387564252925842, 0.8461107099502456, 0.998148943403657, 0.9994125122742911, 0.0931343968593393, 0.8387672627332114, 0.06748061089808416, 0.9910768626222922, 0.9972400372021611, 0.0019952781856785937, 0.9758082413660611, 0.7326427143777012, 0.024429486349338995, 0.24260173077610905, 0.7186715673598382, 0.2809214071565469, 0.9994325811764309, 0.9987093082514578, 0.9875254254787916, 0.7054465754481052, 0.29439065121593416, 0.9993545326608251, 0.9741228629715883, 0.38862556134254955, 0.6109774213639679, 0.920239091931292, 0.07959273404046106, 0.7602683600094428, 0.9994105312374059, 0.9978780909230855, 0.4962703155516519, 0.039054856913087396, 0.22512513061365663, 0.239304282486561, 0.9917528474720599, 0.9963267629403727, 0.9889147740073814, 0.9810575808164778, 0.9979870296344353, 0.98259397556296, 0.9990581133244771, 0.7413878321950771, 0.25673500902868396, 0.5623663044169973, 0.4373960145465534, 0.9956569004125614, 0.9376423782065282, 0.06049305665848569, 0.9761503984488976, 0.9861942890657872, 0.7368784161439709, 0.262278758288532, 0.998646256461323, 0.9909119631782807, 0.6189280865767934, 0.1609429055845414, 0.21981128380170586, 0.9871947690101573, 0.9850400756344255, 0.9975189936188378, 0.9987908016285589, 0.9952762968749057, 0.09423411279891034, 0.9019550796467133, 0.9946641421042686, 0.9969842141186709, 0.9979051877199641, 0.1443153717744411, 0.8549592479364616, 0.036270724876416076, 0.9591591689541141, 0.9971071828806375, 0.996201135301429, 0.9879887105765814, 0.989851132892675, 0.9844127728568288, 0.9950986305835148, 0.9849197665776419, 0.9996191278529258, 0.8442623169164252, 0.1538274560483317, 0.9971563844701633, 0.9555223688079405, 0.07725779762898353, 0.26637351084348926, 0.655980318518486, 0.2657459769406564, 0.73234647133646, 0.9979675436045542, 0.9903309280123553, 0.4184948731359154, 0.21157475891603406, 0.3471941793812119, 0.02242692444509961, 0.06487465772409096, 0.09774448430429704, 0.13753427437507282, 0.6150117552243822, 0.08390455732315763, 0.9988914722987358, 0.38544558132293677, 0.20206394633128447, 0.015732472707058645, 0.10275271236797677, 0.25368612240132066, 0.04031446131183778, 0.7747406932198515, 0.08073794363931934, 0.14372499186857554, 0.9963475156981884, 0.9544709789890737, 0.9997522088299088, 0.9987494210462254, 0.9987413153450896, 0.7152005945782578, 0.9952346131762896, 0.6275741363702062, 0.32840351239194143, 0.01772632595297411, 0.026123006667540794, 0.4596003620902061, 0.5356493428677223, 0.9857961748709569, 0.9979308103089719, 0.9929353955197507, 0.38747422092464556, 0.08634523028961462, 0.5245472740094088, 0.753563775143675, 0.003950530931290564, 0.241970019541547, 0.9706053213784236, 0.9962824343405536, 0.9840834956456103, 0.4016743298461789, 0.18445184843752271, 0.4133781273358694, 0.12844174651498227, 0.8713832195420644, 0.9906376947754447, 0.9964263480536916, 0.9915080985102706, 0.9969452776312667, 0.9990888222933969, 0.058153578607207074, 0.9377264550412141, 0.9952636270690697, 0.9909093000304848, 0.9973918690733311, 0.9961737619835206, 0.9988932859944878, 0.2810356524147843, 0.7183733252136815, 0.9983349309493948, 0.9961050709626735, 0.991951815689324, 0.9916926430515854, 0.08333349294981456, 0.13769219043119432, 0.7787285841922492, 0.00012382391225826829, 0.9934706500127171, 0.9320836723894511, 0.17794636876520709, 0.7230554117492914, 0.0978705028208639, 0.9956057121335616, 0.9775894258149215, 0.8063786101334774, 0.19208777049128786, 0.9985392863872031, 0.5892446084058252, 0.40826233582403604, 0.9992300891361905, 0.9931920007473708, 0.997564418838315, 0.9860173123160149, 0.9990298554416716, 0.9989726774796618, 0.982553105770315, 0.986678753532653, 0.6963967230451744, 0.25623146603646874, 0.04704664884694499, 0.7586670207877227, 0.1385032435770502, 0.09922620435370762, 0.814706410492958, 0.18353276280335867, 0.9975373655374534, 0.9024318145331333, 0.09400331401386805, 0.9724891240228749, 0.10180057735567169, 0.06994212329112695, 0.3639919924156031, 0.46359543500820277, 0.11852490881781755, 0.8791847666739377, 0.00929334391229708, 0.0475600541394027, 0.795947572723797, 0.14650683344091867, 0.9935830853906645, 0.9646783369303407, 0.9834395271117782, 0.998945194119882, 0.9866344361855872, 0.9993913828388471, 0.9955110655741035, 0.9981296521849694, 0.992369683545268, 0.9981873048485681, 0.9178188962036287, 0.99944074694851, 0.9908311496838319, 0.6578218647901148, 0.3059256703582265, 0.03616970168232274, 0.06944183219002083, 0.9258910958669444, 0.9979400849241113, 0.9929443077234416, 0.9995459632004712, 0.21255234757881963, 0.7834072239333638, 0.3048856293142576, 0.3411307740579106, 0.3517911107472203, 0.9970234124415321, 0.206804104243743, 0.7902871126457321, 0.9908695257200174, 0.9245917582416023, 0.23597959584736503, 0.46008600448228404, 0.302766273917374, 0.9767138976733633, 0.021948626914008163, 0.49046150782145365, 0.32627938777495213, 0.07609710960885466, 0.10736989437961685, 0.9906555987198558, 0.20194383408972572, 0.1859165456699062, 0.6116013261003121, 0.9980608094000376, 0.9953010579131523, 0.9996342192139153, 0.9895871024401796, 0.9884330337006632, 0.5528996847722915, 0.09621890618115203, 0.350409150868673, 0.9974230494602447, 0.9970130291565957, 0.9921518837672331, 0.9454463201966192, 0.9891527474317686, 0.9972495544555277, 0.9905084817592504, 0.998524893195214, 0.995705054623655, 0.9788473333675908, 0.9996458509246549, 0.9971266954150629, 0.9996082763029546, 0.23159121457539936, 0.768100677364847, 0.989927148211197, 0.9965682573403026, 0.9733249073608486, 0.9961371772676806, 0.9361739693388572, 0.3926806935495596, 0.5979456015413749, 0.989894316490499, 0.9907286980770968, 0.9911410384950372, 0.994615249452903, 0.998894540759537, 0.9978517088181224, 0.978089640680208, 0.9735458111219539, 0.06403825152492344, 0.9343016696841394, 0.027623806839243866, 0.9549944650138593, 0.01686128469408392, 0.22622748943532914, 0.29244041317249864, 0.3862420551334888, 0.09449135991658565, 0.20922801602304045, 0.6015305460662413, 0.1877447822349604, 0.9976922849301919, 0.993682210376849, 0.997496498761923, 0.9761110137222966, 0.9842450299537912, 0.7397710980478523, 0.050584748198735735, 0.1236241895003249, 0.017272840848348788, 0.0685978536548709, 0.8753823105881519, 0.12319121920528626, 0.3251921204785184, 0.5397167654015201, 0.13280097066662008, 0.9899174684793546, 0.2673617799826481, 0.7299400977304042, 0.9455068434783888, 0.9975453701986606, 0.9855062645510665, 0.18835664210498074, 0.6295389978240602, 0.027926694570770013, 0.15419100513010253, 0.981223129095825, 0.9861270250738159, 0.9998136669719075, 0.18510740262031894, 0.8045052498498477, 0.933170671715598, 0.06429974593093343, 0.9990227048153095, 0.9974245316511304, 0.5311182657796347, 0.22830926294360454, 0.24039030184507898, 0.9981174878127522, 0.9846970996982164, 0.9924177500902224, 0.998404338545393, 0.9976216126617882, 0.9781644220284468, 0.9974172897532407, 0.8681527335952758, 0.9992396075526936, 0.9599447386188076, 0.9972570325313087, 0.9956269262894561, 0.9986122943723871, 0.9905434618446786, 0.9963980909969657, 0.9990516866153853, 0.9968554753436193, 0.9988145190258779, 0.9171488760038765, 0.02893263994289078, 0.05375463158788451, 0.8792546054013971, 0.12018817485000968, 0.9992428177325268, 0.9926023464197752, 0.9990237347547346, 0.9832738909434392, 0.9955524792634023, 0.9978250077554325, 0.9984532124767421, 0.9953005323783157, 0.31458261093167417, 0.6604853061142324, 0.02441124213671849, 0.9714333922326952, 0.9896035935895393, 0.2838483340872026, 0.5847275682196375, 0.08515450022616079, 0.0435234112267044, 0.98483793788701, 0.992518160483726, 0.9979435191283421, 0.9833431843561126, 0.9820197986866048, 0.9814974962545743, 0.992191548650374, 0.9871409340338017, 0.9992657861180345, 0.9933692606844885, 0.9045204323004283, 0.09437211572957921, 0.9991569337640555, 0.9992728871441409, 0.8337024448467654, 0.1451259811399925, 0.020585245551771984, 0.046042655289833964, 0.953466653293645, 0.9072784049816629, 0.9838842361202179, 0.9938763219126613, 0.9880212999228541, 0.23326532315446458, 0.7654018416005869, 0.9934590120995525, 0.9154605578269054, 0.8285864476786091, 0.9888680294931017, 0.23028888569216424, 0.7658444338134764, 0.9621455728397424, 0.0018467285467173558, 0.03508784238762976, 0.9945326397214063, 0.30830355098841306, 0.09390656872211461, 0.5299506727516394, 0.0673227239000454, 0.9986773916695493, 0.8003525984760277, 0.08343444076777122, 0.11124592102369496, 0.996037489338519, 0.38836513964348995, 0.6086319352621857, 0.9996096954291587, 0.9966693186514104, 0.9243610476746762, 0.07447458677947628, 0.9833517683107088, 0.9695143195001895, 0.9971115213668728, 0.998583091786338, 0.14929345929876475, 0.6338688625445871, 0.08495149704205807, 0.11410644868962828, 0.017090833724437718, 0.9995044480596482, 0.9974814567731215, 0.990058687602225, 0.9469360132455504, 0.7997539783767769, 0.08463596880723932, 0.05872319421647662, 0.056672542989869505, 0.966516613363867, 0.8624401743588971, 0.1373980530578925, 0.10770094494280466, 0.8860850470294384, 0.9968786231352249, 0.9986368701108329, 0.9846358877502127, 0.999405673243769, 0.10321663406196466, 0.5502300266912251, 0.29024827924191565, 0.05510060916089843, 0.988363887864957, 0.8852923785432426, 0.0363181973475239, 0.07815676069187144, 0.9977252764469826, 0.9601302645699489, 0.998283510883759, 0.9991909650479769, 0.9997234196761394, 0.9974975572780508, 0.9003141254481043, 0.8621021530149038, 0.13773103114403326, 0.8744397575594665, 0.12540771414165647, 0.990729125729716, 0.9699984567515758, 0.9964049537714458, 0.0016872620830489383, 0.0016872620830489383, 0.9968810372094351, 0.5442839236250204, 0.07805622160513859, 0.09071398727083674, 0.11708433240770788, 0.08649473204893736, 0.08227547682703797, 0.9971869773372771, 0.9971666196481798, 0.38293426742991526, 0.6150669870666339, 0.9915725162505133, 0.9978157799629516, 0.12115547768813492, 0.87644388114821, 0.9929674116566832, 0.9797469170331347, 0.1815127565576412, 0.8174556643542341, 0.9982082543449972, 0.9981476297396258, 0.882525553576352, 0.033233179841787315, 0.033233179841787315, 0.05077291364717506, 0.997236017211411, 0.9888926720263257, 0.9961875703847591, 0.99905104409607, 0.8859077103661499, 0.9536263733232967, 0.9891848723949298, 0.9976737352973727, 0.9841226532560416, 0.015396964588099738, 0.9917196951119793, 0.9888045435779464, 0.9889603300144159, 0.9986200879123752, 0.3221032687006154, 0.5962929033814656, 0.006646084718870663, 0.04621347281261228, 0.02859362030211797, 0.9790914659658493, 0.02000089570552805, 0.9941019709312849, 0.9687149615817466, 0.9997426052950418, 0.9993774331813395, 0.9976019728228728, 0.15777323561988432, 0.8414572566393831, 0.9299810978059659, 0.06736612192587386, 0.9925305983746687, 0.9964688333942319, 0.9049006703676845, 0.9875242985287639, 0.9874496276365092, 0.05451261231055621, 0.9418568015879434, 0.8944379248000481, 0.10519123242292136, 0.9985193316940956, 0.9883173283052356, 0.9970560337350929, 0.8806280198331611, 0.11425359608612291, 0.004837349834291495, 0.9974136859054282, 0.9703382615094985, 0.9861302709774374, 0.0016107975677514496, 0.012080981758135873, 0.8490196447357895, 0.1498269961298452, 0.915950264650771, 0.99708499671262, 0.8827687037110554, 0.9995339355814239, 0.999658126855492, 0.9991555202813531, 0.9651922399367517, 0.9988901269839496, 0.998236253879357, 0.45280665061602043, 0.46599519383784627, 0.07913125933095502, 0.9689836909074792, 0.029162299863152587, 0.10294696495651821, 0.0384130466255665, 0.8258805024496797, 0.03149869823296453, 0.7222612514355977, 0.2652624281144237, 0.008733755290137993, 0.0036559905865693925, 0.846587962292701, 0.9920466511158563, 0.5335518473353672, 0.004520390070346101, 0.46188179186520245, 0.5994759121081428, 0.03494327306180099, 0.10922388346263544, 0.2561111750158348, 0.8724002039705628, 0.12663873928604946, 0.9970712000619466], \"Term\": [\"ab\", \"absurd\", \"abuse\", \"accept\", \"accept\", \"account\", \"actually\", \"actually\", \"adam\", \"added_forwarde\", \"advance\", \"advance\", \"afford\", \"age\", \"age\", \"agree\", \"agree\", \"aim\", \"air\", \"alive\", \"alive\", \"also\", \"also\", \"also\", \"also\", \"ammunition\", \"analogy\", \"anti\", \"app\", \"appeal\", \"appear\", \"appear\", \"appear\", \"application\", \"appoint\", \"appreciate\", \"appreciated\", \"approve\", \"arab\", \"arbitrary\", \"area\", \"area\", \"area\", \"argument\", \"arm\", \"armenian\", \"article\", \"article\", \"assembler\", \"association\", \"astronomy\", \"atf\", \"atheist\", \"atmosphere\", \"atrocity\", \"attack\", \"attack\", \"authority\", \"automatically\", \"available\", \"average\", \"ax\", \"baby\", \"baby_bike\", \"back\", \"bad\", \"bad\", \"ban\", \"bank\", \"baseball\", \"battery\", \"bear\", \"beauty\", \"become\", \"become\", \"become\", \"bee\", \"begin\", \"begin\", \"begin\", \"belief\", \"believe\", \"believe\", \"bike\", \"biological\", \"bit\", \"bit\", \"bit\", \"blank\", \"block\", \"block\", \"body\", \"bomb\", \"book\", \"book\", \"bounce\", \"boy\", \"brave\", \"bring\", \"bring\", \"bring\", \"british\", \"brother\", \"buy\", \"buy\", \"cable\", \"call\", \"call\", \"call\", \"call\", \"camera\", \"captain\", \"capture\", \"car\", \"card\", \"care\", \"carry\", \"carry\", \"carry\", \"carry\", \"carry\", \"cash\", \"caution\", \"chamber\", \"character\", \"cheap\", \"chief\", \"child\", \"child\", \"child\", \"chip\", \"chip\", \"christian\", \"church\", \"circuit\", \"citizen\", \"citizen\", \"city\", \"city\", \"civil\", \"civilian\", \"claim\", \"clearly\", \"clinton_gore\", \"clipper\", \"clipper_chip\", \"close\", \"close\", \"close\", \"close\", \"club\", \"cock\", \"code\", \"color\", \"com\", \"com\", \"come\", \"come\", \"come\", \"commit\", \"commit\", \"commit\", \"communication\", \"community\", \"competition\", \"compound\", \"computer\", \"computer\", \"concerned\", \"conclusion\", \"cone\", \"conservative\", \"consideration\", \"constitution\", \"consult\", \"context\", \"control\", \"control\", \"control\", \"control\", \"convert\", \"cool\", \"cop\", \"copy\", \"cord\", \"corinthian\", \"corporation\", \"cost\", \"country\", \"couple\", \"court\", \"court\", \"cpu\", \"creature\", \"credibility\", \"crew\", \"crime\", \"crime\", \"criminal\", \"criminal\", \"cross\", \"crypto\", \"cryptography\", \"cubic\", \"cult\", \"cycle\", \"d\", \"d\", \"danger\", \"datum\", \"datum\", \"daughter\", \"day\", \"day\", \"dead\", \"death\", \"death\", \"decent\", \"defense\", \"defense\", \"define\", \"democracy\", \"democracy\", \"deny\", \"dept\", \"deserve\", \"destroy\", \"destroy\", \"detailed\", \"detailed\", \"developer\", \"device\", \"devil\", \"diameter\", \"die\", \"die\", \"direct\", \"dirty\", \"disagree\", \"discussion\", \"disease\", \"disk\", \"display\", \"distribution_usa\", \"division\", \"division\", \"division\", \"do\", \"do\", \"dock\", \"doctor\", \"dream\", \"drive\", \"driver\", \"driver\", \"drug\", \"dual\", \"duty\", \"earth\", \"earth\", \"eat\", \"else\", \"email\", \"email\", \"encryption\", \"end\", \"end\", \"end\", \"end\", \"end\", \"engine\", \"enough\", \"entitle\", \"entry\", \"environment\", \"environment\", \"environment\", \"escape\", \"esdi\", \"ethnic\", \"eve\", \"even\", \"even\", \"even\", \"evidence\", \"evolution\", \"example\", \"example\", \"example\", \"exist\", \"exist\", \"expansion\", \"expensive\", \"experience\", \"explain\", \"explain\", \"export\", \"extermination_ohanus\", \"face\", \"face\", \"fact\", \"fact\", \"fact\", \"fact\", \"faith\", \"family\", \"fan\", \"faq\", \"fascist\", \"fasst\", \"father\", \"fed\", \"field\", \"file\", \"fill\", \"final\", \"final\", \"final\", \"finish\", \"fire\", \"firearm\", \"first\", \"first\", \"first\", \"first\", \"first\", \"flight\", \"floor\", \"follow\", \"follow\", \"follow\", \"follow\", \"follower\", \"force\", \"force\", \"force\", \"force\", \"format\", \"frame\", \"frequently_aske\", \"front\", \"front\", \"ftp_site\", \"fuel\", \"function\", \"game\", \"gateway\", \"genesis\", \"genocide\", \"get\", \"get\", \"get\", \"giant\", \"give\", \"give\", \"give\", \"go\", \"go\", \"goal\", \"goal\", \"goal\", \"god\", \"golden\", \"good\", \"good\", \"government\", \"government\", \"graphic\", \"great\", \"great\", \"great\", \"greatly_appreciate\", \"greek\", \"greek\", \"grip\", \"ground\", \"ground\", \"group\", \"group\", \"group\", \"grow\", \"guess\", \"guilty\", \"gun\", \"gun_control\", \"handgun\", \"hard\", \"hardware\", \"hassle\", \"headache\", \"health\", \"hear\", \"heart\", \"helmet\", \"help\", \"help\", \"help\", \"help\", \"herein\", \"hide\", \"high\", \"high\", \"high\", \"hit\", \"hit\", \"hitter\", \"hole\", \"hole\", \"host\", \"hot\", \"however\", \"however\", \"however\", \"human\", \"human_being\", \"ide\", \"ill\", \"image\", \"immediate\", \"impact\", \"impedance\", \"implementation\", \"in\", \"include\", \"include\", \"include\", \"include\", \"include\", \"increase\", \"increase\", \"increase\", \"indeed\", \"indeed\", \"industry\", \"industry\", \"infinity\", \"info\", \"info\", \"information\", \"information\", \"information\", \"information\", \"inhabitant\", \"ini_file\", \"input\", \"insert\", \"instal\", \"instal\", \"insurance\", \"intel\", \"intelligence\", \"intentionally\", \"interested\", \"interested\", \"interested\", \"interested\", \"interface\", \"international\", \"internet\", \"invasion\", \"investigation\", \"islamic\", \"islamic_law\", \"israeli\", \"issue\", \"issue\", \"issue\", \"issue\", \"ist\", \"ists_ca\", \"jewish\", \"jewish\", \"job\", \"job\", \"job\", \"jubilees_re\", \"justify\", \"keen\", \"key\", \"keyword\", \"kid\", \"kill\", \"kill\", \"kill\", \"kill\", \"kill\", \"know\", \"know\", \"know\", \"know\", \"knowledge\", \"koresh\", \"kurd\", \"laboratory\", \"laboratory\", \"land\", \"las_cruce\", \"last\", \"last\", \"last\", \"launch\", \"law\", \"lawyer\", \"lead\", \"lead\", \"lead\", \"lead\", \"lead\", \"leafs\", \"less\", \"less\", \"less\", \"let\", \"let\", \"license\", \"license\", \"license\", \"lie\", \"life\", \"life\", \"line\", \"line\", \"listen\", \"little\", \"live\", \"live\", \"live\", \"locate\", \"long\", \"long\", \"longer_exist\", \"look\", \"look\", \"look\", \"lose\", \"lose\", \"lot\", \"low\", \"lunar\", \"m\", \"m\", \"machine\", \"mad\", \"mail\", \"mail\", \"make\", \"make\", \"malfunction\", \"man\", \"manual\", \"many\", \"many\", \"many\", \"many\", \"mar\", \"market\", \"massacre\", \"massive\", \"master\", \"maximum\", \"maybe\", \"mb\", \"mb\", \"mean\", \"mean\", \"medical\", \"meet\", \"meet\", \"meg\", \"melkonian\", \"member\", \"member\", \"memory\", \"mercy\", \"message\", \"message\", \"message\", \"micro\", \"might_serve\", \"mile\", \"military\", \"militia\", \"mine\", \"mine\", \"minority\", \"mission\", \"mode\", \"model\", \"model\", \"monitor\", \"monitor\", \"moon\", \"moral\", \"moslem\", \"mother\", \"motor\", \"mount\", \"mountain_passe\", \"much\", \"murder\", \"murder\", \"muslim\", \"n\", \"name\", \"name\", \"name\", \"national\", \"national\", \"nature\", \"nazi\", \"need\", \"need\", \"need\", \"need\", \"net\", \"net\", \"net\", \"net\", \"net\", \"network\", \"new\", \"new\", \"new\", \"new\", \"new\", \"new\", \"next\", \"next\", \"next\", \"nhl\", \"nm\", \"nntp_poste\", \"normal\", \"notice\", \"ns_simms\", \"nsa\", \"number\", \"number\", \"number\", \"number\", \"objective\", \"objective\", \"observe\", \"occupy\", \"offense\", \"offer\", \"offer\", \"offer\", \"old\", \"old\", \"old\", \"optimize\", \"orbit\", \"orbital\", \"order\", \"order\", \"order\", \"organization\", \"organization\", \"origin\", \"owner\", \"ozone\", \"pack\", \"package\", \"packet\", \"packet\", \"parent\", \"park\", \"partner\", \"past\", \"patient\", \"pay\", \"pay\", \"pc\", \"pen\", \"penalty\", \"penguin\", \"people\", \"people\", \"people\", \"people\", \"percent\", \"persistent\", \"person\", \"person\", \"person\", \"pgp\", \"phase\", \"phone\", \"phone\", \"physical\", \"pick\", \"pick\", \"pin\", \"pitch\", \"plane\", \"planetary\", \"play\", \"player\", \"please_respond\", \"plot\", \"point\", \"point\", \"point\", \"police\", \"police\", \"police\", \"policy\", \"policy\", \"political\", \"population\", \"population\", \"positively\", \"post\", \"post\", \"post\", \"post\", \"posting\", \"posting\", \"power\", \"power\", \"power\", \"power\", \"predict\", \"preliminary\", \"press_release\", \"pretty\", \"prevention\", \"price\", \"principle\", \"printer\", \"privacy\", \"private\", \"privately\", \"probably\", \"probe\", \"problem\", \"problem\", \"problem\", \"proceed\", \"proceed\", \"processor\", \"production\", \"program\", \"prohibit\", \"prohibit\", \"project\", \"project\", \"project\", \"proof\", \"property\", \"property\", \"proposal\", \"propulsion\", \"protect\", \"protect\", \"protect\", \"prove\", \"prove\", \"provide\", \"provide\", \"provide\", \"provide\", \"pt\", \"public\", \"public\", \"public\", \"purchase\", \"purdue_university\", \"put\", \"quadra\", \"qualified\", \"question\", \"question\", \"question\", \"quick\", \"quote\", \"quran\", \"radar\", \"radiation\", \"radio\", \"rain\", \"rate\", \"rational\", \"rd\", \"re\", \"reality\", \"really\", \"reason\", \"reason\", \"rebel\", \"recommend\", \"redesign\", \"refer\", \"reflection\", \"region\", \"region\", \"regularly\", \"regulation\", \"relation\", \"relationship\", \"religion\", \"religious\", \"remainder\", \"remind\", \"replace\", \"replace\", \"reply\", \"reply\", \"reply\", \"report\", \"report\", \"report\", \"report\", \"research\", \"research\", \"research\", \"respect\", \"restore\", \"revelation\", \"revolver\", \"rifle\", \"right\", \"right\", \"right\", \"right\", \"right\", \"risk\", \"risk\", \"road\", \"road\", \"road\", \"rob\", \"rocket\", \"rocket\", \"rod\", \"route\", \"ruler\", \"run\", \"run\", \"run\", \"run\", \"rushdie\", \"rutger\", \"s\", \"sad\", \"sad\", \"safety\", \"safety\", \"sale\", \"satellite\", \"say\", \"say\", \"say\", \"scan\", \"scare\", \"scheme\", \"science\", \"scientific\", \"scope\", \"score\", \"scott_roby\", \"screen\", \"script\", \"scripture\", \"scsi\", \"season\", \"seattle_wa\", \"secret\", \"section\", \"secure\", \"security\", \"see\", \"see\", \"see\", \"seem\", \"seem\", \"sell\", \"semi\", \"sense\", \"serdar_argic\", \"serial\", \"serious\", \"server\", \"session\", \"set\", \"set\", \"set\", \"shareware\", \"sheet\", \"shoot\", \"shoot\", \"shoot\", \"shoot\", \"shotgun\", \"shuttle\", \"signal\", \"significance\", \"simm\", \"simms\", \"sky\", \"slaughter\", \"software\", \"solar\", \"soldier\", \"soldier\", \"soon\", \"sound\", \"source\", \"source\", \"source\", \"space\", \"space\", \"space_dig\", \"space_station\", \"spec\", \"specification\", \"speed\", \"speed\", \"spring\", \"ssf\", \"stall\", \"stamp\", \"star\", \"star\", \"start\", \"start\", \"start\", \"stat\", \"state\", \"state\", \"state\", \"state\", \"statement\", \"station\", \"station\", \"station\", \"statistic\", \"step\", \"step\", \"still\", \"student\", \"study\", \"study\", \"stuff_delete\", \"suck\", \"suffer\", \"suggest\", \"support\", \"support\", \"support\", \"support\", \"support\", \"sure\", \"surface\", \"survivor\", \"synchronous\", \"system\", \"system\", \"system\", \"system\", \"tail\", \"take\", \"take\", \"tank\", \"tank\", \"tap\", \"tape\", \"tavare\", \"team\", \"technology\", \"technology\", \"technology\", \"technology\", \"television\", \"tell\", \"tell\", \"tell\", \"telnet\", \"territorial\", \"terrorism\", \"test\", \"thank\", \"therefore\", \"thesis\", \"thing\", \"thing\", \"think\", \"think\", \"threat\", \"tiff\", \"time\", \"time\", \"time\", \"tm\", \"today\", \"today\", \"today\", \"today\", \"today\", \"today\", \"topic\", \"trace\", \"trade\", \"trade\", \"translate\", \"treatment\", \"trial\", \"trial\", \"trigger\", \"trivial\", \"true\", \"true\", \"trust\", \"truth\", \"try\", \"try\", \"try\", \"try\", \"turk\", \"turkey\", \"turkish\", \"turn\", \"txt\", \"ultimate\", \"unable\", \"united_state\", \"university\", \"university\", \"unknown\", \"unusual\", \"upset\", \"usa\", \"use\", \"use\", \"use\", \"use\", \"use\", \"user\", \"user\", \"utility\", \"utilize\", \"ve\", \"version\", \"version_pl\", \"view\", \"view\", \"village\", \"village\", \"violate\", \"violence\", \"visualization\", \"voltage\", \"volunteer\", \"vote\", \"vote\", \"want\", \"want\", \"war\", \"warrant\", \"warranty\", \"way\", \"way\", \"way\", \"weapon\", \"weeks_ago\", \"well\", \"well\", \"well\", \"wide\", \"wide\", \"wide_glide\", \"wife\", \"wild_corn\", \"win\", \"window\", \"wing\", \"winter\", \"wire\", \"withdraw\", \"witness\", \"witness\", \"witness\", \"woman\", \"woman\", \"word\", \"word\", \"word\", \"word\", \"work\", \"work\", \"work\", \"work\", \"workshop\", \"workstation\", \"write\", \"write\", \"write\", \"year\", \"year\", \"year\", \"year\", \"young\", \"young\", \"zone\"]}, \"R\": 30, \"lambda.step\": 0.01, \"plot.opts\": {\"xlab\": \"PC1\", \"ylab\": \"PC2\"}, \"topic.order\": [9, 20, 3, 8, 10, 19, 18, 7, 4, 2, 13, 14, 12, 15, 17, 1, 11, 16, 6, 5]};\n",
       "\n",
       "function LDAvis_load_lib(url, callback){\n",
       "  var s = document.createElement('script');\n",
       "  s.src = url;\n",
       "  s.async = true;\n",
       "  s.onreadystatechange = s.onload = callback;\n",
       "  s.onerror = function(){console.warn(\"failed to load library \" + url);};\n",
       "  document.getElementsByTagName(\"head\")[0].appendChild(s);\n",
       "}\n",
       "\n",
       "if(typeof(LDAvis) !== \"undefined\"){\n",
       "   // already loaded: just create the visualization\n",
       "   !function(LDAvis){\n",
       "       new LDAvis(\"#\" + \"ldavis_el2061511258082832381080686\", ldavis_el2061511258082832381080686_data);\n",
       "   }(LDAvis);\n",
       "}else if(typeof define === \"function\" && define.amd){\n",
       "   // require.js is available: use it to load d3/LDAvis\n",
       "   require.config({paths: {d3: \"https://d3js.org/d3.v5\"}});\n",
       "   require([\"d3\"], function(d3){\n",
       "      window.d3 = d3;\n",
       "      LDAvis_load_lib(\"https://cdn.jsdelivr.net/gh/bmabey/pyLDAvis@3.3.1/pyLDAvis/js/ldavis.v3.0.0.js\", function(){\n",
       "        new LDAvis(\"#\" + \"ldavis_el2061511258082832381080686\", ldavis_el2061511258082832381080686_data);\n",
       "      });\n",
       "    });\n",
       "}else{\n",
       "    // require.js not available: dynamically load d3 & LDAvis\n",
       "    LDAvis_load_lib(\"https://d3js.org/d3.v5.js\", function(){\n",
       "         LDAvis_load_lib(\"https://cdn.jsdelivr.net/gh/bmabey/pyLDAvis@3.3.1/pyLDAvis/js/ldavis.v3.0.0.js\", function(){\n",
       "                 new LDAvis(\"#\" + \"ldavis_el2061511258082832381080686\", ldavis_el2061511258082832381080686_data);\n",
       "            })\n",
       "         });\n",
       "}\n",
       "</script>"
      ],
      "text/plain": [
       "PreparedData(topic_coordinates=              x         y  topics  cluster       Freq\n",
       "topic                                                \n",
       "8      0.342880  0.067861       1        1  38.238750\n",
       "19     0.277901 -0.109239       2        1  12.383472\n",
       "2      0.267873  0.233674       3        1   8.639989\n",
       "7      0.242781  0.140195       4        1   8.520544\n",
       "9      0.210066 -0.280208       5        1   8.307013\n",
       "18     0.135008 -0.178407       6        1   5.532290\n",
       "17    -0.039034 -0.077471       7        1   4.338414\n",
       "6      0.091618  0.117202       8        1   3.736655\n",
       "3      0.040249  0.023354       9        1   2.395862\n",
       "1      0.040385 -0.076402      10        1   2.011409\n",
       "12    -0.046445  0.077523      11        1   1.435547\n",
       "13    -0.091993 -0.037852      12        1   1.085359\n",
       "11    -0.111067  0.012406      13        1   1.060057\n",
       "14    -0.151893  0.024896      14        1   0.750342\n",
       "16    -0.172569  0.003154      15        1   0.523672\n",
       "0     -0.192890  0.008612      16        1   0.329667\n",
       "10    -0.199758  0.009577      17        1   0.264179\n",
       "15    -0.210770  0.014152      18        1   0.196062\n",
       "5     -0.216500  0.013536      19        1   0.136802\n",
       "4     -0.215842  0.013436      20        1   0.113917, topic_info=               Term          Freq         Total Category  logprob  loglift\n",
       "4383             ax  43299.000000  43299.000000  Default  30.0000  30.0000\n",
       "18             line  17046.000000  17046.000000  Default  29.0000  29.0000\n",
       "26     organization   9996.000000   9996.000000  Default  28.0000  28.0000\n",
       "213           write  13715.000000  13715.000000  Default  27.0000  27.0000\n",
       "47          article   9744.000000   9744.000000  Default  26.0000  26.0000\n",
       "...             ...           ...           ...      ...      ...      ...\n",
       "6941         closed      0.020936      1.219152  Topic20 -11.1554   2.7130\n",
       "19403         mbyte      0.020935      1.219146  Topic20 -11.1555   2.7130\n",
       "4867          laugh      0.020936      1.219181  Topic20 -11.1554   2.7130\n",
       "4381              _      0.020936      1.219406  Topic20 -11.1554   2.7128\n",
       "4893             os      0.020936      1.219183  Topic20 -11.1554   2.7130\n",
       "\n",
       "[890 rows x 6 columns], token_table=      Topic      Freq    Term\n",
       "term                         \n",
       "950      18  0.878572      ab\n",
       "371      20  0.902238  absurd\n",
       "2098     13  0.995278   abuse\n",
       "1351      3  0.860165  accept\n",
       "1351      4  0.138571  accept\n",
       "...     ...       ...     ...\n",
       "42        8  0.109224    year\n",
       "42        9  0.256111    year\n",
       "628       4  0.872400   young\n",
       "628       9  0.126639   young\n",
       "2612      8  0.997071    zone\n",
       "\n",
       "[1105 rows x 3 columns], R=30, lambda_step=0.01, plot_opts={'xlab': 'PC1', 'ylab': 'PC2'}, topic_order=[9, 20, 3, 8, 10, 19, 18, 7, 4, 2, 13, 14, 12, 15, 17, 1, 11, 16, 6, 5])"
      ]
     },
     "execution_count": 20,
     "metadata": {},
     "output_type": "execute_result"
    }
   ],
   "source": [
    "# Visualize the topics\n",
    "pyLDAvis.enable_notebook()\n",
    "vis = pyLDAvis.gensim_models.prepare(lda_model, corpus, id2word)\n",
    "vis"
   ]
  },
  {
   "cell_type": "markdown",
   "metadata": {},
   "source": [
    "Riprendere dal punto 16\n",
    "link : https://www.machinelearningplus.com/nlp/topic-modeling-gensim-python/#20topicdistributionacrossdocuments"
   ]
  }
 ],
 "metadata": {
  "interpreter": {
   "hash": "3fc711e4ee2b6550a1e55fb58a23702f691a325dedbbea2e10fa55c056de4b98"
  },
  "kernelspec": {
   "display_name": "Python 3.10.4 ('venvdicaro': venv)",
   "language": "python",
   "name": "python3"
  },
  "language_info": {
   "codemirror_mode": {
    "name": "ipython",
    "version": 3
   },
   "file_extension": ".py",
   "mimetype": "text/x-python",
   "name": "python",
   "nbconvert_exporter": "python",
   "pygments_lexer": "ipython3",
   "version": "3.10.4"
  },
  "orig_nbformat": 4
 },
 "nbformat": 4,
 "nbformat_minor": 2
}
