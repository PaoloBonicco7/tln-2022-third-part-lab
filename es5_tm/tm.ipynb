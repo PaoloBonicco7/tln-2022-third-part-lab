{
 "cells": [
  {
   "cell_type": "markdown",
   "metadata": {},
   "source": [
    "# Esercizio 5 - Topic Modeling"
   ]
  },
  {
   "cell_type": "markdown",
   "metadata": {},
   "source": [
    "In questo esercizio facciamo un po' di pratica con la libreria di gensim per il topic modeling. Lo scopo di quest'esercizio \n",
    "è quello di creare un modello di topic in grado di riconoscere di quali argomenti parla un certo documento."
   ]
  },
  {
   "cell_type": "markdown",
   "metadata": {},
   "source": [
    "### Imports"
   ]
  },
  {
   "cell_type": "code",
   "execution_count": 1,
   "metadata": {},
   "outputs": [],
   "source": [
    "from gensim.test.utils import simple_preprocess\n",
    "from gensim.corpora.dictionary import Dictionary\n",
    "from gensim import models\n",
    "from pprint import pprint\n",
    "from nltk.corpus import stopwords\n",
    "from nltk.tokenize import word_tokenize"
   ]
  },
  {
   "cell_type": "markdown",
   "metadata": {},
   "source": [
    "### Methods"
   ]
  },
  {
   "cell_type": "code",
   "execution_count": 2,
   "metadata": {},
   "outputs": [],
   "source": [
    "def get_text_from_file(path):\n",
    "    file = []\n",
    "    stop_words = set(stopwords.words('english'))\n",
    "    with open (path, 'r') as f:\n",
    "        for row in f:\n",
    "            filtered_s = [w for w in word_tokenize(row) if not w.lower() in stop_words]\n",
    "            file.append(simple_preprocess(str(filtered_s), deacc=True))\n",
    "    f.close()\n",
    "    return file"
   ]
  },
  {
   "cell_type": "markdown",
   "metadata": {},
   "source": [
    "### Algorithm"
   ]
  },
  {
   "cell_type": "code",
   "execution_count": 4,
   "metadata": {},
   "outputs": [
    {
     "name": "stdout",
     "output_type": "stream",
     "text": [
      "[(0,\n",
      "  [('first', -0.462781393623251),\n",
      "   ('messi', -0.21966056064622863),\n",
      "   ('barcelona', -0.20269615925240717),\n",
      "   ('goal', -0.20157027257970067),\n",
      "   ('team', -0.20157027257970067),\n",
      "   ('played', -0.19251670363509746),\n",
      "   ('goals', -0.1751957131788719),\n",
      "   ('may', -0.15926407343709137),\n",
      "   ('scored', -0.15349399210934409),\n",
      "   ('season', -0.13797607086089642)]),\n",
      " (1,\n",
      "  [('th', 0.38253950780567636),\n",
      "   ('subspecies', 0.2744421118377295),\n",
      "   ('vary', 0.2330977784305346),\n",
      "   ('populations', 0.2330977784305346),\n",
      "   ('described', 0.2211605413439215),\n",
      "   ('within', 0.21365605054723544),\n",
      "   ('characteristics', 0.19126975390283818),\n",
      "   ('colouration', 0.19126975390283818),\n",
      "   ('hence', 0.19126975390283818),\n",
      "   ('body', 0.19126975390283818)]),\n",
      " (2,\n",
      "  [('free', -0.4545936960449252),\n",
      "   ('throw', -0.45459369604492517),\n",
      "   ('percentage', -0.3953616345699818),\n",
      "   ('season', -0.2702302072735968),\n",
      "   ('career', -0.18416320166125996),\n",
      "   ('shooter', -0.15629615963745505),\n",
      "   ('high', -0.15629615963745497),\n",
      "   ('first', 0.14377144788371218),\n",
      "   ('end', -0.14358623987267433),\n",
      "   ('curry', -0.13684381716875865)])]\n"
     ]
    }
   ],
   "source": [
    "text = get_text_from_file('../res/topics.txt')\n",
    "common_dictionary = Dictionary(text)\n",
    "common_corpus = [common_dictionary.doc2bow(line) for line in text]\n",
    "\n",
    "lsi_model = models.LsiModel(common_corpus, id2word = common_dictionary, num_topics=3)\n",
    "# pprint(lsi_model.print_topics(4))\n",
    "pprint(lsi_model.show_topics(3, formatted=False))"
   ]
  }
 ],
 "metadata": {
  "kernelspec": {
   "display_name": "Python 3.10.4 ('venvdicaro': venv)",
   "language": "python",
   "name": "python3"
  },
  "language_info": {
   "codemirror_mode": {
    "name": "ipython",
    "version": 3
   },
   "file_extension": ".py",
   "mimetype": "text/x-python",
   "name": "python",
   "nbconvert_exporter": "python",
   "pygments_lexer": "ipython3",
   "version": "3.10.4"
  },
  "orig_nbformat": 4,
  "vscode": {
   "interpreter": {
    "hash": "3fc711e4ee2b6550a1e55fb58a23702f691a325dedbbea2e10fa55c056de4b98"
   }
  }
 },
 "nbformat": 4,
 "nbformat_minor": 2
}
