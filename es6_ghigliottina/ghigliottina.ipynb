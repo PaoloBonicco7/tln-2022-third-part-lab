{
 "cells": [
  {
   "cell_type": "markdown",
   "metadata": {},
   "source": [
    "tempo:\n",
    "- ammazzare \n",
    "\n",
    "- ingannare \n",
    "\n",
    "- pioggia \n",
    "\n",
    "- mele \n",
    "\n",
    "- spazio\n",
    "\n",
    "Cercare le parole nelle frasi del dataset, restiruire le frasi che le cotnengono.\n",
    "pulire le frasi ottenute, per restituire \"tempo\" da \"ammazzare il tempo\" (stopwords e initialwords)\n",
    "restituirer la parola più frequente tra quelle restituite"
   ]
  },
  {
   "cell_type": "code",
   "execution_count": 135,
   "metadata": {},
   "outputs": [],
   "source": [
    "from nltk.corpus import stopwords"
   ]
  },
  {
   "cell_type": "code",
   "execution_count": 77,
   "metadata": {},
   "outputs": [],
   "source": [
    "WORDS_1 = ['ammazzare', 'ingannare', 'pioggia', 'mele', 'spazio']\n",
    "WORDS_2 = ['']"
   ]
  },
  {
   "cell_type": "code",
   "execution_count": 78,
   "metadata": {},
   "outputs": [],
   "source": [
    "def remove_stop_words_ita(phrase):\n",
    "    stop_words = stopwords.words('italian')\n",
    "    phrase = phrase.split()\n",
    "    phrase = [word for word in phrase if word not in stop_words]\n",
    "    return phrase"
   ]
  },
  {
   "cell_type": "code",
   "execution_count": 130,
   "metadata": {},
   "outputs": [],
   "source": [
    "def check_dataset(path):\n",
    "    phrases = []    \n",
    "    with open(path, 'r') as file:\n",
    "        for line in file:\n",
    "            for word in WORDS:\n",
    "                if word.lower() in line.lower():  # Salviamo le frasi che contengono le parole in input\n",
    "                    line = line.lower()\n",
    "                    line = line.replace(word, '')\n",
    "                    phrases.append(remove_stop_words_ita(line)) # Rimuoviamo dalla frase le stopword e le parole in input\n",
    "    return phrases"
   ]
  },
  {
   "cell_type": "code",
   "execution_count": 133,
   "metadata": {},
   "outputs": [],
   "source": [
    "def most_frequent_words(phrases):\n",
    "    words = {}\n",
    "    for phrase in phrases:\n",
    "        for word in phrase:\n",
    "            if word in words:\n",
    "                words[word] += 1\n",
    "            else:\n",
    "                words[word] = 1\n",
    "    return words"
   ]
  },
  {
   "cell_type": "code",
   "execution_count": 134,
   "metadata": {},
   "outputs": [
    {
     "name": "stdout",
     "output_type": "stream",
     "text": [
      "[['tempo'], ['tempo']]\n",
      "{'tempo': 2}\n"
     ]
    }
   ],
   "source": [
    "ph = check_dataset('..\\ghigliottina.txt')\n",
    "print(ph)\n",
    "print(most_frequent_words(ph))"
   ]
  }
 ],
 "metadata": {
  "kernelspec": {
   "display_name": "Python 3.10.4 64-bit",
   "language": "python",
   "name": "python3"
  },
  "language_info": {
   "codemirror_mode": {
    "name": "ipython",
    "version": 3
   },
   "file_extension": ".py",
   "mimetype": "text/x-python",
   "name": "python",
   "nbconvert_exporter": "python",
   "pygments_lexer": "ipython3",
   "version": "3.10.4"
  },
  "orig_nbformat": 4,
  "vscode": {
   "interpreter": {
    "hash": "6847c98a8f86b01c6a19c518cd2f366693b80566b266804d5ca763cbb223f52b"
   }
  }
 },
 "nbformat": 4,
 "nbformat_minor": 2
}
