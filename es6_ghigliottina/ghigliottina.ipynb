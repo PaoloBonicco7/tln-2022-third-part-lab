{
 "cells": [
  {
   "cell_type": "markdown",
   "metadata": {},
   "source": [
    "tempo:\n",
    "- ammazzare \n",
    "\n",
    "- ingannare \n",
    "\n",
    "- pioggia \n",
    "\n",
    "- mele \n",
    "\n",
    "- spazio\n",
    "\n",
    "Cercare le parole nelle frasi del dataset, restiruire le frasi che le cotnengono.\n",
    "pulire le frasi ottenute, per restituire \"tempo\" da \"ammazzare il tempo\" (stopwords e initialwords)\n",
    "restituirer la parola più frequente tra quelle restituite"
   ]
  },
  {
   "cell_type": "code",
   "execution_count": 72,
   "metadata": {},
   "outputs": [],
   "source": [
    "from nltk.corpus import stopwords"
   ]
  },
  {
   "cell_type": "code",
   "execution_count": 73,
   "metadata": {},
   "outputs": [],
   "source": [
    "WORDS_1 = ['ammazzare', 'ingannare', 'pioggia', 'mele', 'spazio']\n",
    "WORDS_2 = ['bicchiere', 'mulino', 'gocce', 'gola', 'buco']\n",
    "WORDS_3 = ['campa', 'battaglia', 'razza', 'Troia', 'vecchio']\n",
    "WORDS_4 = ['giallo', 'cane', 'scimmia', 'rubato', 'amore']\n",
    "WORDS_5 = ['attività', 'famiglia', 'rubato', 'fiume', 'nido']\n",
    "WORDS_6 = ['color', 'dietro', 'pietra', 'bianca', 'andare']\n",
    "WORDS_7 = ['bollicine', 'da Gama']\n",
    "WORDS_8 = ['sangue', 'auto', 'vertigo', 'zucchero', 'cielo']"
   ]
  },
  {
   "cell_type": "code",
   "execution_count": 74,
   "metadata": {},
   "outputs": [],
   "source": [
    "def remove_stop_words_ita(phrase):\n",
    "    stop_words = stopwords.words('italian')\n",
    "    phrase = phrase.split()\n",
    "    phrase = [word for word in phrase if word not in stop_words]\n",
    "    return phrase"
   ]
  },
  {
   "cell_type": "code",
   "execution_count": 75,
   "metadata": {},
   "outputs": [],
   "source": [
    "def check_dataset(path, words):\n",
    "    phrases = []    \n",
    "    with open(path, 'r') as file:\n",
    "        for line in file:\n",
    "            for word in words:\n",
    "                if word.lower() in line.lower():  # Salviamo le frasi che contengono le parole in input\n",
    "                    line = line.lower()\n",
    "                    line = line.replace(word, '')\n",
    "                    phrases.append(remove_stop_words_ita(line)) # Rimuoviamo dalla frase le stopword e le parole in input\n",
    "    return phrases"
   ]
  },
  {
   "cell_type": "code",
   "execution_count": 76,
   "metadata": {},
   "outputs": [],
   "source": [
    "def most_frequent_words(phrases):\n",
    "    words = {}\n",
    "    for phrase in phrases:\n",
    "        for word in phrase:\n",
    "            if word in words:\n",
    "                words[word] += 1\n",
    "            else:\n",
    "                words[word] = 1\n",
    "    return words"
   ]
  },
  {
   "cell_type": "code",
   "execution_count": 77,
   "metadata": {},
   "outputs": [],
   "source": [
    "def get_most_frequent_word(words):\n",
    "    max_word = ''\n",
    "    max_count = 0\n",
    "    for word in words:\n",
    "        if words[word] > max_count:\n",
    "            max_word = word\n",
    "            max_count = words[word]\n",
    "    return max_word"
   ]
  },
  {
   "cell_type": "code",
   "execution_count": 78,
   "metadata": {},
   "outputs": [
    {
     "name": "stdout",
     "output_type": "stream",
     "text": [
      "{'blu': 5, 'apriti': 1, '!': 1, 'tuttavia': 1, 'risulta': 1, 'documenti': 1, 'storici': 1, 'stato': 1, 'proprio': 1, 'buridano': 1, 're': 1, 'tale': 1, 'apologo': 1, 'cavar': 2, 'rapa': 1, 'muro': 1, 'gelare': 1, 'vene': 1, 'lacrime': 1, 'altra': 1, 'metã': 1, 'settimo': 1, 'essere': 1, 'sxm': 1, 'misto': 1, 'oro,': 1, 'incenso': 1, 'birra': 1, 'fornaciari': 1, 'freddo': 1, 'teatro': 1, 'orrori': 1, 'metallo': 2, 'sopra': 1, 'berlino': 1, '(der': 1, 'himmel': 1, 'ã¼ber': 1, 'berlin),': 1, 'regia': 4, 'wim': 1, 'wenders': 1, '(1987)': 1, 'donna': 1, 'visse': 1, 'due': 1, 'volte': 1, '(),': 1, 'alfred': 1, 'hitchcock': 1, '(1958)': 1, '(aggiunto': 2, '2012)': 2, 'giorni': 1, '(days': 1, 'of': 1, 'heaven),': 1, 'terrence': 1, 'malick': 1, '(1978)': 1, '(kind': 1, 'hearts': 1, 'and': 1, 'coronets),': 1, 'robert': 1, 'hamer': 1, '(1949)': 1}\n",
      "\n",
      "['sangue', 'auto', 'vertigo', 'zucchero', 'cielo']La sesta parola è: blu\n"
     ]
    }
   ],
   "source": [
    "ph = check_dataset('..\\ghigliottina.txt', WORDS_8)\n",
    "#print(ph)\n",
    "dict = most_frequent_words(ph)\n",
    "print(dict)\n",
    "answer = get_most_frequent_word(dict)\n",
    "print(f\"\\n{WORDS_8}La sesta parola è: {answer}\")"
   ]
  }
 ],
 "metadata": {
  "kernelspec": {
   "display_name": "Python 3.10.4 64-bit",
   "language": "python",
   "name": "python3"
  },
  "language_info": {
   "codemirror_mode": {
    "name": "ipython",
    "version": 3
   },
   "file_extension": ".py",
   "mimetype": "text/x-python",
   "name": "python",
   "nbconvert_exporter": "python",
   "pygments_lexer": "ipython3",
   "version": "3.10.4"
  },
  "orig_nbformat": 4,
  "vscode": {
   "interpreter": {
    "hash": "6847c98a8f86b01c6a19c518cd2f366693b80566b266804d5ca763cbb223f52b"
   }
  }
 },
 "nbformat": 4,
 "nbformat_minor": 2
}
