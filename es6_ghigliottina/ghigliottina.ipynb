{
 "cells": [
  {
   "cell_type": "markdown",
   "metadata": {},
   "source": [
    "tempo:\n",
    "- ammazzare \n",
    "\n",
    "- ingannare \n",
    "\n",
    "- pioggia \n",
    "\n",
    "- mele \n",
    "\n",
    "- spazio\n",
    "\n",
    "Cercare le parole nelle frasi del dataset, restiruire le frasi che le cotnengono.\n",
    "pulire le frasi ottenute, per restituire \"tempo\" da \"ammazzare il tempo\" (stopwords e initialwords)\n",
    "restituirer la parola più frequente tra quelle restituite"
   ]
  },
  {
   "cell_type": "code",
   "execution_count": 207,
   "metadata": {},
   "outputs": [],
   "source": [
    "from nltk.corpus import stopwords\n",
    "import urllib.parse as up\n",
    "import urllib.request as urlo\n",
    "import json\n",
    "import gzip\n",
    "from io import BytesIO\n",
    "#print(stopwords.words('italian'))"
   ]
  },
  {
   "cell_type": "code",
   "execution_count": 208,
   "metadata": {},
   "outputs": [],
   "source": [
    "WORDS_1 = ['ammazzare', 'ingannare', 'pioggia', 'mele', 'spazio']\n",
    "WORDS_2 = ['bicchiere', 'mulino', 'gocce', 'gola', 'buco']\n",
    "WORDS_3 = ['campa', 'battaglia', 'razza', 'Troia', 'vecchio']\n",
    "WORDS_4 = ['giallo', 'cane', 'scimmia', 'rubato', 'amore']\n",
    "WORDS_5 = ['attività', 'famiglia', 'rubato', 'fiume', 'nido']\n",
    "WORDS_6 = ['color', 'dietro', 'pietra', 'bianca', 'andare']\n",
    "WORDS_7 = ['bollicine', 'da Gama']"
   ]
  },
  {
   "cell_type": "code",
   "execution_count": 209,
   "metadata": {},
   "outputs": [],
   "source": [
    "def remove_stop_words_ita(phrase):\n",
    "    stop_words = stopwords.words('italian')\n",
    "    phrase = phrase.split()\n",
    "    phrase = [word for word in phrase if word not in stop_words]\n",
    "    return phrase"
   ]
  },
  {
   "cell_type": "code",
   "execution_count": 210,
   "metadata": {},
   "outputs": [],
   "source": [
    "def check_dataset(path, words):\n",
    "    phrases = []    \n",
    "    with open(path, 'r') as file:\n",
    "        for line in file:\n",
    "            for word in words:\n",
    "                if word.lower() in line.lower():  # Salviamo le frasi che contengono le parole in input\n",
    "                    line = line.lower()\n",
    "                    line = line.replace(word, '')\n",
    "                    phrases.append(remove_stop_words_ita(line)) # Rimuoviamo dalla frase le stopword e le parole in input\n",
    "    return phrases"
   ]
  },
  {
   "cell_type": "code",
   "execution_count": 211,
   "metadata": {},
   "outputs": [],
   "source": [
    "def most_frequent_words(phrases):\n",
    "    words = {}\n",
    "    for phrase in phrases:\n",
    "        for word in phrase:\n",
    "            if word in words:\n",
    "                words[word] += 1\n",
    "            else:\n",
    "                words[word] = 1\n",
    "    return words"
   ]
  },
  {
   "cell_type": "code",
   "execution_count": 212,
   "metadata": {},
   "outputs": [],
   "source": [
    "def get_most_frequent_word(words):\n",
    "    max_word = ''\n",
    "    max_count = 0\n",
    "    for word in words:\n",
    "        if words[word] > max_count:\n",
    "            max_word = word\n",
    "            max_count = words[word]\n",
    "    return max_word"
   ]
  },
  {
   "cell_type": "code",
   "execution_count": 213,
   "metadata": {},
   "outputs": [
    {
     "name": "stdout",
     "output_type": "stream",
     "text": [
      "{'vasco': 2, 'rossi': 1, 'gama': 1}\n",
      "\n",
      "['bollicine', 'da Gama']La sesta parola è: vasco\n"
     ]
    }
   ],
   "source": [
    "ph = check_dataset('..\\ghigliottina.txt', WORDS_7)\n",
    "#print(ph)\n",
    "dict = most_frequent_words(ph)\n",
    "print(dict)\n",
    "answer = get_most_frequent_word(dict)\n",
    "print(f\"\\n{WORDS_7}La sesta parola è: {answer}\")"
   ]
  },
  {
   "cell_type": "markdown",
   "metadata": {},
   "source": [
    "### BABELNET"
   ]
  },
  {
   "cell_type": "code",
   "execution_count": 214,
   "metadata": {},
   "outputs": [],
   "source": [
    "def get_indexes_by_word(word):\n",
    "    service_url = 'https://babelnet.io/v6/getSynsetIds'\n",
    "\n",
    "    lemma = word\n",
    "    lang = 'IT'\n",
    "    key  = 'd4bc0872-d933-4516-b456-2063fa7d68ff'\n",
    "\n",
    "    params = {\n",
    "            'lemma' : lemma,\n",
    "            'searchLang' : lang,\n",
    "            'key'  : key\n",
    "    }\n",
    "\n",
    "    url = service_url + '?' + up.urlencode(params)\n",
    "    request = urlo.Request(url)\n",
    "    request.add_header('Accept-encoding', 'gzip')\n",
    "    response = urlo.urlopen(request)\n",
    "\n",
    "    if response.info().get('Content-Encoding') == 'gzip':\n",
    "            buf = BytesIO( response.read())\n",
    "            f = gzip.GzipFile(fileobj=buf)\n",
    "            data = json.loads(f.read())\n",
    "            for result in data:\n",
    "                return result['id']"
   ]
  },
  {
   "cell_type": "code",
   "execution_count": 215,
   "metadata": {},
   "outputs": [],
   "source": [
    "def get_synset_by_id(id):\n",
    "    service_url = 'https://babelnet.io/v6/getSynset'\n",
    "\n",
    "    key  = 'd4bc0872-d933-4516-b456-2063fa7d68ff'\n",
    "\n",
    "    params = {\n",
    "        'id' : id,\n",
    "        'key'  : key,\n",
    "        'targetLang' : 'IT'\n",
    "    }\n",
    "\n",
    "    url = service_url + '?' + up.urlencode(params)\n",
    "\n",
    "    request = urlo.Request(url)\n",
    "    request.add_header('Accept-encoding', 'gzip')\n",
    "    response = urlo.urlopen(request)\n",
    "    \n",
    "    if response.info().get('Content-Encoding') == 'gzip':\n",
    "        buf = BytesIO(response.read())\n",
    "        f = gzip.GzipFile(fileobj=buf)\n",
    "        data = json.loads(f.read())\n",
    "\n",
    "        # retrieving BabelSense data\n",
    "        senses = data['senses']\n",
    "        for result in senses:\n",
    "            lemma = result.get('lemma')\n",
    "            language = result.get('language')\n",
    "            if language != None:    \n",
    "                print(str(language.encode('utf-8')) + \"\\t\" + str(lemma.encode('utf-8')))\n",
    "\n",
    "        print('\\n')\n",
    "        # retrieving BabelGloss data\n",
    "        glosses = data['glosses']\n",
    "        for result in glosses:\n",
    "            gloss = result.get('gloss')\n",
    "            language = result.get('language')\n",
    "            if language != None:\n",
    "                print(str(language.encode('utf-8')) + \"\\t\" + str(gloss.encode('utf-8')))"
   ]
  },
  {
   "cell_type": "code",
   "execution_count": 216,
   "metadata": {},
   "outputs": [
    {
     "name": "stdout",
     "output_type": "stream",
     "text": [
      "bn:00004847n\n",
      "\n",
      "\n",
      "b'IT'\tb\"Gli ominoidi sono una superfamiglia di primati comprendente l'uomo e le cosiddette scimmie antropomorfe, pi\\xc3\\xb9 simili all'uomo per caratteristiche fisiche e intellettive e comprendenti gli oranghi, gli scimpanz\\xc3\\xa9, i gorilla e i gibboni.\"\n",
      "b'IT'\tb'Superfamiglia di primati'\n"
     ]
    }
   ],
   "source": [
    "index = get_indexes_by_word(\"scimmia\")\n",
    "print(index)\n",
    "if index != []:\n",
    "    get_synset_by_id(index)"
   ]
  }
 ],
 "metadata": {
  "kernelspec": {
   "display_name": "Python 3.10.4 64-bit",
   "language": "python",
   "name": "python3"
  },
  "language_info": {
   "codemirror_mode": {
    "name": "ipython",
    "version": 3
   },
   "file_extension": ".py",
   "mimetype": "text/x-python",
   "name": "python",
   "nbconvert_exporter": "python",
   "pygments_lexer": "ipython3",
   "version": "3.10.4"
  },
  "orig_nbformat": 4,
  "vscode": {
   "interpreter": {
    "hash": "6847c98a8f86b01c6a19c518cd2f366693b80566b266804d5ca763cbb223f52b"
   }
  }
 },
 "nbformat": 4,
 "nbformat_minor": 2
}
