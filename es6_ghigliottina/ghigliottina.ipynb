{
 "cells": [
  {
   "cell_type": "markdown",
   "metadata": {},
   "source": [
    "tempo:\n",
    "- ammazzare \n",
    "\n",
    "- ingannare \n",
    "\n",
    "- pioggia \n",
    "\n",
    "- mele \n",
    "\n",
    "- spazio\n",
    "\n",
    "Cercare le parole nelle frasi del dataset, restiruire le frasi che le cotnengono.\n",
    "pulire le frasi ottenute, per restituire \"tempo\" da \"ammazzare il tempo\" (stopwords e initialwords)\n",
    "restituirer la parola più frequente tra quelle restituite"
   ]
  },
  {
   "cell_type": "code",
   "execution_count": 201,
   "metadata": {},
   "outputs": [],
   "source": [
    "from nltk.corpus import stopwords\n",
    "from translate import Translator\n",
    "#print(stopwords.words('italian'))"
   ]
  },
  {
   "cell_type": "code",
   "execution_count": 211,
   "metadata": {},
   "outputs": [],
   "source": [
    "WORDS_1 = ['ammazzare', 'ingannare', 'pioggia', 'mele', 'spazio']\n",
    "WORDS_2 = ['bicchiere', 'mulino', 'gocce', 'gola', 'buco']\n",
    "WORDS_3 = ['campa', 'battaglia', 'razza', 'Troia', 'San Francesco']"
   ]
  },
  {
   "cell_type": "code",
   "execution_count": 203,
   "metadata": {},
   "outputs": [],
   "source": [
    "def remove_stop_words_ita(phrase):\n",
    "    stop_words = stopwords.words('italian')\n",
    "    phrase = phrase.split()\n",
    "    phrase = [word for word in phrase if word not in stop_words]\n",
    "    return phrase"
   ]
  },
  {
   "cell_type": "code",
   "execution_count": 204,
   "metadata": {},
   "outputs": [],
   "source": [
    "def check_dataset(path, words):\n",
    "    phrases = []    \n",
    "    with open(path, 'r') as file:\n",
    "        for line in file:\n",
    "            for word in words:\n",
    "                if word.lower() in line.lower():  # Salviamo le frasi che contengono le parole in input\n",
    "                    line = line.lower()\n",
    "                    line = line.replace(word, '')\n",
    "                    phrases.append(remove_stop_words_ita(line)) # Rimuoviamo dalla frase le stopword e le parole in input\n",
    "    return phrases"
   ]
  },
  {
   "cell_type": "code",
   "execution_count": 205,
   "metadata": {},
   "outputs": [],
   "source": [
    "def most_frequent_words(phrases):\n",
    "    words = {}\n",
    "    for phrase in phrases:\n",
    "        for word in phrase:\n",
    "            if word in words:\n",
    "                words[word] += 1\n",
    "            else:\n",
    "                words[word] = 1\n",
    "    return words\n",
    "\n",
    "def get_most_frequent_word(words):\n",
    "    max_word = ''\n",
    "    max_count = 0\n",
    "    for word in words:\n",
    "        if words[word] > max_count:\n",
    "            max_word = word\n",
    "            max_count = words[word]\n",
    "    return max_word"
   ]
  },
  {
   "cell_type": "code",
   "execution_count": 212,
   "metadata": {},
   "outputs": [
    {
     "name": "stdout",
     "output_type": "stream",
     "text": [
      "[['cavallo'], ['stare', 'na'], ['cavallo'], ['cavallo'], ['cavallo', 'troia'], ['cavallo', 'san', 'francesco'], ['sordo', 'na'], ['stare', 'na'], ['tirare', 're']]\n",
      "{'cavallo': 5, 'stare': 2, 'na': 3, 'troia': 1, 'san': 1, 'francesco': 1, 'sordo': 1, 'tirare': 1, 're': 1}\n",
      "\n",
      "La sesta parola è: cavallo\n"
     ]
    }
   ],
   "source": [
    "ph = check_dataset('..\\ghigliottina.txt', WORDS_3)\n",
    "print(ph)\n",
    "dict = most_frequent_words(ph)\n",
    "print(dict)\n",
    "answer = get_most_frequent_word(dict)\n",
    "print(f\"\\nLa sesta parola è: {answer}\")"
   ]
  },
  {
   "cell_type": "markdown",
   "metadata": {},
   "source": [
    "### Codice per traduzione con google (pip install translate)\n",
    "L'idea è di tradurre i concetti in inglese, e poi cercare relazioni su wordnet. oppure usare babelneet, ma forse serve una chiave per usarlo\n",
    "\n",
    "IDEA SENZA SENSO, perchè se traduci tempo ottieni time, e per noi tempo vuol dire anche tempo atmosferico, in inglese invece no."
   ]
  },
  {
   "cell_type": "code",
   "execution_count": 210,
   "metadata": {},
   "outputs": [
    {
     "name": "stdout",
     "output_type": "stream",
     "text": [
      "Dio\n"
     ]
    }
   ],
   "source": [
    "translator = Translator(to_lang='it')\n",
    "translation = translator.translate('god')\n",
    "print(translation)"
   ]
  }
 ],
 "metadata": {
  "kernelspec": {
   "display_name": "Python 3.10.4 64-bit",
   "language": "python",
   "name": "python3"
  },
  "language_info": {
   "codemirror_mode": {
    "name": "ipython",
    "version": 3
   },
   "file_extension": ".py",
   "mimetype": "text/x-python",
   "name": "python",
   "nbconvert_exporter": "python",
   "pygments_lexer": "ipython3",
   "version": "3.10.4"
  },
  "orig_nbformat": 4,
  "vscode": {
   "interpreter": {
    "hash": "6847c98a8f86b01c6a19c518cd2f366693b80566b266804d5ca763cbb223f52b"
   }
  }
 },
 "nbformat": 4,
 "nbformat_minor": 2
}
