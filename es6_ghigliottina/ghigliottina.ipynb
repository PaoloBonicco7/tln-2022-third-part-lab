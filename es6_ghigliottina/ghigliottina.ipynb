{
 "cells": [
  {
   "cell_type": "markdown",
   "metadata": {},
   "source": [
    "tempo:\n",
    "- ammazzare \n",
    "\n",
    "- ingannare \n",
    "\n",
    "- pioggia \n",
    "\n",
    "- mele \n",
    "\n",
    "- spazio\n",
    "\n",
    "Cercare le parole nelle frasi del dataset, restiruire le frasi che le cotnengono.\n",
    "pulire le frasi ottenute, per restituire \"tempo\" da \"ammazzare il tempo\" (stopwords e initialwords)\n",
    "restituirer la parola più frequente tra quelle restituite"
   ]
  },
  {
   "cell_type": "code",
   "execution_count": 228,
   "metadata": {},
   "outputs": [],
   "source": [
    "from nltk.corpus import stopwords\n",
    "from translate import Translator\n",
    "#print(stopwords.words('italian'))"
   ]
  },
  {
   "cell_type": "code",
   "execution_count": 229,
   "metadata": {},
   "outputs": [],
   "source": [
    "WORDS_1 = ['ammazzare', 'ingannare', 'pioggia', 'mele', 'spazio']\n",
    "WORDS_2 = ['bicchiere', 'mulino', 'gocce', 'gola', 'buco']\n",
    "WORDS_3 = ['campa', 'battaglia', 'razza', 'Troia', 'vecchio']"
   ]
  },
  {
   "cell_type": "code",
   "execution_count": 230,
   "metadata": {},
   "outputs": [],
   "source": [
    "def remove_stop_words_ita(phrase):\n",
    "    stop_words = stopwords.words('italian')\n",
    "    phrase = phrase.split()\n",
    "    phrase = [word for word in phrase if word not in stop_words]\n",
    "    return phrase"
   ]
  },
  {
   "cell_type": "code",
   "execution_count": 231,
   "metadata": {},
   "outputs": [],
   "source": [
    "def check_dataset(path, words):\n",
    "    phrases = []    \n",
    "    with open(path, 'r') as file:\n",
    "        for line in file:\n",
    "            for word in words:\n",
    "                if word.lower() in line.lower():  # Salviamo le frasi che contengono le parole in input\n",
    "                    line = line.lower()\n",
    "                    line = line.replace(word, '')\n",
    "                    phrases.append(remove_stop_words_ita(line)) # Rimuoviamo dalla frase le stopword e le parole in input\n",
    "    return phrases"
   ]
  },
  {
   "cell_type": "code",
   "execution_count": 232,
   "metadata": {},
   "outputs": [],
   "source": [
    "def most_frequent_words(phrases):\n",
    "    words = {}\n",
    "    for phrase in phrases:\n",
    "        for word in phrase:\n",
    "            if word in words:\n",
    "                words[word] += 1\n",
    "            else:\n",
    "                words[word] = 1\n",
    "    return words\n",
    "\n",
    "def get_most_frequent_word(words):\n",
    "    max_word = ''\n",
    "    max_count = 0\n",
    "    for word in words:\n",
    "        if words[word] > max_count:\n",
    "            max_word = word\n",
    "            max_count = words[word]\n",
    "    return max_word"
   ]
  },
  {
   "cell_type": "code",
   "execution_count": 233,
   "metadata": {},
   "outputs": [
    {
     "name": "stdout",
     "output_type": "stream",
     "text": [
      "[['cavallo'], ['stare', 'na'], ['cavallo'], ['cavallo'], ['cavallo', 'troia'], ['grande', 'fratellogrande'], ['povero', 'quantunque', 'sentisse', 'bene', 'rischioso', 'gioco', 'giocava', 'paura', 'portare', 'soccorso', 'pisa', 'pure', 'volle', 'mancare:', '[â€¦]'], ['sordo', 'na'], ['stare', 'na'], ['tirare', 're'], ['vecchia', 'guardia', 'cucco', 'cucã¹', 'bacucco', 'primo', 'topo', 'toscana'], ['mondo'], ['(o', 'aspetta)', 'cavallo', 'erba', 'cresce'], ['cavallo', 'tienilo', 'orzo', 'paglia'], ['cavallo', 'giovane', 'porta', 'soldati', 'cavallo', 'porta', 'concime'], ['cavallo', 'tardi', 'muta', 'ambiatura'], ['va', 'cavallo', 'giovane', 'va', 'piedi'], ['giovine', 'mano', 'uccello', 'mano', 'ragazzo', 'cavallo', 'mano', 'frate', 'son', 'tre', 'cose', 'strapazzate']]\n",
      "{'cavallo': 11, 'stare': 2, 'na': 3, 'troia': 1, 'grande': 1, 'fratellogrande': 1, 'povero': 1, 'quantunque': 1, 'sentisse': 1, 'bene': 1, 'rischioso': 1, 'gioco': 1, 'giocava': 1, 'paura': 1, 'portare': 1, 'soccorso': 1, 'pisa': 1, 'pure': 1, 'volle': 1, 'mancare:': 1, '[â€¦]': 1, 'sordo': 1, 'tirare': 1, 're': 1, 'vecchia': 1, 'guardia': 1, 'cucco': 1, 'cucã¹': 1, 'bacucco': 1, 'primo': 1, 'topo': 1, 'toscana': 1, 'mondo': 1, '(o': 1, 'aspetta)': 1, 'erba': 1, 'cresce': 1, 'tienilo': 1, 'orzo': 1, 'paglia': 1, 'giovane': 2, 'porta': 2, 'soldati': 1, 'concime': 1, 'tardi': 1, 'muta': 1, 'ambiatura': 1, 'va': 2, 'piedi': 1, 'giovine': 1, 'mano': 3, 'uccello': 1, 'ragazzo': 1, 'frate': 1, 'son': 1, 'tre': 1, 'cose': 1, 'strapazzate': 1}\n",
      "\n",
      "La sesta parola è: cavallo\n"
     ]
    }
   ],
   "source": [
    "ph = check_dataset('..\\ghigliottina.txt', WORDS_3)\n",
    "print(ph)\n",
    "dict = most_frequent_words(ph)\n",
    "print(dict)\n",
    "answer = get_most_frequent_word(dict)\n",
    "print(f\"\\nLa sesta parola è: {answer}\")"
   ]
  },
  {
   "cell_type": "markdown",
   "metadata": {},
   "source": [
    "### Codice per traduzione con google (pip install translate)\n",
    "L'idea è di tradurre i concetti in inglese, e poi cercare relazioni su wordnet. oppure usare babelneet, ma forse serve una chiave per usarlo\n",
    "\n",
    "IDEA SENZA SENSO, perchè se traduci tempo ottieni time, e per noi tempo vuol dire anche tempo atmosferico, in inglese invece no."
   ]
  },
  {
   "cell_type": "code",
   "execution_count": 234,
   "metadata": {},
   "outputs": [
    {
     "name": "stdout",
     "output_type": "stream",
     "text": [
      "Dio\n"
     ]
    }
   ],
   "source": [
    "translator = Translator(to_lang='it')\n",
    "translation = translator.translate('god')\n",
    "print(translation)"
   ]
  }
 ],
 "metadata": {
  "kernelspec": {
   "display_name": "Python 3.10.4 64-bit",
   "language": "python",
   "name": "python3"
  },
  "language_info": {
   "codemirror_mode": {
    "name": "ipython",
    "version": 3
   },
   "file_extension": ".py",
   "mimetype": "text/x-python",
   "name": "python",
   "nbconvert_exporter": "python",
   "pygments_lexer": "ipython3",
   "version": "3.10.4"
  },
  "orig_nbformat": 4,
  "vscode": {
   "interpreter": {
    "hash": "6847c98a8f86b01c6a19c518cd2f366693b80566b266804d5ca763cbb223f52b"
   }
  }
 },
 "nbformat": 4,
 "nbformat_minor": 2
}
